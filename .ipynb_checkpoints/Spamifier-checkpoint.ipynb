{
 "cells": [
  {
   "cell_type": "markdown",
   "metadata": {},
   "source": [
    "## Authors: Aishwarya Mathew, Vikram Yabannavar"
   ]
  },
  {
   "cell_type": "markdown",
   "metadata": {},
   "source": [
    "# SPAMIFIER"
   ]
  },
  {
   "cell_type": "markdown",
   "metadata": {},
   "source": [
    "## Introduction"
   ]
  },
  {
   "cell_type": "markdown",
   "metadata": {},
   "source": [
    "Data science is all around us. It is an interdisciplinary field of study that strives to discover meaning behind data. Finding a good first data science project to work on is a hard task. You may know a lot of data science concepts but you get stuck when you want to apply your skills to real world tasks. However, you've come to the right place! Have you ever wanted to make an application that could distinguish between some bad thing and a good thing? This tutorial will do just that. It's actually a basic introduction to the world of data science. This project will teach you how to perform text classification by creating a spam classifier/filter that will distinguish between spam vs. not spam (we call this ham) SMS messages and emails. We will take you through the entire data science lifecycle which includes data collection, data processing, exploratory data analysis and visualization, hypothesis testing, machine learning and insight/policy decision."
   ]
  },
  {
   "cell_type": "markdown",
   "metadata": {},
   "source": [
    "### Tutorial Content\n",
    "\n",
    "In this tutorial, you will learn how to build a text classifier using Scikit-Learn. Scikit-Learn is a popular open source Python library used for machine learning purposes.\n",
    "\n",
    "The spam and ham data for our tutorial will come from a website called Kaggle which is a huge repository for different kinds of data.\n",
    "\n",
    "This tutorial will go over the following topics:\n",
    "\n",
    "* [Importing Libraries](#libraries)\n",
    "<br>\n",
    "* [Loading Data](#load data)\n",
    "<br>\n",
    " - [SMS Data](#sms1)\n",
    "<br>\n",
    " - [Email Data](#email1)\n",
    "<br>\n",
    "* [Processing Data](#process data)\n",
    "<br>\n",
    " - [SMS Data](#sms2)\n",
    "<br>\n",
    " - [Email Data](#email2)\n",
    "<br>\n",
    "* [Exploratory Analysis and Data Visualization](#eda)\n",
    "<br>\n",
    " - [SMS Messages](#spam1)\n",
    "<br>\n",
    " - [Email Messages](#spam2)"
   ]
  },
  {
   "cell_type": "markdown",
   "metadata": {},
   "source": [
    "<a id='libraries'></a>\n",
    "## Importing Libraries"
   ]
  },
  {
   "cell_type": "markdown",
   "metadata": {},
   "source": [
    "Before getting started, you will need to import these libraries which we will use throughout this tutorial."
   ]
  },
  {
   "cell_type": "code",
   "execution_count": 237,
   "metadata": {
    "collapsed": false
   },
   "outputs": [],
   "source": [
    "# Import data manipulation and plotting libraries\n",
    "import pandas as pd\n",
    "import csv\n",
    "import re\n",
    "import string\n",
    "import matplotlib.pyplot as plt\n",
    "import numpy as np\n",
    "# Import Scikit-Learn functions\n",
    "from sklearn import cross_validation\n",
    "from sklearn import svm\n",
    "from sklearn import tree\n",
    "from sklearn import ensemble\n",
    "from sklearn.naive_bayes import MultinomialNB\n",
    "from sklearn.feature_extraction.text import CountVectorizer\n",
    "from sklearn.feature_extraction.text import TfidfTransformer\n",
    "from sklearn import metrics\n",
    "from sklearn.neural_network import BernoulliRBM\n",
    "from sklearn.neighbors.nearest_centroid import NearestCentroid\n",
    "from sklearn.neighbors import KNeighborsClassifier\n",
    "from sklearn import preprocessing"
   ]
  },
  {
   "cell_type": "markdown",
   "metadata": {},
   "source": [
    "<a id='load data'></a>\n",
    "## Loading Data "
   ]
  },
  {
   "cell_type": "markdown",
   "metadata": {},
   "source": [
    "The first step of any data science project is data collection. Kaggle is a dataset website that has a lot of real world data. To get started, you need to click on this link, https://www.kaggle.com/uciml/sms-spam-collection-dataset , to download the SMS spam vs. ham dataset from Kaggle to your local disk. You will have to create a user account on Kaggle to download any of their datasets. Once you have downloaded the 'spam.csv' file, you need to place that file in the same folder as this notebook. For email data, we will use the dataset provided by Andrew Ng's Machine Learning course at Stanford. That data can be found [here](http://openclassroom.stanford.edu/MainFolder/courses/MachineLearning/exercises/ex6materials/ex6DataEmails.zip). Again, after you've downloaded the zipped file, unzip the file and place the four resulting folders in the same folder as this notebook. Once placed, you can run txt_to_csv.py to generate a CSV file of all the files in those folders, or you can download 'email.csv' from the GitHub repository. "
   ]
  },
  {
   "cell_type": "markdown",
   "metadata": {},
   "source": [
    "Next, we will load both datasets into two different pandas dataframes."
   ]
  },
  {
   "cell_type": "markdown",
   "metadata": {},
   "source": [
    "<a id='sms1'></a>\n",
    "### SMS Data"
   ]
  },
  {
   "cell_type": "code",
   "execution_count": 238,
   "metadata": {
    "collapsed": false
   },
   "outputs": [
    {
     "data": {
      "text/html": [
       "<div>\n",
       "<table border=\"1\" class=\"dataframe\">\n",
       "  <thead>\n",
       "    <tr style=\"text-align: right;\">\n",
       "      <th></th>\n",
       "      <th>v1</th>\n",
       "      <th>v2</th>\n",
       "      <th>Unnamed: 2</th>\n",
       "      <th>Unnamed: 3</th>\n",
       "      <th>Unnamed: 4</th>\n",
       "    </tr>\n",
       "  </thead>\n",
       "  <tbody>\n",
       "    <tr>\n",
       "      <th>0</th>\n",
       "      <td>ham</td>\n",
       "      <td>Go until jurong point, crazy.. Available only ...</td>\n",
       "      <td>NaN</td>\n",
       "      <td>NaN</td>\n",
       "      <td>NaN</td>\n",
       "    </tr>\n",
       "    <tr>\n",
       "      <th>1</th>\n",
       "      <td>ham</td>\n",
       "      <td>Ok lar... Joking wif u oni...</td>\n",
       "      <td>NaN</td>\n",
       "      <td>NaN</td>\n",
       "      <td>NaN</td>\n",
       "    </tr>\n",
       "    <tr>\n",
       "      <th>2</th>\n",
       "      <td>spam</td>\n",
       "      <td>Free entry in 2 a wkly comp to win FA Cup fina...</td>\n",
       "      <td>NaN</td>\n",
       "      <td>NaN</td>\n",
       "      <td>NaN</td>\n",
       "    </tr>\n",
       "    <tr>\n",
       "      <th>3</th>\n",
       "      <td>ham</td>\n",
       "      <td>U dun say so early hor... U c already then say...</td>\n",
       "      <td>NaN</td>\n",
       "      <td>NaN</td>\n",
       "      <td>NaN</td>\n",
       "    </tr>\n",
       "    <tr>\n",
       "      <th>4</th>\n",
       "      <td>ham</td>\n",
       "      <td>Nah I don't think he goes to usf, he lives aro...</td>\n",
       "      <td>NaN</td>\n",
       "      <td>NaN</td>\n",
       "      <td>NaN</td>\n",
       "    </tr>\n",
       "  </tbody>\n",
       "</table>\n",
       "</div>"
      ],
      "text/plain": [
       "     v1                                                 v2 Unnamed: 2  \\\n",
       "0   ham  Go until jurong point, crazy.. Available only ...        NaN   \n",
       "1   ham                      Ok lar... Joking wif u oni...        NaN   \n",
       "2  spam  Free entry in 2 a wkly comp to win FA Cup fina...        NaN   \n",
       "3   ham  U dun say so early hor... U c already then say...        NaN   \n",
       "4   ham  Nah I don't think he goes to usf, he lives aro...        NaN   \n",
       "\n",
       "  Unnamed: 3 Unnamed: 4  \n",
       "0        NaN        NaN  \n",
       "1        NaN        NaN  \n",
       "2        NaN        NaN  \n",
       "3        NaN        NaN  \n",
       "4        NaN        NaN  "
      ]
     },
     "execution_count": 238,
     "metadata": {},
     "output_type": "execute_result"
    }
   ],
   "source": [
    "# Read the SMS data into a pandas dataframe\n",
    "SMS_spamham_data = pd.read_csv(\"sms.csv\", encoding='latin-1')\n",
    "SMS_spamham_data.head()"
   ]
  },
  {
   "cell_type": "markdown",
   "metadata": {},
   "source": [
    "<a id='email1'></a>\n",
    "### Email Data"
   ]
  },
  {
   "cell_type": "code",
   "execution_count": 239,
   "metadata": {
    "collapsed": false
   },
   "outputs": [
    {
     "data": {
      "text/html": [
       "<div>\n",
       "<table border=\"1\" class=\"dataframe\">\n",
       "  <thead>\n",
       "    <tr style=\"text-align: right;\">\n",
       "      <th></th>\n",
       "      <th>class</th>\n",
       "      <th>message</th>\n",
       "    </tr>\n",
       "  </thead>\n",
       "  <tbody>\n",
       "    <tr>\n",
       "      <th>0</th>\n",
       "      <td>spam</td>\n",
       "      <td>great parttime summer job display box credit a...</td>\n",
       "    </tr>\n",
       "    <tr>\n",
       "      <th>1</th>\n",
       "      <td>spam</td>\n",
       "      <td>auto insurance rate too high dear nlpeople m s...</td>\n",
       "    </tr>\n",
       "    <tr>\n",
       "      <th>2</th>\n",
       "      <td>spam</td>\n",
       "      <td>want best economical hunt vacation life want b...</td>\n",
       "    </tr>\n",
       "    <tr>\n",
       "      <th>3</th>\n",
       "      <td>spam</td>\n",
       "      <td>email million million email addresses want mon...</td>\n",
       "    </tr>\n",
       "    <tr>\n",
       "      <th>4</th>\n",
       "      <td>spam</td>\n",
       "      <td>amaze world record sex attention warn adult wa...</td>\n",
       "    </tr>\n",
       "  </tbody>\n",
       "</table>\n",
       "</div>"
      ],
      "text/plain": [
       "  class                                            message\n",
       "0  spam  great parttime summer job display box credit a...\n",
       "1  spam  auto insurance rate too high dear nlpeople m s...\n",
       "2  spam  want best economical hunt vacation life want b...\n",
       "3  spam  email million million email addresses want mon...\n",
       "4  spam  amaze world record sex attention warn adult wa..."
      ]
     },
     "execution_count": 239,
     "metadata": {},
     "output_type": "execute_result"
    }
   ],
   "source": [
    "# Read the email data into a pandas dataframe\n",
    "email_spamham_data = pd.read_csv(\"email.csv\", encoding='latin-1')\n",
    "email_spamham_data.head()"
   ]
  },
  {
   "cell_type": "markdown",
   "metadata": {},
   "source": [
    "<a id='process data'></a>\n",
    "## Processing Data"
   ]
  },
  {
   "cell_type": "markdown",
   "metadata": {},
   "source": [
    "As you can see above, our data is not tidy. The SMS dataset has unknown values and unnecessary columns. So our next step is to prepare the data. In the code below, we will process the data to make them clean and easy to use."
   ]
  },
  {
   "cell_type": "markdown",
   "metadata": {},
   "source": [
    "<a id='sms2'></a>\n",
    "### SMS Data"
   ]
  },
  {
   "cell_type": "code",
   "execution_count": 240,
   "metadata": {
    "collapsed": false
   },
   "outputs": [
    {
     "data": {
      "text/html": [
       "<div>\n",
       "<table border=\"1\" class=\"dataframe\">\n",
       "  <thead>\n",
       "    <tr style=\"text-align: right;\">\n",
       "      <th></th>\n",
       "      <th>Spam or Ham</th>\n",
       "      <th>SMS Message</th>\n",
       "    </tr>\n",
       "  </thead>\n",
       "  <tbody>\n",
       "    <tr>\n",
       "      <th>0</th>\n",
       "      <td>ham</td>\n",
       "      <td>Go until jurong point, crazy.. Available only ...</td>\n",
       "    </tr>\n",
       "    <tr>\n",
       "      <th>1</th>\n",
       "      <td>ham</td>\n",
       "      <td>Ok lar... Joking wif u oni...</td>\n",
       "    </tr>\n",
       "    <tr>\n",
       "      <th>2</th>\n",
       "      <td>spam</td>\n",
       "      <td>Free entry in 2 a wkly comp to win FA Cup fina...</td>\n",
       "    </tr>\n",
       "    <tr>\n",
       "      <th>3</th>\n",
       "      <td>ham</td>\n",
       "      <td>U dun say so early hor... U c already then say...</td>\n",
       "    </tr>\n",
       "    <tr>\n",
       "      <th>4</th>\n",
       "      <td>ham</td>\n",
       "      <td>Nah I don't think he goes to usf, he lives aro...</td>\n",
       "    </tr>\n",
       "  </tbody>\n",
       "</table>\n",
       "</div>"
      ],
      "text/plain": [
       "  Spam or Ham                                        SMS Message\n",
       "0         ham  Go until jurong point, crazy.. Available only ...\n",
       "1         ham                      Ok lar... Joking wif u oni...\n",
       "2        spam  Free entry in 2 a wkly comp to win FA Cup fina...\n",
       "3         ham  U dun say so early hor... U c already then say...\n",
       "4         ham  Nah I don't think he goes to usf, he lives aro..."
      ]
     },
     "execution_count": 240,
     "metadata": {},
     "output_type": "execute_result"
    }
   ],
   "source": [
    "# Remove unnecessary columns\n",
    "del SMS_spamham_data['Unnamed: 2']\n",
    "del SMS_spamham_data['Unnamed: 3']\n",
    "del SMS_spamham_data['Unnamed: 4']\n",
    "# Rename the remaining two columns\n",
    "SMS_spamham_data.columns = ['Spam or Ham','SMS Message']\n",
    "\n",
    "# The resulting clean dataframe with our data\n",
    "SMS_spamham_data.head()\n",
    "\n",
    "### Check for missing values"
   ]
  },
  {
   "cell_type": "markdown",
   "metadata": {},
   "source": [
    "<a id='email2'></a>\n",
    "### Email Data"
   ]
  },
  {
   "cell_type": "code",
   "execution_count": 241,
   "metadata": {
    "collapsed": false
   },
   "outputs": [
    {
     "data": {
      "text/html": [
       "<div>\n",
       "<table border=\"1\" class=\"dataframe\">\n",
       "  <thead>\n",
       "    <tr style=\"text-align: right;\">\n",
       "      <th></th>\n",
       "      <th>Spam or Ham</th>\n",
       "      <th>Email</th>\n",
       "    </tr>\n",
       "  </thead>\n",
       "  <tbody>\n",
       "    <tr>\n",
       "      <th>0</th>\n",
       "      <td>spam</td>\n",
       "      <td>great parttime summer job display box credit a...</td>\n",
       "    </tr>\n",
       "    <tr>\n",
       "      <th>1</th>\n",
       "      <td>spam</td>\n",
       "      <td>auto insurance rate too high dear nlpeople m s...</td>\n",
       "    </tr>\n",
       "    <tr>\n",
       "      <th>2</th>\n",
       "      <td>spam</td>\n",
       "      <td>want best economical hunt vacation life want b...</td>\n",
       "    </tr>\n",
       "    <tr>\n",
       "      <th>3</th>\n",
       "      <td>spam</td>\n",
       "      <td>email million million email addresses want mon...</td>\n",
       "    </tr>\n",
       "    <tr>\n",
       "      <th>4</th>\n",
       "      <td>spam</td>\n",
       "      <td>amaze world record sex attention warn adult wa...</td>\n",
       "    </tr>\n",
       "  </tbody>\n",
       "</table>\n",
       "</div>"
      ],
      "text/plain": [
       "  Spam or Ham                                              Email\n",
       "0        spam  great parttime summer job display box credit a...\n",
       "1        spam  auto insurance rate too high dear nlpeople m s...\n",
       "2        spam  want best economical hunt vacation life want b...\n",
       "3        spam  email million million email addresses want mon...\n",
       "4        spam  amaze world record sex attention warn adult wa..."
      ]
     },
     "execution_count": 241,
     "metadata": {},
     "output_type": "execute_result"
    }
   ],
   "source": [
    "# Renaming the two columns for consistency\n",
    "email_spamham_data.columns = ['Spam or Ham','Email']\n",
    "email_spamham_data.head()"
   ]
  },
  {
   "cell_type": "markdown",
   "metadata": {
    "collapsed": false
   },
   "source": [
    "<a id='eda'></a>\n",
    "## Exploratory Analysis and Data Visualization"
   ]
  },
  {
   "cell_type": "markdown",
   "metadata": {},
   "source": [
    "In this section we are going to analyze our processed data. We will look at the most common words that are found in SMS and email spam messages. We will do the same for ham messages. This will help us understand what distinguishes spam messages from ham messages. While we are doing this, we will also plot a few graphs that will help us visualize this data."
   ]
  },
  {
   "cell_type": "markdown",
   "metadata": {},
   "source": [
    "<a id='spam1'></a>\n",
    "### SMS Messages"
   ]
  },
  {
   "cell_type": "markdown",
   "metadata": {},
   "source": [
    "We start by analyzing SMS data."
   ]
  },
  {
   "cell_type": "markdown",
   "metadata": {},
   "source": [
    "#### Finding The Top 50 Frequently Used Words in Spam SMS Messages"
   ]
  },
  {
   "cell_type": "markdown",
   "metadata": {},
   "source": [
    "##### Get frequency of words\n",
    "First, we are going to get the frequency of all the different words used in spam SMS messages."
   ]
  },
  {
   "cell_type": "code",
   "execution_count": 242,
   "metadata": {
    "collapsed": false
   },
   "outputs": [
    {
     "data": {
      "text/html": [
       "<div>\n",
       "<table border=\"1\" class=\"dataframe\">\n",
       "  <thead>\n",
       "    <tr style=\"text-align: right;\">\n",
       "      <th></th>\n",
       "      <th>count</th>\n",
       "    </tr>\n",
       "  </thead>\n",
       "  <tbody>\n",
       "    <tr>\n",
       "      <th>POBOX11414TCRW1</th>\n",
       "      <td>1</td>\n",
       "    </tr>\n",
       "    <tr>\n",
       "      <th>W45WQ</th>\n",
       "      <td>6</td>\n",
       "    </tr>\n",
       "    <tr>\n",
       "      <th>awarded</th>\n",
       "      <td>37</td>\n",
       "    </tr>\n",
       "    <tr>\n",
       "      <th>StdTxtRate</th>\n",
       "      <td>1</td>\n",
       "    </tr>\n",
       "    <tr>\n",
       "      <th>order</th>\n",
       "      <td>11</td>\n",
       "    </tr>\n",
       "  </tbody>\n",
       "</table>\n",
       "</div>"
      ],
      "text/plain": [
       "                 count\n",
       "POBOX11414TCRW1      1\n",
       "W45WQ                6\n",
       "awarded             37\n",
       "StdTxtRate           1\n",
       "order               11"
      ]
     },
     "execution_count": 242,
     "metadata": {},
     "output_type": "execute_result"
    }
   ],
   "source": [
    "# Dictionaries of word -> num occurrences\n",
    "spam_words = {} \n",
    "ham_words = {}\n",
    "\n",
    "# For stripping punctuation\n",
    "translator= str.maketrans('','',string.punctuation)\n",
    "\n",
    "# First, we tokenize the words.\n",
    "# To do this, we strip punctuation and split lines by spaces.\n",
    "# Note that we do not convert to lowercase, so Free, free, and FREE \n",
    "# are all going to be different for our purposes.\n",
    "# If a word isn't in it's respective dictionary (spam_words or ham_words),\n",
    "# we add it with default value 1, otherwise we increment \n",
    "# the word's number of occurrences by 1. \n",
    "\n",
    "for item,row in SMS_spamham_data.iterrows():\n",
    "    # Remove punctuation\n",
    "    line = row['SMS Message'].translate(translator)\n",
    "    # Split by space\n",
    "    line = line.split()\n",
    "    \n",
    "    for word in line:\n",
    "        # If a spam message, add it or increment count\n",
    "        # in spam_words\n",
    "        if row['Spam or Ham'] == 'spam':\n",
    "            if word in spam_words:\n",
    "                spam_words[word] = spam_words[word] + 1\n",
    "            else:\n",
    "                spam_words[word] = 1\n",
    "        # If ham, add or increment in ham_words\n",
    "        else: \n",
    "            if word in ham_words:\n",
    "                ham_words[word] = ham_words[word] + 1\n",
    "            else:\n",
    "                ham_words[word] = 1\n",
    "\n",
    "#creating a dataframe for spam SMS messages\n",
    "SMS_spam_df = pd.DataFrame.from_dict(spam_words,orient='index')\n",
    "#renaming columns\n",
    "SMS_spam_df.columns = ['count']\n",
    "#displaying dataframe\n",
    "SMS_spam_df.head()"
   ]
  },
  {
   "cell_type": "markdown",
   "metadata": {},
   "source": [
    "##### Top 50 frequently used words"
   ]
  },
  {
   "cell_type": "code",
   "execution_count": 243,
   "metadata": {
    "collapsed": false
   },
   "outputs": [
    {
     "data": {
      "text/plain": [
       "to         608\n",
       "a          358\n",
       "call       189\n",
       "your       187\n",
       "or         185\n",
       "you        185\n",
       "the        178\n",
       "2          173\n",
       "for        170\n",
       "is         149\n",
       "on         138\n",
       "Call       137\n",
       "now        131\n",
       "have       128\n",
       "and        119\n",
       "4          119\n",
       "from       116\n",
       "FREE       112\n",
       "ur         107\n",
       "with       102\n",
       "mobile      95\n",
       "of          93\n",
       "U           85\n",
       "claim       78\n",
       "are         77\n",
       "You         77\n",
       "our         76\n",
       "prize       73\n",
       "To          73\n",
       "text        72\n",
       "Your        71\n",
       "Txt         70\n",
       "txt         70\n",
       "in          68\n",
       "STOP        62\n",
       "free        62\n",
       "u           62\n",
       "reply       58\n",
       "only        58\n",
       "contact     56\n",
       "be          50\n",
       "16          49\n",
       "service     49\n",
       "won         49\n",
       "week        48\n",
       "who         48\n",
       "send        47\n",
       "out         47\n",
       "just        47\n",
       "this        46\n",
       "Name: count, dtype: int64"
      ]
     },
     "execution_count": 243,
     "metadata": {},
     "output_type": "execute_result"
    }
   ],
   "source": [
    "SMS_spam_df['count'].nlargest(50)"
   ]
  },
  {
   "cell_type": "markdown",
   "metadata": {},
   "source": [
    "#### Finding The Top 50 Frequently Used Words in Ham SMS Messages"
   ]
  },
  {
   "cell_type": "markdown",
   "metadata": {},
   "source": [
    "##### Get frequency of words\n",
    "We will get the frequency of all the different words used in ham SMS messages."
   ]
  },
  {
   "cell_type": "code",
   "execution_count": 244,
   "metadata": {
    "collapsed": false,
    "scrolled": true
   },
   "outputs": [
    {
     "data": {
      "text/html": [
       "<div>\n",
       "<table border=\"1\" class=\"dataframe\">\n",
       "  <thead>\n",
       "    <tr style=\"text-align: right;\">\n",
       "      <th></th>\n",
       "      <th>count</th>\n",
       "    </tr>\n",
       "  </thead>\n",
       "  <tbody>\n",
       "    <tr>\n",
       "      <th>MRur</th>\n",
       "      <td>1</td>\n",
       "    </tr>\n",
       "    <tr>\n",
       "      <th>draw</th>\n",
       "      <td>4</td>\n",
       "    </tr>\n",
       "    <tr>\n",
       "      <th>youhow</th>\n",
       "      <td>1</td>\n",
       "    </tr>\n",
       "    <tr>\n",
       "      <th>keluviri</th>\n",
       "      <td>1</td>\n",
       "    </tr>\n",
       "    <tr>\n",
       "      <th>tickets</th>\n",
       "      <td>7</td>\n",
       "    </tr>\n",
       "  </tbody>\n",
       "</table>\n",
       "</div>"
      ],
      "text/plain": [
       "          count\n",
       "MRur          1\n",
       "draw          4\n",
       "youhow        1\n",
       "keluviri      1\n",
       "tickets       7"
      ]
     },
     "execution_count": 244,
     "metadata": {},
     "output_type": "execute_result"
    }
   ],
   "source": [
    "#creating dataframe for non-spam SMS messages\n",
    "SMS_ham_df = pd.DataFrame.from_dict(ham_words,orient='index')\n",
    "#renaming columns\n",
    "SMS_ham_df.columns = ['count']\n",
    "#displaying dataframe\n",
    "SMS_ham_df.head()"
   ]
  },
  {
   "cell_type": "markdown",
   "metadata": {},
   "source": [
    "##### Top 50 frequently used words"
   ]
  },
  {
   "cell_type": "code",
   "execution_count": 245,
   "metadata": {
    "collapsed": false,
    "scrolled": true
   },
   "outputs": [
    {
     "data": {
      "text/plain": [
       "you     1624\n",
       "to      1540\n",
       "I       1448\n",
       "the     1021\n",
       "a        971\n",
       "in       759\n",
       "and      740\n",
       "i        737\n",
       "u        716\n",
       "me       701\n",
       "is       656\n",
       "my       620\n",
       "it       518\n",
       "of       504\n",
       "for      480\n",
       "that     440\n",
       "your     374\n",
       "on       364\n",
       "have     349\n",
       "not      344\n",
       "at       338\n",
       "are      322\n",
       "be       318\n",
       "2        305\n",
       "Im       301\n",
       "can      293\n",
       "will     293\n",
       "get      290\n",
       "so       284\n",
       "but      278\n",
       "ltgt     276\n",
       "do       268\n",
       "up       260\n",
       "now      256\n",
       "U        256\n",
       "with     250\n",
       "go       231\n",
       "when     226\n",
       "know     226\n",
       "if       218\n",
       "like     217\n",
       "we       209\n",
       "come     206\n",
       "out      205\n",
       "call     203\n",
       "dont     202\n",
       "got      202\n",
       "all      199\n",
       "this     192\n",
       "was      192\n",
       "Name: count, dtype: int64"
      ]
     },
     "execution_count": 245,
     "metadata": {},
     "output_type": "execute_result"
    }
   ],
   "source": [
    "SMS_ham_df['count'].nlargest(50)"
   ]
  },
  {
   "cell_type": "markdown",
   "metadata": {},
   "source": [
    "Now that we've found the most common words in spam and ham SMS messages, notice that many of the words are similar since words such as 'u','and', and 'the' are common between both. Therefore, we will next find the words most commonly used only in spam SMS messages."
   ]
  },
  {
   "cell_type": "markdown",
   "metadata": {},
   "source": [
    "### Finding words only in spam SMS messages"
   ]
  },
  {
   "cell_type": "markdown",
   "metadata": {},
   "source": [
    "##### Get frequency of words"
   ]
  },
  {
   "cell_type": "code",
   "execution_count": 246,
   "metadata": {
    "collapsed": false
   },
   "outputs": [
    {
     "data": {
      "text/html": [
       "<div>\n",
       "<table border=\"1\" class=\"dataframe\">\n",
       "  <thead>\n",
       "    <tr style=\"text-align: right;\">\n",
       "      <th></th>\n",
       "      <th>count</th>\n",
       "    </tr>\n",
       "  </thead>\n",
       "  <tbody>\n",
       "    <tr>\n",
       "      <th>POBOX11414TCRW1</th>\n",
       "      <td>1</td>\n",
       "    </tr>\n",
       "    <tr>\n",
       "      <th>Classic</th>\n",
       "      <td>1</td>\n",
       "    </tr>\n",
       "    <tr>\n",
       "      <th>W45WQ</th>\n",
       "      <td>6</td>\n",
       "    </tr>\n",
       "    <tr>\n",
       "      <th>awarded</th>\n",
       "      <td>37</td>\n",
       "    </tr>\n",
       "    <tr>\n",
       "      <th>StdTxtRate</th>\n",
       "      <td>1</td>\n",
       "    </tr>\n",
       "  </tbody>\n",
       "</table>\n",
       "</div>"
      ],
      "text/plain": [
       "                 count\n",
       "POBOX11414TCRW1      1\n",
       "Classic              1\n",
       "W45WQ                6\n",
       "awarded             37\n",
       "StdTxtRate           1"
      ]
     },
     "execution_count": 246,
     "metadata": {},
     "output_type": "execute_result"
    }
   ],
   "source": [
    "# Get sets of all words in each dataframe\n",
    "ham_set = set([ line for line in SMS_ham_df.index])\n",
    "spam_set = set([ line for line in SMS_spam_df.index])\n",
    "\n",
    "# Do set difference to get the words found in spam and not in ham\n",
    "only_SMS_spam_set = spam_set.difference(ham_set)\n",
    "\n",
    "# Filter the dataframe\n",
    "# Note: This only contains the words used by spammers\n",
    "only_SMS_spam_df = SMS_spam_df.ix[only_SMS_spam_set]\n",
    "only_SMS_spam_df.head()"
   ]
  },
  {
   "cell_type": "markdown",
   "metadata": {},
   "source": [
    "##### 50 most common words only used in spam SMS messages"
   ]
  },
  {
   "cell_type": "code",
   "execution_count": 247,
   "metadata": {
    "collapsed": false
   },
   "outputs": [
    {
     "data": {
      "text/plain": [
       "claim          78\n",
       "prize          73\n",
       "won            49\n",
       "18             43\n",
       "URGENT         41\n",
       "awarded        37\n",
       "å£1000         35\n",
       "150ppm         32\n",
       "Claim          32\n",
       "å£2000         31\n",
       "TCs            29\n",
       "PO             28\n",
       "å£150          27\n",
       "collection     26\n",
       "tone           26\n",
       "guaranteed     26\n",
       "entry          25\n",
       "500            25\n",
       "GUARANTEED     23\n",
       "WON            23\n",
       "Orange         23\n",
       "150p           22\n",
       "weekly         22\n",
       "å£100          22\n",
       "Holiday        21\n",
       "8007           21\n",
       "SAE            21\n",
       "Box            20\n",
       "Valid          20\n",
       "TC             20\n",
       "å£5000         20\n",
       "WIN            19\n",
       "86688          19\n",
       "Todays         19\n",
       "Prize          19\n",
       "å£500          19\n",
       "mob            18\n",
       "750            18\n",
       "ringtone       18\n",
       "land           18\n",
       "12hrs          17\n",
       "Expires        17\n",
       "vouchers       17\n",
       "Urgent         17\n",
       "TsCs           17\n",
       "tones          17\n",
       "Code           17\n",
       "08000930705    16\n",
       "PRIVATE        16\n",
       "Statement      16\n",
       "Name: count, dtype: int64"
      ]
     },
     "execution_count": 247,
     "metadata": {},
     "output_type": "execute_result"
    }
   ],
   "source": [
    "#getting the top 50 SMS words\n",
    "sms_largest = only_SMS_spam_df['count'].nlargest(50)\n",
    "#getting the top 15 SMS words (used for graphing)\n",
    "sms_fifteen_largest = only_SMS_spam_df['count'].nlargest(15)\n",
    "#displaying top 50\n",
    "sms_largest"
   ]
  },
  {
   "cell_type": "markdown",
   "metadata": {},
   "source": [
    "##### Visualize The Data"
   ]
  },
  {
   "cell_type": "markdown",
   "metadata": {},
   "source": [
    "Since the words we are graphing must be displayed on the X-axis, we have limited our graph to the top 15 words used by spammers. You can see that they correspond to the top 15 words in the sms_largest dataframe. "
   ]
  },
  {
   "cell_type": "code",
   "execution_count": 248,
   "metadata": {
    "collapsed": false
   },
   "outputs": [
    {
     "data": {
      "image/png": "[encoded data removed]",
      "text/plain": [
       "<matplotlib.figure.Figure at 0x2c120cc5cc0>"
      ]
     },
     "metadata": {},
     "output_type": "display_data"
    }
   ],
   "source": [
    "graph_x = list(sms_fifteen_largest.index)\n",
    "graph_y = list(sms_fifteen_largest.get_values())\n",
    "spacing = np.arange(len(graph_x)) #spacing between bars\n",
    "plt.figure(figsize=(16,5))\n",
    "plt.bar(spacing,graph_y,width=0.5,align='center',alpha=1.0)\n",
    "plt.xticks(spacing,graph_x)\n",
    "plt.xlabel('Word')\n",
    "plt.ylabel('Frequency')\n",
    "plt.title('Frequency of top 15 words in Spam SMS Messages')\n",
    "plt.show()"
   ]
  },
  {
   "cell_type": "markdown",
   "metadata": {},
   "source": [
    "Through these transformations, we can conclude that text messages containing words relating to winning prizes or monetary values/symbols have a high likelihood of being a spam text message. The word 'prize' is the highest occurring word in the spam text messages, with 113 occurrences while the next three words are also related to winning or prizes. There also seem to be a trend of poor spacing or unpronounceable combinations of letters and numbers, which are common signs of spam messaging.  Next we will do the same analysis on emails. "
   ]
  },
  {
   "cell_type": "markdown",
   "metadata": {},
   "source": [
    "<a id='spam2'></a>\n",
    "### Email Messages"
   ]
  },
  {
   "cell_type": "markdown",
   "metadata": {},
   "source": [
    "Here, we do the same analysis as above with email data."
   ]
  },
  {
   "cell_type": "markdown",
   "metadata": {},
   "source": [
    "#### Finding The Top 50 Frequently Used Words in Spam Emails"
   ]
  },
  {
   "cell_type": "markdown",
   "metadata": {},
   "source": [
    "##### Get frequency of words"
   ]
  },
  {
   "cell_type": "code",
   "execution_count": 249,
   "metadata": {
    "collapsed": false,
    "scrolled": false
   },
   "outputs": [
    {
     "data": {
      "text/html": [
       "<div>\n",
       "<table border=\"1\" class=\"dataframe\">\n",
       "  <thead>\n",
       "    <tr style=\"text-align: right;\">\n",
       "      <th></th>\n",
       "      <th>count</th>\n",
       "    </tr>\n",
       "  </thead>\n",
       "  <tbody>\n",
       "    <tr>\n",
       "      <th>clearance</th>\n",
       "      <td>15</td>\n",
       "    </tr>\n",
       "    <tr>\n",
       "      <th>innovative</th>\n",
       "      <td>10</td>\n",
       "    </tr>\n",
       "    <tr>\n",
       "      <th>experts</th>\n",
       "      <td>1</td>\n",
       "    </tr>\n",
       "    <tr>\n",
       "      <th>draw</th>\n",
       "      <td>8</td>\n",
       "    </tr>\n",
       "    <tr>\n",
       "      <th>teenporn</th>\n",
       "      <td>2</td>\n",
       "    </tr>\n",
       "  </tbody>\n",
       "</table>\n",
       "</div>"
      ],
      "text/plain": [
       "            count\n",
       "clearance      15\n",
       "innovative     10\n",
       "experts         1\n",
       "draw            8\n",
       "teenporn        2"
      ]
     },
     "execution_count": 249,
     "metadata": {},
     "output_type": "execute_result"
    }
   ],
   "source": [
    "#dictionaries of word -> num occurrences\n",
    "spam_words = {} \n",
    "ham_words = {}\n",
    "\n",
    "#used for stripping punctuation\n",
    "translator= str.maketrans('','',string.punctuation) #for stripping punctuation\n",
    "\n",
    "# First, we tokenize the words.\n",
    "# To do this, we strip punctuation and split lines by spaces.\n",
    "# Note that we do not convert to lowercase, so Free, free, and FREE \n",
    "# are all going to be different for our purposes.\n",
    "# If a word isn't in it's respective dictionary (spam_words or ham_words),\n",
    "# we add it with default value 1, otherwise we increment \n",
    "# the word's number of occurrences by 1. \n",
    "\n",
    "for item,row in email_spamham_data.iterrows():\n",
    "    #remove punctuation\n",
    "    line = row['Email'].translate(translator)\n",
    "    #split by space\n",
    "    line = line.split()\n",
    "    \n",
    "    for word in line:\n",
    "        #if spam email, add it to spam_words hash\n",
    "        if row['Spam or Ham'] == 'spam':\n",
    "            if word in spam_words:\n",
    "                spam_words[word] = spam_words[word] + 1\n",
    "            else:\n",
    "                spam_words[word] = 1\n",
    "        #if ham email, add it to ham_words hash\n",
    "        else: \n",
    "            if word in ham_words:\n",
    "                ham_words[word] = ham_words[word] + 1\n",
    "            else:\n",
    "                ham_words[word] = 1\n",
    "\n",
    "#creating dataframe for spam emails\n",
    "email_spam_df = pd.DataFrame.from_dict(spam_words,orient='index')\n",
    "#renaming columns\n",
    "email_spam_df.columns = ['count']\n",
    "#displaying dataframe\n",
    "email_spam_df.head()"
   ]
  },
  {
   "cell_type": "markdown",
   "metadata": {},
   "source": [
    "##### 50 most frequently used words in spam emails"
   ]
  },
  {
   "cell_type": "code",
   "execution_count": 250,
   "metadata": {
    "collapsed": false
   },
   "outputs": [
    {
     "data": {
      "text/plain": [
       "email          1754\n",
       "s              1572\n",
       "order          1502\n",
       "report         1315\n",
       "address        1300\n",
       "our            1183\n",
       "mail           1173\n",
       "program        1046\n",
       "send           1032\n",
       "free            953\n",
       "list            942\n",
       "receive         887\n",
       "money           873\n",
       "name            871\n",
       "d               841\n",
       "business        753\n",
       "one             732\n",
       "work            675\n",
       "com             670\n",
       "nt              662\n",
       "internet        643\n",
       "http            610\n",
       "please          603\n",
       "day             593\n",
       "information     589\n",
       "over            577\n",
       "check           531\n",
       "us              502\n",
       "market          476\n",
       "web             476\n",
       "each            476\n",
       "want            466\n",
       "call            452\n",
       "site            450\n",
       "follow          437\n",
       "remove          437\n",
       "product         427\n",
       "start           423\n",
       "need            408\n",
       "letter          403\n",
       "week            401\n",
       "here            393\n",
       "service         390\n",
       "every           381\n",
       "software        380\n",
       "include         376\n",
       "credit          375\n",
       "offer           373\n",
       "many            350\n",
       "best            349\n",
       "Name: count, dtype: int64"
      ]
     },
     "execution_count": 250,
     "metadata": {},
     "output_type": "execute_result"
    }
   ],
   "source": [
    "email_spam_df['count'].nlargest(50)"
   ]
  },
  {
   "cell_type": "markdown",
   "metadata": {},
   "source": [
    "#### Finding The Top 50 Frequently Used Words in Ham Emails"
   ]
  },
  {
   "cell_type": "markdown",
   "metadata": {},
   "source": [
    "##### Get frequency of words"
   ]
  },
  {
   "cell_type": "code",
   "execution_count": 251,
   "metadata": {
    "collapsed": false,
    "scrolled": false
   },
   "outputs": [
    {
     "data": {
      "text/html": [
       "<div>\n",
       "<table border=\"1\" class=\"dataframe\">\n",
       "  <thead>\n",
       "    <tr style=\"text-align: right;\">\n",
       "      <th></th>\n",
       "      <th>count</th>\n",
       "    </tr>\n",
       "  </thead>\n",
       "  <tbody>\n",
       "    <tr>\n",
       "      <th>avevo</th>\n",
       "      <td>1</td>\n",
       "    </tr>\n",
       "    <tr>\n",
       "      <th>clearance</th>\n",
       "      <td>1</td>\n",
       "    </tr>\n",
       "    <tr>\n",
       "      <th>innovative</th>\n",
       "      <td>3</td>\n",
       "    </tr>\n",
       "    <tr>\n",
       "      <th>predominately</th>\n",
       "      <td>1</td>\n",
       "    </tr>\n",
       "    <tr>\n",
       "      <th>draw</th>\n",
       "      <td>19</td>\n",
       "    </tr>\n",
       "  </tbody>\n",
       "</table>\n",
       "</div>"
      ],
      "text/plain": [
       "               count\n",
       "avevo              1\n",
       "clearance          1\n",
       "innovative         3\n",
       "predominately      1\n",
       "draw              19"
      ]
     },
     "execution_count": 251,
     "metadata": {},
     "output_type": "execute_result"
    }
   ],
   "source": [
    "#creating dataframe for non-spam emails\n",
    "email_ham_df = pd.DataFrame.from_dict(ham_words,orient='index')\n",
    "#renaming columns\n",
    "email_ham_df.columns = ['count']\n",
    "#displaying dataframe\n",
    "email_ham_df.head()"
   ]
  },
  {
   "cell_type": "markdown",
   "metadata": {},
   "source": [
    "#### 50 most frequently used words in ham emails"
   ]
  },
  {
   "cell_type": "code",
   "execution_count": 252,
   "metadata": {
    "collapsed": false,
    "scrolled": true
   },
   "outputs": [
    {
     "data": {
      "text/plain": [
       "language       1525\n",
       "university     1268\n",
       "s               878\n",
       "linguistic      660\n",
       "de              569\n",
       "information     540\n",
       "conference      495\n",
       "workshop        479\n",
       "english         477\n",
       "e               420\n",
       "email           418\n",
       "one             398\n",
       "paper           395\n",
       "please          371\n",
       "include         368\n",
       "edu             364\n",
       "research        351\n",
       "address         350\n",
       "abstract        340\n",
       "http            335\n",
       "fax             328\n",
       "word            317\n",
       "papers          315\n",
       "h               315\n",
       "d               302\n",
       "speech          301\n",
       "submission      283\n",
       "theory          281\n",
       "www             277\n",
       "m               276\n",
       "linguistics     269\n",
       "system          268\n",
       "follow          266\n",
       "send            261\n",
       "call            254\n",
       "work            250\n",
       "interest        246\n",
       "l               240\n",
       "c               238\n",
       "book            235\n",
       "study           235\n",
       "case            234\n",
       "session         234\n",
       "form            233\n",
       "usa             230\n",
       "uk              230\n",
       "o               219\n",
       "page            219\n",
       "first           217\n",
       "g               216\n",
       "Name: count, dtype: int64"
      ]
     },
     "execution_count": 252,
     "metadata": {},
     "output_type": "execute_result"
    }
   ],
   "source": [
    "email_ham_df['count'].nlargest(50)"
   ]
  },
  {
   "cell_type": "markdown",
   "metadata": {},
   "source": [
    "### Finding Words Only In Spam Emails"
   ]
  },
  {
   "cell_type": "markdown",
   "metadata": {},
   "source": [
    "##### Get frequency of words"
   ]
  },
  {
   "cell_type": "code",
   "execution_count": 253,
   "metadata": {
    "collapsed": false
   },
   "outputs": [
    {
     "data": {
      "text/html": [
       "<div>\n",
       "<table border=\"1\" class=\"dataframe\">\n",
       "  <thead>\n",
       "    <tr style=\"text-align: right;\">\n",
       "      <th></th>\n",
       "      <th>count</th>\n",
       "    </tr>\n",
       "  </thead>\n",
       "  <tbody>\n",
       "    <tr>\n",
       "      <th>teenporn</th>\n",
       "      <td>2</td>\n",
       "    </tr>\n",
       "    <tr>\n",
       "      <th>incidentals</th>\n",
       "      <td>4</td>\n",
       "    </tr>\n",
       "    <tr>\n",
       "      <th>capitalization</th>\n",
       "      <td>1</td>\n",
       "    </tr>\n",
       "    <tr>\n",
       "      <th>vme</th>\n",
       "      <td>2</td>\n",
       "    </tr>\n",
       "    <tr>\n",
       "      <th>updates</th>\n",
       "      <td>5</td>\n",
       "    </tr>\n",
       "  </tbody>\n",
       "</table>\n",
       "</div>"
      ],
      "text/plain": [
       "                count\n",
       "teenporn            2\n",
       "incidentals         4\n",
       "capitalization      1\n",
       "vme                 2\n",
       "updates             5"
      ]
     },
     "execution_count": 253,
     "metadata": {},
     "output_type": "execute_result"
    }
   ],
   "source": [
    "# Get sets of all words in each dataframe\n",
    "ham_set = set([ line for line in email_ham_df.index])\n",
    "spam_set = set([ line for line in email_spam_df.index])\n",
    "\n",
    "# Do set difference to get the words found in spam and not in ham\n",
    "only_email_spam_set = spam_set.difference(ham_set)\n",
    "\n",
    "# Filter the DataFrame\n",
    "#This only contains the words used by spammers\n",
    "only_email_spam_df = email_spam_df.ix[only_email_spam_set]\n",
    "only_email_spam_df.head()"
   ]
  },
  {
   "cell_type": "markdown",
   "metadata": {},
   "source": [
    "##### Top 50 words "
   ]
  },
  {
   "cell_type": "code",
   "execution_count": 254,
   "metadata": {
    "collapsed": false
   },
   "outputs": [
    {
     "data": {
      "text/plain": [
       "nbsp             196\n",
       "capitalfm        196\n",
       "ffa              183\n",
       "floodgate        150\n",
       "aol              133\n",
       "bonus            119\n",
       "mailing          118\n",
       "investment       118\n",
       "profit           111\n",
       "hundred           95\n",
       "reports           93\n",
       "stealth           82\n",
       "links             82\n",
       "millions          75\n",
       "always            75\n",
       "offshore          73\n",
       "sales             67\n",
       "invest            62\n",
       "tm                60\n",
       "mlm               60\n",
       "toll              56\n",
       "amaze             55\n",
       "recruit           55\n",
       "album             54\n",
       "mailer            52\n",
       "xxx               51\n",
       "spam              49\n",
       "cent              48\n",
       "goldrush          48\n",
       "isp               48\n",
       "cable             48\n",
       "hottest           47\n",
       "marketing         47\n",
       "ems               46\n",
       "boyfriend         45\n",
       "tvsr              45\n",
       "campaign          45\n",
       "postage           44\n",
       "undeliverable     43\n",
       "sameday           43\n",
       "chat              43\n",
       "celebrity         43\n",
       "fortune           42\n",
       "addresses         41\n",
       "unlimit           41\n",
       "programs          40\n",
       "guaranteed        40\n",
       "resell            39\n",
       "judicial          39\n",
       "fantastic         38\n",
       "Name: count, dtype: int64"
      ]
     },
     "execution_count": 254,
     "metadata": {},
     "output_type": "execute_result"
    }
   ],
   "source": [
    "# getting top 50 words in spam email\n",
    "email_largest = only_email_spam_df['count'].nlargest(50)\n",
    "# top 15 words in spam email (for graphing)\n",
    "email_fifteen_largest = only_email_spam_df['count'].nlargest(15)\n",
    "#displaying top 50\n",
    "email_largest"
   ]
  },
  {
   "cell_type": "markdown",
   "metadata": {},
   "source": [
    "##### Visualize The Data"
   ]
  },
  {
   "cell_type": "markdown",
   "metadata": {},
   "source": [
    "Since the words we are graphing must be displayed on the X-axis, we have limited our graph to the top 15 words used by spammers. You can see that they correspond to the top 15 words in the email_largest dataframe. "
   ]
  },
  {
   "cell_type": "code",
   "execution_count": 255,
   "metadata": {
    "collapsed": false
   },
   "outputs": [
    {
     "data": {
      "image/png": "[encoded data removed]",
      "text/plain": [
       "<matplotlib.figure.Figure at 0x2c120d9d2e8>"
      ]
     },
     "metadata": {},
     "output_type": "display_data"
    }
   ],
   "source": [
    "graph_x = list(email_fifteen_largest.index)\n",
    "graph_y = list(email_fifteen_largest.get_values())\n",
    "spacing = np.arange(len(graph_x))\n",
    "plt.figure(figsize=(16,5))\n",
    "plt.bar(spacing,graph_y,width=0.5,align='center',color = 'orange',alpha=1.0)\n",
    "plt.xticks(spacing,graph_x)\n",
    "plt.xlabel('Word')\n",
    "plt.ylabel('Frequency')\n",
    "plt.title('Frequency of top 15 words in Spam Emails')\n",
    "plt.show()"
   ]
  },
  {
   "cell_type": "markdown",
   "metadata": {},
   "source": [
    "Through the transformations on email data, we can determine that there are fewer references to money—though 'investment' and 'millions' still made the list—and fewer shorthand acronyms."
   ]
  },
  {
   "cell_type": "markdown",
   "metadata": {},
   "source": [
    "## Finding the Most Common Words Across Spam Email and Spam SMS"
   ]
  },
  {
   "cell_type": "markdown",
   "metadata": {},
   "source": [
    "So far, we've found the common words on SMS and email, respectively. Now, we are going to determine which words are most commonly used in both spam messages and spam emails. "
   ]
  },
  {
   "cell_type": "code",
   "execution_count": 256,
   "metadata": {
    "collapsed": false
   },
   "outputs": [],
   "source": [
    "# Create sets of the data and do set intersection to get common words\n",
    "email_spam = set([ line for line in only_email_spam_df.index])\n",
    "SMS_spam = set([ line for line in only_SMS_spam_df.index])\n",
    "common_words_set = email_spam.intersection(SMS_spam)"
   ]
  },
  {
   "cell_type": "code",
   "execution_count": 257,
   "metadata": {
    "collapsed": false
   },
   "outputs": [
    {
     "data": {
      "text/html": [
       "<div>\n",
       "<table border=\"1\" class=\"dataframe\">\n",
       "  <thead>\n",
       "    <tr style=\"text-align: right;\">\n",
       "      <th></th>\n",
       "      <th>count</th>\n",
       "    </tr>\n",
       "  </thead>\n",
       "  <tbody>\n",
       "    <tr>\n",
       "      <th>growing</th>\n",
       "      <td>4</td>\n",
       "    </tr>\n",
       "    <tr>\n",
       "      <th>sexiest</th>\n",
       "      <td>9</td>\n",
       "    </tr>\n",
       "    <tr>\n",
       "      <th>optin</th>\n",
       "      <td>8</td>\n",
       "    </tr>\n",
       "    <tr>\n",
       "      <th>horny</th>\n",
       "      <td>9</td>\n",
       "    </tr>\n",
       "    <tr>\n",
       "      <th>upgrade</th>\n",
       "      <td>28</td>\n",
       "    </tr>\n",
       "  </tbody>\n",
       "</table>\n",
       "</div>"
      ],
      "text/plain": [
       "         count\n",
       "growing      4\n",
       "sexiest      9\n",
       "optin        8\n",
       "horny        9\n",
       "upgrade     28"
      ]
     },
     "execution_count": 257,
     "metadata": {},
     "output_type": "execute_result"
    }
   ],
   "source": [
    "common = {}\n",
    "\n",
    "# Creating a dict of the frequencies. \n",
    "# For each word, we add the count from \n",
    "# only_email_spam and only_SMS_spam\n",
    "for word in common_words_set:\n",
    "    common[word] = only_email_spam_df.ix[word]['count'] + only_SMS_spam_df.ix[word]['count']\n",
    "\n",
    "# Making a dataframe of common words\n",
    "common_words_df = pd.DataFrame.from_dict(common,orient='index')\n",
    "# renaming columns\n",
    "common_words_df.columns = ['count']\n",
    "# displaying the dataframe\n",
    "common_words_df.head()"
   ]
  },
  {
   "cell_type": "markdown",
   "metadata": {},
   "source": [
    "#### Top 50 Words In Both Email and SMS Spam"
   ]
  },
  {
   "cell_type": "code",
   "execution_count": 258,
   "metadata": {
    "collapsed": false
   },
   "outputs": [
    {
     "data": {
      "text/plain": [
       "bonus          121\n",
       "guaranteed      66\n",
       "won             52\n",
       "marketing       48\n",
       "unsubscribe     43\n",
       "amazing         31\n",
       "largest         30\n",
       "upgrade         28\n",
       "rental          21\n",
       "stamped         21\n",
       "premium         19\n",
       "tips            19\n",
       "newest          18\n",
       "fraction        18\n",
       "singles         17\n",
       "dating          17\n",
       "warranty        17\n",
       "porn            16\n",
       "fastest         16\n",
       "recieve         15\n",
       "abuse           14\n",
       "tune            14\n",
       "fantasy         14\n",
       "charged         12\n",
       "chart           12\n",
       "bundle          11\n",
       "passion         11\n",
       "erotic          10\n",
       "clip            10\n",
       "sexiest          9\n",
       "horny            9\n",
       "entitled         9\n",
       "spree            9\n",
       "quiz             9\n",
       "optin            8\n",
       "discreet         7\n",
       "customers        7\n",
       "arsenal          7\n",
       "records          6\n",
       "improved         6\n",
       "revealed         6\n",
       "deals            6\n",
       "delivered        6\n",
       "companies        5\n",
       "flag             5\n",
       "optout           5\n",
       "growing          4\n",
       "loyalty          4\n",
       "refused          4\n",
       "cast             4\n",
       "Name: count, dtype: int64"
      ]
     },
     "execution_count": 258,
     "metadata": {},
     "output_type": "execute_result"
    }
   ],
   "source": [
    "# getting the top 50\n",
    "common_largest = common_words_df['count'].nlargest(50)\n",
    "# getting the top 15 (for graphing)\n",
    "common_15_largest = common_words_df['count'].nlargest(15)\n",
    "# displaying top 50\n",
    "common_largest"
   ]
  },
  {
   "cell_type": "markdown",
   "metadata": {},
   "source": [
    "##### Visualize The Data"
   ]
  },
  {
   "cell_type": "code",
   "execution_count": 259,
   "metadata": {
    "collapsed": false
   },
   "outputs": [
    {
     "data": {
      "image/png": "[encoded data removed]",
      "text/plain": [
       "<matplotlib.figure.Figure at 0x2c1255506a0>"
      ]
     },
     "metadata": {},
     "output_type": "display_data"
    }
   ],
   "source": [
    "graph_x = list(common_15_largest.index)\n",
    "graph_y = list(common_15_largest.get_values())\n",
    "spacing = np.arange(len(graph_x))\n",
    "plt.figure(figsize=(20,5))\n",
    "plt.bar(spacing,graph_y,width=0.5,align='center',color = 'green',alpha=1.0)\n",
    "plt.xticks(spacing,graph_x)\n",
    "plt.xlabel('Word')\n",
    "plt.ylabel('Occurrences')\n",
    "plt.title('Frequency of top 15 words In Both SMS and Email Spam')\n",
    "plt.show()"
   ]
  },
  {
   "cell_type": "markdown",
   "metadata": {},
   "source": [
    "As demonstrated by the above dataframe and graph, words such as 'bonus', 'guaranteed', and 'won' are common across both SMS and email. Their prevalence indicates that scammers rely on ploys that involve telling the recipient that they have won something, regardless of platform. "
   ]
  },
  {
   "cell_type": "markdown",
   "metadata": {},
   "source": [
    "## Machine Learning"
   ]
  },
  {
   "cell_type": "code",
   "execution_count": 260,
   "metadata": {
    "collapsed": false
   },
   "outputs": [],
   "source": [
    "# We're adding a new column in the SMS dataframe with 0 and 1 indicating\n",
    "# whether a message is spam or not. Spam == 1, ham == 0\n",
    "SMS_spamham_data['sorh'] = np.where(SMS_spamham_data['Spam or Ham'] == 'spam', \n",
    "                                '1', '0')\n",
    "\n",
    "# Creating a list of SMS messages and a corresponding list\n",
    "# of whether that message is spam or ham\n",
    "spam_train_data = list(SMS_spamham_data['SMS Message'])\n",
    "spam_train_target = list(SMS_spamham_data['Spam or Ham'])\n",
    "\n",
    "lb = preprocessing.LabelBinarizer()\n",
    "spam_train_target = np.array([number[0] for number in lb.fit_transform(spam_train_target)])\n",
    "\n",
    "#transforming data\n",
    "count_vect = CountVectorizer(decode_error = 'replace')\n",
    "X_train_counts = count_vect.fit_transform(spam_train_data)\n",
    "tfidf_transformer = TfidfTransformer()\n",
    "X_train_tfidf = tfidf_transformer.fit_transform(X_train_counts)"
   ]
  },
  {
   "cell_type": "markdown",
   "metadata": {},
   "source": [
    "### Calculating Metrics"
   ]
  },
  {
   "cell_type": "code",
   "execution_count": 261,
   "metadata": {
    "collapsed": true
   },
   "outputs": [],
   "source": [
    "# method that calculates accuracy, f1 statistic,\n",
    "# precision, and recall for a provided classifier. \n",
    "\n",
    "def calculate_metrics(classifier,name_of_classifier):\n",
    "    \n",
    "    classifier_score_list = []\n",
    "    classifier_score_list.append(name_of_classifier)\n",
    "\n",
    "    scores0 = cross_validation.cross_val_score(classifier, X_train_tfidf, spam_train_target, cv= 10, scoring = 'accuracy')\n",
    "    data0 = \"Accuracy: %0.4f\" % (scores0.mean())\n",
    "    classifier_score_list.append(data0)\n",
    "        \n",
    "    scores1 = cross_validation.cross_val_score(classifier, X_train_tfidf, spam_train_target, cv=10, scoring = 'f1')\n",
    "    data1 = \"f1: %0.4f \" % (scores1.mean())\n",
    "    classifier_score_list.append(data1)\n",
    "\n",
    "    scores2 = cross_validation.cross_val_score(classifier, X_train_tfidf, spam_train_target, cv=10,scoring = 'precision')\n",
    "    data2 = \"Precision: %0.4f\" % (scores2.mean())\n",
    "    classifier_score_list.append(data2)\n",
    "\n",
    "    scores3 = cross_validation.cross_val_score(classifier, X_train_tfidf, spam_train_target, cv=10, scoring = 'recall')\n",
    "    data3 = \"Recall: %0.4f\" % (scores3.mean())\n",
    "    classifier_score_list.append(data3)\n",
    "    \n",
    "    return classifier_score_list"
   ]
  },
  {
   "cell_type": "markdown",
   "metadata": {},
   "source": [
    "### Evaluating Classifiers"
   ]
  },
  {
   "cell_type": "markdown",
   "metadata": {},
   "source": [
    "Using scikit-learn, we can fit various classifiers on our data to determine which classifier would be better for training a spam filter. "
   ]
  },
  {
   "cell_type": "code",
   "execution_count": 262,
   "metadata": {
    "collapsed": true
   },
   "outputs": [],
   "source": [
    "def evaluate_classifier(classifier):\n",
    "        \n",
    "    if classifier == \"SVM\":\n",
    "        svm_clf = svm.SVC(kernel='linear', C=1).fit(X_train_tfidf,spam_train_target)\n",
    "        classifier_metrics = calculate_metrics(svm_clf,classifier)\n",
    "\n",
    "    elif classifier == \"MultinomialNB\":\n",
    "        mnb_clf = MultinomialNB().fit(X_train_tfidf, spam_train_target)\n",
    "        classifier_metrics = calculate_metrics(mnb_clf,classifier)\n",
    "\n",
    "    elif classifier == \"LinearSVC\":\n",
    "        lsvc_clf = svm.LinearSVC().fit(X_train_tfidf, spam_train_target)\n",
    "        classifier_metrics = calculate_metrics(lsvc_clf,classifier)\n",
    "\n",
    "    elif classifier == \"SGD\":\n",
    "        sgd_clf = linear_model.SGDClassifier().fit(X_train_tfidf,spam_train_target)\n",
    "        classifier_metrics = calculate_metrics(sgd_clf,classifier)\n",
    "\n",
    "    elif classifier == \"NearestCentroid\":\n",
    "        nc_clf = NearestCentroid().fit(X_train_tfidf,spam_train_target)\n",
    "        classifier_metrics = calculate_metrics(nc_clf,classifier)\n",
    "\n",
    "    elif classifier == \"DecisionTree\":\n",
    "        dt_clf = tree.DecisionTreeClassifier(random_state = 0).fit(X_train_tfidf,spam_train_target)\n",
    "        classifier_metrics = calculate_metrics(dt_clf,classifier)\n",
    "\n",
    "    elif classifier == \"AdaBoost\":\n",
    "        ab_clf = ensemble.AdaBoostClassifier().fit(X_train_tfidf,spam_train_target)\n",
    "        classifier_metrics = calculate_metrics(ab_clf,classifier)\n",
    "\n",
    "    elif classifier == \"RandomForest\":\n",
    "        rf_clf = ensemble.RandomForestClassifier().fit(X_train_tfidf,spam_train_target)\n",
    "        classifier_metrics = calculate_metrics(rf_clf,classifier)\n",
    "\n",
    "    elif classifier == \"KNeighbors\":\n",
    "        kn_clf = KNeighborsClassifier(n_neighbors = 3).fit(X_train_tfidf,spam_train_target)\n",
    "        classifier_metrics = calculate_metrics(kn_clf,classifier)\n",
    "\n",
    "    return classifier_metrics"
   ]
  },
  {
   "cell_type": "code",
   "execution_count": 263,
   "metadata": {
    "collapsed": false,
    "scrolled": true
   },
   "outputs": [
    {
     "name": "stdout",
     "output_type": "stream",
     "text": [
      "['SVM', 'Accuracy: 0.9842', 'f1: 0.9380 ', 'Precision: 0.9868', 'Recall: 0.8943']\n",
      "['MultinomialNB', 'Accuracy: 0.9629', 'f1: 0.8385 ', 'Precision: 1.0000', 'Recall: 0.7230']\n",
      "['LinearSVC', 'Accuracy: 0.9833', 'f1: 0.9341 ', 'Precision: 0.9869', 'Recall: 0.8875']\n",
      "['SGD', 'Accuracy: 0.9849', 'f1: 0.9431 ', 'Precision: 0.9854', 'Recall: 0.9023']\n",
      "['NearestCentroid', 'Accuracy: 0.9688', 'f1: 0.8826 ', 'Precision: 0.8897', 'Recall: 0.8768']\n",
      "['DecisionTree', 'Accuracy: 0.9715', 'f1: 0.8913 ', 'Precision: 0.9082', 'Recall: 0.8767']\n",
      "['AdaBoost', 'Accuracy: 0.9745', 'f1: 0.9004 ', 'Precision: 0.9432', 'Recall: 0.8634']\n",
      "['RandomForest', 'Accuracy: 0.9743', 'f1: 0.8929 ', 'Precision: 0.9934', 'Recall: 0.7938']\n",
      "['KNeighbors', 'Accuracy: 0.9244', 'f1: 0.6062 ', 'Precision: 1.0000', 'Recall: 0.4365']\n"
     ]
    }
   ],
   "source": [
    "#running the classifiers, getting their statistics, and printing them\n",
    "\n",
    "SVM = evaluate_classifier(\"SVM\")\n",
    "MultinomialNB = evaluate_classifier(\"MultinomialNB\")\n",
    "LinearSVC = evaluate_classifier(\"LinearSVC\")\n",
    "SGD = evaluate_classifier(\"SGD\")\n",
    "NearestCentroid = evaluate_classifier(\"NearestCentroid\")\n",
    "DecisionTree = evaluate_classifier(\"DecisionTree\")\n",
    "AdaBoost = evaluate_classifier(\"AdaBoost\")\n",
    "RandomForest = evaluate_classifier(\"RandomForest\")\n",
    "KNeighbors = evaluate_classifier(\"KNeighbors\")\n",
    "\n",
    "print(SVM)\n",
    "print(MultinomialNB)\n",
    "print(LinearSVC)\n",
    "print(SGD)\n",
    "print(NearestCentroid)\n",
    "print(DecisionTree)\n",
    "print(AdaBoost)\n",
    "print(RandomForest)\n",
    "print(KNeighbors)"
   ]
  },
  {
   "cell_type": "markdown",
   "metadata": {},
   "source": [
    "#### Bar Graph Showing Classifier Accuracy"
   ]
  },
  {
   "cell_type": "code",
   "execution_count": 264,
   "metadata": {
    "collapsed": false
   },
   "outputs": [
    {
     "data": {
      "image/png": "[encoded data removed]",
      "text/plain": [
       "<matplotlib.figure.Figure at 0x2c125512fd0>"
      ]
     },
     "metadata": {},
     "output_type": "display_data"
    }
   ],
   "source": [
    "#Getting the accuracies as strings\n",
    "accuracy_arr = [SVM[1][10:],MultinomialNB[1][10:],LinearSVC[1][10:],SGD[1][10:],NearestCentroid[1][10:],DecisionTree[1][10:],\\\n",
    "             AdaBoost[1][10:],RandomForest[1][10:],KNeighbors[1][10:]]\n",
    "\n",
    "#converting strings to floats, so we can graph them\n",
    "accuracy_arr = np.array(list(map(float, accuracy_arr))).tolist()\n",
    "\n",
    "#array of classifier names\n",
    "names_arr = ['SVM','MultinomialNB','LinearSVC','SGD','NearestCentroid','DecisionTree','AdaBoost','RandomForest','KNeighbors']\n",
    "\n",
    "#plotting\n",
    "spacing = np.arange(len(names_arr))\n",
    "plt.figure(figsize=(20,5))\n",
    "plt.bar(spacing,accuracy_arr,width=0.5,align='center',color = 'blue',alpha=1.0)\n",
    "plt.xticks(spacing,names_arr)\n",
    "plt.xlabel('Word')\n",
    "plt.ylabel('Occurrences')\n",
    "plt.title('Frequency of top 15 words In Both SMS and Email Spam')\n",
    "\n",
    "# displaying the proportions in the middle of the respective bars\n",
    "for i in spacing:\n",
    "    plt.annotate(\"{:.2f}\".format(accuracy_arr[i]),xy=(i-.15,accuracy_arr[i]/2), color='white',size=15)\n",
    "    \n",
    "plt.show()"
   ]
  },
  {
   "cell_type": "code",
   "execution_count": 265,
   "metadata": {
    "collapsed": true
   },
   "outputs": [],
   "source": [
    "## Next step: Training and testing classifier"
   ]
  },
  {
   "cell_type": "code",
   "execution_count": 266,
   "metadata": {
    "collapsed": true
   },
   "outputs": [],
   "source": [
    "def label(message):\n",
    "        \n",
    "    svm_clf = svm.SVC(kernel='linear', C=1).fit(X_train_tfidf,spam_train_target)\n",
    "        \n",
    "    docs_new = []\n",
    "    docs_new.append(message)\n",
    "        \n",
    "    X_new_counts = count_vect.transform(docs_new)\n",
    "    X_new_tfidf = tfidf_transformer.transform(X_new_counts)\n",
    "    predicted = svm_clf.predict(X_new_tfidf)\n",
    "        \n",
    "    return predicted"
   ]
  },
  {
   "cell_type": "code",
   "execution_count": 269,
   "metadata": {
    "collapsed": false
   },
   "outputs": [
    {
     "data": {
      "text/plain": [
       "1"
      ]
     },
     "execution_count": 269,
     "metadata": {},
     "output_type": "execute_result"
    }
   ],
   "source": [
    "label(\"claim your prize. You've won millions!!\")[0]"
   ]
  },
  {
   "cell_type": "code",
   "execution_count": 270,
   "metadata": {
    "collapsed": false
   },
   "outputs": [
    {
     "data": {
      "text/plain": [
       "0"
      ]
     },
     "execution_count": 270,
     "metadata": {},
     "output_type": "execute_result"
    }
   ],
   "source": [
    "label(\"Hi mom, how are you?\")[0]"
   ]
  },
  {
   "cell_type": "markdown",
   "metadata": {},
   "source": [
    "## Insight"
   ]
  },
  {
   "cell_type": "code",
   "execution_count": null,
   "metadata": {
    "collapsed": true
   },
   "outputs": [],
   "source": []
  },
  {
   "cell_type": "markdown",
   "metadata": {},
   "source": [
    "## Summary and References\n",
    "\n",
    "1. Kaggle: [https://www.kaggle.com/](https://www.kaggle.com/)\n",
    "2. Scikit-Learn: [http://scikit-learn.org/stable/](http://scikit-learn.org/stable/)"
   ]
  }
 ],
 "metadata": {
  "anaconda-cloud": {},
  "kernelspec": {
   "display_name": "Python [conda root]",
   "language": "python",
   "name": "conda-root-py"
  },
  "language_info": {
   "codemirror_mode": {
    "name": "ipython",
    "version": 3
   },
   "file_extension": ".py",
   "mimetype": "text/x-python",
   "name": "python",
   "nbconvert_exporter": "python",
   "pygments_lexer": "ipython3",
   "version": "3.5.2"
  }
 },
 "nbformat": 4,
 "nbformat_minor": 1
}
