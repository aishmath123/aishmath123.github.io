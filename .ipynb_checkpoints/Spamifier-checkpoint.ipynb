{
 "cells": [
  {
   "cell_type": "markdown",
   "metadata": {},
   "source": [
    "## Authors: Aishwarya Mathew, Vikram Yabannavar"
   ]
  },
  {
   "cell_type": "markdown",
   "metadata": {},
   "source": [
    "# SPAMIFIER"
   ]
  },
  {
   "cell_type": "markdown",
   "metadata": {},
   "source": [
    "## Introduction"
   ]
  },
  {
   "cell_type": "markdown",
   "metadata": {},
   "source": [
    "Data science is all around us. It is an interdisciplinary field of study that strives to discover meaning behind data. Finding a good first data science project to work on is a hard task. You may know a lot of data science concepts but you get stuck when you want to apply your skills to real world tasks. However, you've come to the right place! Have you ever wanted to make an application that could distinguish between some bad thing and a good thing? This tutorial will do just that. It's actually a basic introduction to the world of data science. This project will teach you how to perform text classification by creating a spam classifier/filter that will distinguish between spam vs. not spam (we call this ham) SMS messages and emails. We will take you through the entire data science lifecycle which includes data collection, data processing, exploratory data analysis and visualization, hypothesis testing, machine learning and insight/policy decision."
   ]
  },
  {
   "cell_type": "markdown",
   "metadata": {},
   "source": [
    "### Tutorial Content\n",
    "\n",
    "In this tutorial, you will learn how to build a text classifier using Scikit-Learn. Scikit-Learn is a popular open source Python library used for machine learning purposes.\n",
    "\n",
    "The spam and ham data for our tutorial will come from a website called Kaggle which is a huge repository for different kinds of data.\n",
    "\n",
    "This tutorial will go over the following topics:\n",
    "\n",
    "* [Importing Libraries](#libraries)\n",
    "<br>\n",
    "* [Loading Data](#load data)\n",
    "<br>\n",
    " - [SMS Data](#sms1)\n",
    "<br>\n",
    " - [Email Data](#email1)\n",
    "<br>\n",
    "* [Processing Data](#process data)\n",
    "<br>\n",
    " - [SMS Data](#sms2)\n",
    "<br>\n",
    " - [Email Data](#email2)\n",
    "<br>\n",
    "* [Exploratory Analysis and Data Visualization](#eda)\n",
    "<br>\n",
    " - [SMS Messages](#spam1)\n",
    "<br>\n",
    " - [Email Messages](#spam2)"
   ]
  },
  {
   "cell_type": "markdown",
   "metadata": {},
   "source": [
    "<a id='libraries'></a>\n",
    "## Importing Libraries"
   ]
  },
  {
   "cell_type": "markdown",
   "metadata": {},
   "source": [
    "Before getting started, you will need to import these libraries which we will use throughout this tutorial."
   ]
  },
  {
   "cell_type": "code",
   "execution_count": 298,
   "metadata": {
    "collapsed": false
   },
   "outputs": [],
   "source": [
    "# Import data manipulation and plotting libraries\n",
    "import pandas as pd\n",
    "import csv\n",
    "import re\n",
    "import string\n",
    "import matplotlib.pyplot as plt\n",
    "import numpy as np\n",
    "# Import Scikit-Learn functions\n",
    "from sklearn import cross_validation\n",
    "from sklearn import svm\n",
    "from sklearn import tree\n",
    "from sklearn import ensemble\n",
    "from sklearn.naive_bayes import MultinomialNB\n",
    "from sklearn.feature_extraction.text import CountVectorizer\n",
    "from sklearn.feature_extraction.text import TfidfTransformer\n",
    "from sklearn import metrics\n",
    "from sklearn.neural_network import BernoulliRBM\n",
    "from sklearn.neighbors.nearest_centroid import NearestCentroid\n",
    "from sklearn.neighbors import KNeighborsClassifier\n",
    "from sklearn import preprocessing"
   ]
  },
  {
   "cell_type": "markdown",
   "metadata": {},
   "source": [
    "<a id='load data'></a>\n",
    "## Loading Data "
   ]
  },
  {
   "cell_type": "markdown",
   "metadata": {},
   "source": [
    "The first step of any data science project is data collection. Kaggle is a dataset website that has a lot of real world data. To get started, you need to click on this link, https://www.kaggle.com/uciml/sms-spam-collection-dataset , to download the SMS spam vs. ham dataset from Kaggle to your local disk. You will have to create a user account on Kaggle to download any of their datasets. Once you have downloaded the 'spam.csv' file, you need to place that file in the same folder as this notebook. For email data, we will use the dataset provided by Andrew Ng's Machine Learning course at Stanford. That data can be found [here](http://openclassroom.stanford.edu/MainFolder/courses/MachineLearning/exercises/ex6materials/ex6DataEmails.zip). Again, after you've downloaded the zipped file, unzip the file and place ......in the same folder as this notebook."
   ]
  },
  {
   "cell_type": "markdown",
   "metadata": {},
   "source": [
    "Next, we will load both datasets into two different pandas dataframes."
   ]
  },
  {
   "cell_type": "markdown",
   "metadata": {},
   "source": [
    "<a id='sms1'></a>\n",
    "### SMS Data"
   ]
  },
  {
   "cell_type": "code",
   "execution_count": 299,
   "metadata": {
    "collapsed": false
   },
   "outputs": [
    {
     "data": {
      "text/html": [
       "<div>\n",
       "<table border=\"1\" class=\"dataframe\">\n",
       "  <thead>\n",
       "    <tr style=\"text-align: right;\">\n",
       "      <th></th>\n",
       "      <th>v1</th>\n",
       "      <th>v2</th>\n",
       "      <th>Unnamed: 2</th>\n",
       "      <th>Unnamed: 3</th>\n",
       "      <th>Unnamed: 4</th>\n",
       "    </tr>\n",
       "  </thead>\n",
       "  <tbody>\n",
       "    <tr>\n",
       "      <th>0</th>\n",
       "      <td>ham</td>\n",
       "      <td>Go until jurong point, crazy.. Available only ...</td>\n",
       "      <td>NaN</td>\n",
       "      <td>NaN</td>\n",
       "      <td>NaN</td>\n",
       "    </tr>\n",
       "    <tr>\n",
       "      <th>1</th>\n",
       "      <td>ham</td>\n",
       "      <td>Ok lar... Joking wif u oni...</td>\n",
       "      <td>NaN</td>\n",
       "      <td>NaN</td>\n",
       "      <td>NaN</td>\n",
       "    </tr>\n",
       "    <tr>\n",
       "      <th>2</th>\n",
       "      <td>spam</td>\n",
       "      <td>Free entry in 2 a wkly comp to win FA Cup fina...</td>\n",
       "      <td>NaN</td>\n",
       "      <td>NaN</td>\n",
       "      <td>NaN</td>\n",
       "    </tr>\n",
       "    <tr>\n",
       "      <th>3</th>\n",
       "      <td>ham</td>\n",
       "      <td>U dun say so early hor... U c already then say...</td>\n",
       "      <td>NaN</td>\n",
       "      <td>NaN</td>\n",
       "      <td>NaN</td>\n",
       "    </tr>\n",
       "    <tr>\n",
       "      <th>4</th>\n",
       "      <td>ham</td>\n",
       "      <td>Nah I don't think he goes to usf, he lives aro...</td>\n",
       "      <td>NaN</td>\n",
       "      <td>NaN</td>\n",
       "      <td>NaN</td>\n",
       "    </tr>\n",
       "  </tbody>\n",
       "</table>\n",
       "</div>"
      ],
      "text/plain": [
       "     v1                                                 v2 Unnamed: 2  \\\n",
       "0   ham  Go until jurong point, crazy.. Available only ...        NaN   \n",
       "1   ham                      Ok lar... Joking wif u oni...        NaN   \n",
       "2  spam  Free entry in 2 a wkly comp to win FA Cup fina...        NaN   \n",
       "3   ham  U dun say so early hor... U c already then say...        NaN   \n",
       "4   ham  Nah I don't think he goes to usf, he lives aro...        NaN   \n",
       "\n",
       "  Unnamed: 3 Unnamed: 4  \n",
       "0        NaN        NaN  \n",
       "1        NaN        NaN  \n",
       "2        NaN        NaN  \n",
       "3        NaN        NaN  \n",
       "4        NaN        NaN  "
      ]
     },
     "execution_count": 299,
     "metadata": {},
     "output_type": "execute_result"
    }
   ],
   "source": [
    "# Read the SMS data into a pandas dataframe\n",
    "SMS_spamham_data = pd.read_csv(\"sms.csv\", encoding='latin-1')\n",
    "SMS_spamham_data.head()"
   ]
  },
  {
   "cell_type": "markdown",
   "metadata": {},
   "source": [
    "<a id='email1'></a>\n",
    "### Email Data"
   ]
  },
  {
   "cell_type": "code",
   "execution_count": 300,
   "metadata": {
    "collapsed": false
   },
   "outputs": [
    {
     "data": {
      "text/html": [
       "<div>\n",
       "<table border=\"1\" class=\"dataframe\">\n",
       "  <thead>\n",
       "    <tr style=\"text-align: right;\">\n",
       "      <th></th>\n",
       "      <th>class</th>\n",
       "      <th>message</th>\n",
       "    </tr>\n",
       "  </thead>\n",
       "  <tbody>\n",
       "    <tr>\n",
       "      <th>0</th>\n",
       "      <td>spam</td>\n",
       "      <td>great parttime summer job display box credit a...</td>\n",
       "    </tr>\n",
       "    <tr>\n",
       "      <th>1</th>\n",
       "      <td>spam</td>\n",
       "      <td>auto insurance rate too high dear nlpeople m s...</td>\n",
       "    </tr>\n",
       "    <tr>\n",
       "      <th>2</th>\n",
       "      <td>spam</td>\n",
       "      <td>want best economical hunt vacation life want b...</td>\n",
       "    </tr>\n",
       "    <tr>\n",
       "      <th>3</th>\n",
       "      <td>spam</td>\n",
       "      <td>email million million email addresses want mon...</td>\n",
       "    </tr>\n",
       "    <tr>\n",
       "      <th>4</th>\n",
       "      <td>spam</td>\n",
       "      <td>amaze world record sex attention warn adult wa...</td>\n",
       "    </tr>\n",
       "  </tbody>\n",
       "</table>\n",
       "</div>"
      ],
      "text/plain": [
       "  class                                            message\n",
       "0  spam  great parttime summer job display box credit a...\n",
       "1  spam  auto insurance rate too high dear nlpeople m s...\n",
       "2  spam  want best economical hunt vacation life want b...\n",
       "3  spam  email million million email addresses want mon...\n",
       "4  spam  amaze world record sex attention warn adult wa..."
      ]
     },
     "execution_count": 300,
     "metadata": {},
     "output_type": "execute_result"
    }
   ],
   "source": [
    "# Read the email data into a pandas dataframe\n",
    "email_spamham_data = pd.read_csv(\"email.csv\", encoding='latin-1')\n",
    "email_spamham_data.head()"
   ]
  },
  {
   "cell_type": "markdown",
   "metadata": {},
   "source": [
    "<a id='process data'></a>\n",
    "## Processing Data"
   ]
  },
  {
   "cell_type": "markdown",
   "metadata": {},
   "source": [
    "As you can see above, our data is not tidy. The SMS dataset has unknown values and unnecessary columns. So our next step is to prepare the data. In the code below, we will process the data to make them clean and easy to use."
   ]
  },
  {
   "cell_type": "markdown",
   "metadata": {},
   "source": [
    "<a id='sms2'></a>\n",
    "### SMS Data"
   ]
  },
  {
   "cell_type": "code",
   "execution_count": 301,
   "metadata": {
    "collapsed": false
   },
   "outputs": [
    {
     "data": {
      "text/html": [
       "<div>\n",
       "<table border=\"1\" class=\"dataframe\">\n",
       "  <thead>\n",
       "    <tr style=\"text-align: right;\">\n",
       "      <th></th>\n",
       "      <th>Spam or Ham</th>\n",
       "      <th>SMS Message</th>\n",
       "    </tr>\n",
       "  </thead>\n",
       "  <tbody>\n",
       "    <tr>\n",
       "      <th>0</th>\n",
       "      <td>ham</td>\n",
       "      <td>Go until jurong point, crazy.. Available only ...</td>\n",
       "    </tr>\n",
       "    <tr>\n",
       "      <th>1</th>\n",
       "      <td>ham</td>\n",
       "      <td>Ok lar... Joking wif u oni...</td>\n",
       "    </tr>\n",
       "    <tr>\n",
       "      <th>2</th>\n",
       "      <td>spam</td>\n",
       "      <td>Free entry in 2 a wkly comp to win FA Cup fina...</td>\n",
       "    </tr>\n",
       "    <tr>\n",
       "      <th>3</th>\n",
       "      <td>ham</td>\n",
       "      <td>U dun say so early hor... U c already then say...</td>\n",
       "    </tr>\n",
       "    <tr>\n",
       "      <th>4</th>\n",
       "      <td>ham</td>\n",
       "      <td>Nah I don't think he goes to usf, he lives aro...</td>\n",
       "    </tr>\n",
       "  </tbody>\n",
       "</table>\n",
       "</div>"
      ],
      "text/plain": [
       "  Spam or Ham                                        SMS Message\n",
       "0         ham  Go until jurong point, crazy.. Available only ...\n",
       "1         ham                      Ok lar... Joking wif u oni...\n",
       "2        spam  Free entry in 2 a wkly comp to win FA Cup fina...\n",
       "3         ham  U dun say so early hor... U c already then say...\n",
       "4         ham  Nah I don't think he goes to usf, he lives aro..."
      ]
     },
     "execution_count": 301,
     "metadata": {},
     "output_type": "execute_result"
    }
   ],
   "source": [
    "# Remove unnecessary columns\n",
    "del SMS_spamham_data['Unnamed: 2']\n",
    "del SMS_spamham_data['Unnamed: 3']\n",
    "del SMS_spamham_data['Unnamed: 4']\n",
    "# Rename the remaining two columns\n",
    "SMS_spamham_data.columns = ['Spam or Ham','SMS Message']\n",
    "\n",
    "# The resulting clean dataframe with our data\n",
    "SMS_spamham_data.head()\n",
    "\n",
    "### Check for missing values"
   ]
  },
  {
   "cell_type": "markdown",
   "metadata": {},
   "source": [
    "<a id='email2'></a>\n",
    "### Email Data"
   ]
  },
  {
   "cell_type": "markdown",
   "metadata": {},
   "source": [
    "...........SHOULD THIS BE PLACED HERE? We're using data from Andrew Ng's Machine Learning course, which splits the data into training sets and test sets. Since we aren't training on the data yet, we've created a script (included in the GitHub repo) that combines all of these into a convenient CSV for reading into a pandas dataframe. "
   ]
  },
  {
   "cell_type": "code",
   "execution_count": 302,
   "metadata": {
    "collapsed": false
   },
   "outputs": [
    {
     "data": {
      "text/html": [
       "<div>\n",
       "<table border=\"1\" class=\"dataframe\">\n",
       "  <thead>\n",
       "    <tr style=\"text-align: right;\">\n",
       "      <th></th>\n",
       "      <th>Spam or Ham</th>\n",
       "      <th>Email</th>\n",
       "    </tr>\n",
       "  </thead>\n",
       "  <tbody>\n",
       "    <tr>\n",
       "      <th>0</th>\n",
       "      <td>spam</td>\n",
       "      <td>great parttime summer job display box credit a...</td>\n",
       "    </tr>\n",
       "    <tr>\n",
       "      <th>1</th>\n",
       "      <td>spam</td>\n",
       "      <td>auto insurance rate too high dear nlpeople m s...</td>\n",
       "    </tr>\n",
       "    <tr>\n",
       "      <th>2</th>\n",
       "      <td>spam</td>\n",
       "      <td>want best economical hunt vacation life want b...</td>\n",
       "    </tr>\n",
       "    <tr>\n",
       "      <th>3</th>\n",
       "      <td>spam</td>\n",
       "      <td>email million million email addresses want mon...</td>\n",
       "    </tr>\n",
       "    <tr>\n",
       "      <th>4</th>\n",
       "      <td>spam</td>\n",
       "      <td>amaze world record sex attention warn adult wa...</td>\n",
       "    </tr>\n",
       "  </tbody>\n",
       "</table>\n",
       "</div>"
      ],
      "text/plain": [
       "  Spam or Ham                                              Email\n",
       "0        spam  great parttime summer job display box credit a...\n",
       "1        spam  auto insurance rate too high dear nlpeople m s...\n",
       "2        spam  want best economical hunt vacation life want b...\n",
       "3        spam  email million million email addresses want mon...\n",
       "4        spam  amaze world record sex attention warn adult wa..."
      ]
     },
     "execution_count": 302,
     "metadata": {},
     "output_type": "execute_result"
    }
   ],
   "source": [
    "# Rename the two columns\n",
    "email_spamham_data.columns = ['Spam or Ham','Email']\n",
    "email_spamham_data.head()"
   ]
  },
  {
   "cell_type": "markdown",
   "metadata": {
    "collapsed": false
   },
   "source": [
    "<a id='eda'></a>\n",
    "## Exploratory Analysis and Data Visualization"
   ]
  },
  {
   "cell_type": "markdown",
   "metadata": {},
   "source": [
    "In this section we are going to analyze our processed data. We will look at the most common words that are found in SMS and email spam messages. We will do the same for ham messages. This will help us understand what distinguishes spam messages from ham messages. While we are doing this, we will also plot a few graphs that will help us visualize this data."
   ]
  },
  {
   "cell_type": "markdown",
   "metadata": {},
   "source": [
    "<a id='spam1'></a>\n",
    "### SMS Messages"
   ]
  },
  {
   "cell_type": "markdown",
   "metadata": {},
   "source": [
    "We start by analyzing SMS data."
   ]
  },
  {
   "cell_type": "markdown",
   "metadata": {},
   "source": [
    "#### Finding The Top 15 Frequently Used Words in Spam SMS Messages"
   ]
  },
  {
   "cell_type": "markdown",
   "metadata": {},
   "source": [
    "##### Get frequency of words\n",
    "First, we are going to get the frequency of all the different words used in spam SMS messages.\n",
    "\n",
    "Add some more comments below...and lets get the top 50 words instead of 15"
   ]
  },
  {
   "cell_type": "code",
   "execution_count": 303,
   "metadata": {
    "collapsed": false
   },
   "outputs": [
    {
     "data": {
      "text/html": [
       "<div>\n",
       "<table border=\"1\" class=\"dataframe\">\n",
       "  <thead>\n",
       "    <tr style=\"text-align: right;\">\n",
       "      <th></th>\n",
       "      <th>count</th>\n",
       "    </tr>\n",
       "  </thead>\n",
       "  <tbody>\n",
       "    <tr>\n",
       "      <th>MOAN</th>\n",
       "      <td>1</td>\n",
       "    </tr>\n",
       "    <tr>\n",
       "      <th>yer</th>\n",
       "      <td>4</td>\n",
       "    </tr>\n",
       "    <tr>\n",
       "      <th>thesmszonecom</th>\n",
       "      <td>1</td>\n",
       "    </tr>\n",
       "    <tr>\n",
       "      <th>6days</th>\n",
       "      <td>2</td>\n",
       "    </tr>\n",
       "    <tr>\n",
       "      <th>Slow</th>\n",
       "      <td>1</td>\n",
       "    </tr>\n",
       "  </tbody>\n",
       "</table>\n",
       "</div>"
      ],
      "text/plain": [
       "               count\n",
       "MOAN               1\n",
       "yer                4\n",
       "thesmszonecom      1\n",
       "6days              2\n",
       "Slow               1"
      ]
     },
     "execution_count": 303,
     "metadata": {},
     "output_type": "execute_result"
    }
   ],
   "source": [
    "# Dictionaries of word -> num occurrences\n",
    "spam_words = {} \n",
    "ham_words = {}\n",
    "\n",
    "# For stripping punctuation\n",
    "translator= str.maketrans('','',string.punctuation)\n",
    "\n",
    "# We tokenize the words. We strip punctuation but do not convert to lowercase,\n",
    "# so Free, free, and FREE are all going to be different for our purposes.\n",
    "# If a word isn't in dictionary, we add it with default value 1,\n",
    "# else, increment the corresponding count.\n",
    "for item,row in SMS_spamham_data.iterrows():\n",
    "    # Remove punctuation\n",
    "    line = row['SMS Message'].translate(translator)\n",
    "    # Convert lowercase and split by space\n",
    "    line = line.split()\n",
    "    \n",
    "    for word in line:\n",
    "        # If spam\n",
    "        if row['Spam or Ham'] == 'spam':\n",
    "            if word in spam_words:\n",
    "                spam_words[word] = spam_words[word] + 1\n",
    "            else:\n",
    "                spam_words[word] = 1\n",
    "        # If ham\n",
    "        else: \n",
    "            if word in ham_words:\n",
    "                ham_words[word] = ham_words[word] + 1\n",
    "            else:\n",
    "                ham_words[word] = 1\n",
    "\n",
    "SMS_spam_df = pd.DataFrame.from_dict(spam_words,orient='index')\n",
    "SMS_spam_df.columns = ['count']\n",
    "SMS_spam_df.head()"
   ]
  },
  {
   "cell_type": "markdown",
   "metadata": {},
   "source": [
    "##### Top 15 frequently used words"
   ]
  },
  {
   "cell_type": "code",
   "execution_count": 304,
   "metadata": {
    "collapsed": false
   },
   "outputs": [
    {
     "data": {
      "text/plain": [
       "to      608\n",
       "a       358\n",
       "call    189\n",
       "your    187\n",
       "or      185\n",
       "you     185\n",
       "the     178\n",
       "2       173\n",
       "for     170\n",
       "is      149\n",
       "on      138\n",
       "Call    137\n",
       "now     131\n",
       "have    128\n",
       "and     119\n",
       "Name: count, dtype: int64"
      ]
     },
     "execution_count": 304,
     "metadata": {},
     "output_type": "execute_result"
    }
   ],
   "source": [
    "SMS_spam_df['count'].nlargest(15)"
   ]
  },
  {
   "cell_type": "markdown",
   "metadata": {},
   "source": [
    "#### Finding The Top 15 Frequently Used Words in Ham SMS Messages"
   ]
  },
  {
   "cell_type": "markdown",
   "metadata": {},
   "source": [
    "##### Get frequency of words\n",
    "We will get the frequency of all the different words used in ham SMS messages."
   ]
  },
  {
   "cell_type": "code",
   "execution_count": 305,
   "metadata": {
    "collapsed": false,
    "scrolled": true
   },
   "outputs": [
    {
     "data": {
      "text/html": [
       "<div>\n",
       "<table border=\"1\" class=\"dataframe\">\n",
       "  <thead>\n",
       "    <tr style=\"text-align: right;\">\n",
       "      <th></th>\n",
       "      <th>count</th>\n",
       "    </tr>\n",
       "  </thead>\n",
       "  <tbody>\n",
       "    <tr>\n",
       "      <th>taylors</th>\n",
       "      <td>1</td>\n",
       "    </tr>\n",
       "    <tr>\n",
       "      <th>workLove</th>\n",
       "      <td>1</td>\n",
       "    </tr>\n",
       "    <tr>\n",
       "      <th>BATH</th>\n",
       "      <td>1</td>\n",
       "    </tr>\n",
       "    <tr>\n",
       "      <th>listening2the</th>\n",
       "      <td>1</td>\n",
       "    </tr>\n",
       "    <tr>\n",
       "      <th>tank</th>\n",
       "      <td>2</td>\n",
       "    </tr>\n",
       "  </tbody>\n",
       "</table>\n",
       "</div>"
      ],
      "text/plain": [
       "               count\n",
       "taylors            1\n",
       "workLove           1\n",
       "BATH               1\n",
       "listening2the      1\n",
       "tank               2"
      ]
     },
     "execution_count": 305,
     "metadata": {},
     "output_type": "execute_result"
    }
   ],
   "source": [
    "SMS_ham_df = pd.DataFrame.from_dict(ham_words,orient='index')\n",
    "SMS_ham_df.columns = ['count']\n",
    "SMS_ham_df.head()"
   ]
  },
  {
   "cell_type": "markdown",
   "metadata": {},
   "source": [
    "##### Top 15 frequently used words"
   ]
  },
  {
   "cell_type": "code",
   "execution_count": 306,
   "metadata": {
    "collapsed": false,
    "scrolled": true
   },
   "outputs": [
    {
     "data": {
      "text/plain": [
       "you    1624\n",
       "to     1540\n",
       "I      1448\n",
       "the    1021\n",
       "a       971\n",
       "in      759\n",
       "and     740\n",
       "i       737\n",
       "u       716\n",
       "me      701\n",
       "is      656\n",
       "my      620\n",
       "it      518\n",
       "of      504\n",
       "for     480\n",
       "Name: count, dtype: int64"
      ]
     },
     "execution_count": 306,
     "metadata": {},
     "output_type": "execute_result"
    }
   ],
   "source": [
    "SMS_ham_df['count'].nlargest(15)"
   ]
  },
  {
   "cell_type": "markdown",
   "metadata": {},
   "source": [
    "Now that we've found the most common words in spam and ham SMS messages, notice that many of the words are similar since words such as 'u','and', and 'the' are common between both. Therefore, we will next find the words most commonly used only in spam SMS messages."
   ]
  },
  {
   "cell_type": "markdown",
   "metadata": {},
   "source": [
    "### Finding words only in spam SMS messages"
   ]
  },
  {
   "cell_type": "markdown",
   "metadata": {},
   "source": [
    "##### Get frequency of words"
   ]
  },
  {
   "cell_type": "code",
   "execution_count": 307,
   "metadata": {
    "collapsed": false
   },
   "outputs": [
    {
     "data": {
      "text/html": [
       "<div>\n",
       "<table border=\"1\" class=\"dataframe\">\n",
       "  <thead>\n",
       "    <tr style=\"text-align: right;\">\n",
       "      <th></th>\n",
       "      <th>count</th>\n",
       "    </tr>\n",
       "  </thead>\n",
       "  <tbody>\n",
       "    <tr>\n",
       "      <th>MOAN</th>\n",
       "      <td>1</td>\n",
       "    </tr>\n",
       "    <tr>\n",
       "      <th>yer</th>\n",
       "      <td>4</td>\n",
       "    </tr>\n",
       "    <tr>\n",
       "      <th>6days</th>\n",
       "      <td>2</td>\n",
       "    </tr>\n",
       "    <tr>\n",
       "      <th>Slow</th>\n",
       "      <td>1</td>\n",
       "    </tr>\n",
       "    <tr>\n",
       "      <th>08448350055</th>\n",
       "      <td>1</td>\n",
       "    </tr>\n",
       "  </tbody>\n",
       "</table>\n",
       "</div>"
      ],
      "text/plain": [
       "             count\n",
       "MOAN             1\n",
       "yer              4\n",
       "6days            2\n",
       "Slow             1\n",
       "08448350055      1"
      ]
     },
     "execution_count": 307,
     "metadata": {},
     "output_type": "execute_result"
    }
   ],
   "source": [
    "# Get sets of all words in each dataframe\n",
    "ham_set = set([ line for line in SMS_ham_df.index])\n",
    "spam_set = set([ line for line in SMS_spam_df.index])\n",
    "\n",
    "# Do set difference to get the words found in spam and not in ham\n",
    "only_SMS_spam_set = spam_set.difference(ham_set)\n",
    "\n",
    "# Filter the dataframe\n",
    "#This only contains the words used by spammers\n",
    "only_SMS_spam_df = SMS_spam_df.ix[only_SMS_spam_set]\n",
    "only_SMS_spam_df.head()"
   ]
  },
  {
   "cell_type": "markdown",
   "metadata": {},
   "source": [
    "##### 15 most common words only used in spam SMS messages"
   ]
  },
  {
   "cell_type": "code",
   "execution_count": 308,
   "metadata": {
    "collapsed": false
   },
   "outputs": [
    {
     "data": {
      "text/plain": [
       "claim         78\n",
       "prize         73\n",
       "won           49\n",
       "18            43\n",
       "URGENT        41\n",
       "awarded       37\n",
       "å£1000        35\n",
       "Claim         32\n",
       "150ppm        32\n",
       "å£2000        31\n",
       "TCs           29\n",
       "PO            28\n",
       "å£150         27\n",
       "guaranteed    26\n",
       "collection    26\n",
       "Name: count, dtype: int64"
      ]
     },
     "execution_count": 308,
     "metadata": {},
     "output_type": "execute_result"
    }
   ],
   "source": [
    "sms_largest = only_SMS_spam_df['count'].nlargest(15)\n",
    "sms_largest"
   ]
  },
  {
   "cell_type": "markdown",
   "metadata": {},
   "source": [
    "##### Visualize The Data"
   ]
  },
  {
   "cell_type": "code",
   "execution_count": 309,
   "metadata": {
    "collapsed": false
   },
   "outputs": [
    {
     "data": {
      "image/png": "[encoded data removed]",
      "text/plain": [
       "<matplotlib.figure.Figure at 0x21a0882e7f0>"
      ]
     },
     "metadata": {},
     "output_type": "display_data"
    }
   ],
   "source": [
    "graph_x = list(sms_largest.index)\n",
    "graph_y = list(sms_largest.get_values())\n",
    "ind = np.arange(len(graph_x))\n",
    "plt.figure(figsize=(16,5))\n",
    "plt.bar(ind,graph_y,width=0.5,align='center',alpha=1.0)\n",
    "plt.xticks(ind,graph_x)\n",
    "plt.xlabel('Word')\n",
    "plt.ylabel('Frequency')\n",
    "plt.title('Frequency of top 15 words in Spam SMS Messages')\n",
    "plt.show()"
   ]
  },
  {
   "cell_type": "markdown",
   "metadata": {},
   "source": [
    "Through these transformations, we can conclude that text messages containing words relating to winning prizes or monetary values/symbols have a high likelihood of being a spam text message. The word 'prize' is the highest occurring word in the spam text messages, with 113 occurrences while the next three words are also related to winning or prizes. There also seem to be a trend of poor spacing or non-phonetic combinations of letters and numbers, which are common signs of spam messaging.  Next we will do the same analysis on emails. "
   ]
  },
  {
   "cell_type": "markdown",
   "metadata": {},
   "source": [
    "<a id='spam2'></a>\n",
    "### Email Messages"
   ]
  },
  {
   "cell_type": "markdown",
   "metadata": {},
   "source": [
    "Here, we do the same analysis as above with email data."
   ]
  },
  {
   "cell_type": "markdown",
   "metadata": {},
   "source": [
    "#### Finding The Top 15 Frequently Used Words in Spam Emails"
   ]
  },
  {
   "cell_type": "markdown",
   "metadata": {},
   "source": [
    "##### Get frequency of words"
   ]
  },
  {
   "cell_type": "code",
   "execution_count": 310,
   "metadata": {
    "collapsed": false,
    "scrolled": false
   },
   "outputs": [
    {
     "data": {
      "text/html": [
       "<div>\n",
       "<table border=\"1\" class=\"dataframe\">\n",
       "  <thead>\n",
       "    <tr style=\"text-align: right;\">\n",
       "      <th></th>\n",
       "      <th>count</th>\n",
       "    </tr>\n",
       "  </thead>\n",
       "  <tbody>\n",
       "    <tr>\n",
       "      <th>videoparadise</th>\n",
       "      <td>1</td>\n",
       "    </tr>\n",
       "    <tr>\n",
       "      <th>ice</th>\n",
       "      <td>3</td>\n",
       "    </tr>\n",
       "    <tr>\n",
       "      <th>forthcome</th>\n",
       "      <td>7</td>\n",
       "    </tr>\n",
       "    <tr>\n",
       "      <th>yours</th>\n",
       "      <td>91</td>\n",
       "    </tr>\n",
       "    <tr>\n",
       "      <th>excite</th>\n",
       "      <td>69</td>\n",
       "    </tr>\n",
       "  </tbody>\n",
       "</table>\n",
       "</div>"
      ],
      "text/plain": [
       "               count\n",
       "videoparadise      1\n",
       "ice                3\n",
       "forthcome          7\n",
       "yours             91\n",
       "excite            69"
      ]
     },
     "execution_count": 310,
     "metadata": {},
     "output_type": "execute_result"
    }
   ],
   "source": [
    "spam_words = {} #dictionaries of word -> num occurrences\n",
    "ham_words = {}\n",
    "\n",
    "translator= str.maketrans('','',string.punctuation) #for stripping punctuation\n",
    "\n",
    "# We tokenize the words. We strip punctuation but do not convert to lowercase,\n",
    "# so Free, free, and FREE are all going to be different for our purposes.\n",
    "# If a word isn't in dictionary, we add it with default value 1,\n",
    "# else, increment the corresponding count.\n",
    "\n",
    "for item,row in email_spamham_data.iterrows():\n",
    "    line = row['Email'].translate(translator) #remove punctuation\n",
    "    line = line.split() #convert lowercase and split by space\n",
    "    for word in line:\n",
    "        if row['Spam or Ham'] == 'spam':\n",
    "            if word in spam_words:\n",
    "                spam_words[word] = spam_words[word] + 1\n",
    "            else:\n",
    "                spam_words[word] = 1\n",
    "        else: #if ham\n",
    "            if word in ham_words:\n",
    "                ham_words[word] = ham_words[word] + 1\n",
    "            else:\n",
    "                ham_words[word] = 1\n",
    "\n",
    "\n",
    "email_spam_df = pd.DataFrame.from_dict(spam_words,orient='index')\n",
    "email_spam_df.columns = ['count']\n",
    "email_spam_df.head()"
   ]
  },
  {
   "cell_type": "markdown",
   "metadata": {},
   "source": [
    "##### 15 most frequently used words in spam emails"
   ]
  },
  {
   "cell_type": "code",
   "execution_count": 311,
   "metadata": {
    "collapsed": false
   },
   "outputs": [
    {
     "data": {
      "text/plain": [
       "email      1754\n",
       "s          1572\n",
       "order      1502\n",
       "report     1315\n",
       "address    1300\n",
       "our        1183\n",
       "mail       1173\n",
       "program    1046\n",
       "send       1032\n",
       "free        953\n",
       "list        942\n",
       "receive     887\n",
       "money       873\n",
       "name        871\n",
       "d           841\n",
       "Name: count, dtype: int64"
      ]
     },
     "execution_count": 311,
     "metadata": {},
     "output_type": "execute_result"
    }
   ],
   "source": [
    "email_spam_df['count'].nlargest(15)"
   ]
  },
  {
   "cell_type": "markdown",
   "metadata": {},
   "source": [
    "#### Finding The Top 15 Frequently Used Words in Ham Emails"
   ]
  },
  {
   "cell_type": "markdown",
   "metadata": {},
   "source": [
    "##### Get frequency of words"
   ]
  },
  {
   "cell_type": "code",
   "execution_count": 312,
   "metadata": {
    "collapsed": false,
    "scrolled": false
   },
   "outputs": [
    {
     "data": {
      "text/html": [
       "<div>\n",
       "<table border=\"1\" class=\"dataframe\">\n",
       "  <thead>\n",
       "    <tr style=\"text-align: right;\">\n",
       "      <th></th>\n",
       "      <th>count</th>\n",
       "    </tr>\n",
       "  </thead>\n",
       "  <tbody>\n",
       "    <tr>\n",
       "      <th>simpson</th>\n",
       "      <td>2</td>\n",
       "    </tr>\n",
       "    <tr>\n",
       "      <th>torrego</th>\n",
       "      <td>33</td>\n",
       "    </tr>\n",
       "    <tr>\n",
       "      <th>sequency</th>\n",
       "      <td>2</td>\n",
       "    </tr>\n",
       "    <tr>\n",
       "      <th>ice</th>\n",
       "      <td>3</td>\n",
       "    </tr>\n",
       "    <tr>\n",
       "      <th>ost</th>\n",
       "      <td>1</td>\n",
       "    </tr>\n",
       "  </tbody>\n",
       "</table>\n",
       "</div>"
      ],
      "text/plain": [
       "          count\n",
       "simpson       2\n",
       "torrego      33\n",
       "sequency      2\n",
       "ice           3\n",
       "ost           1"
      ]
     },
     "execution_count": 312,
     "metadata": {},
     "output_type": "execute_result"
    }
   ],
   "source": [
    "email_ham_df = pd.DataFrame.from_dict(ham_words,orient='index')\n",
    "email_ham_df.columns = ['count']\n",
    "email_ham_df.head()"
   ]
  },
  {
   "cell_type": "markdown",
   "metadata": {},
   "source": [
    "#### 15 most frequently used words in ham emails"
   ]
  },
  {
   "cell_type": "code",
   "execution_count": 313,
   "metadata": {
    "collapsed": false,
    "scrolled": true
   },
   "outputs": [
    {
     "data": {
      "text/plain": [
       "language       1525\n",
       "university     1268\n",
       "s               878\n",
       "linguistic      660\n",
       "de              569\n",
       "information     540\n",
       "conference      495\n",
       "workshop        479\n",
       "english         477\n",
       "e               420\n",
       "email           418\n",
       "one             398\n",
       "paper           395\n",
       "please          371\n",
       "include         368\n",
       "Name: count, dtype: int64"
      ]
     },
     "execution_count": 313,
     "metadata": {},
     "output_type": "execute_result"
    }
   ],
   "source": [
    "email_ham_df['count'].nlargest(15)"
   ]
  },
  {
   "cell_type": "markdown",
   "metadata": {},
   "source": [
    "### Finding Words Only In Spam Emails"
   ]
  },
  {
   "cell_type": "markdown",
   "metadata": {},
   "source": [
    "##### Get frequency of words"
   ]
  },
  {
   "cell_type": "code",
   "execution_count": 314,
   "metadata": {
    "collapsed": false
   },
   "outputs": [
    {
     "data": {
      "text/html": [
       "<div>\n",
       "<table border=\"1\" class=\"dataframe\">\n",
       "  <thead>\n",
       "    <tr style=\"text-align: right;\">\n",
       "      <th></th>\n",
       "      <th>count</th>\n",
       "    </tr>\n",
       "  </thead>\n",
       "  <tbody>\n",
       "    <tr>\n",
       "      <th>videoparadise</th>\n",
       "      <td>1</td>\n",
       "    </tr>\n",
       "    <tr>\n",
       "      <th>lowering</th>\n",
       "      <td>1</td>\n",
       "    </tr>\n",
       "    <tr>\n",
       "      <th>pst</th>\n",
       "      <td>2</td>\n",
       "    </tr>\n",
       "    <tr>\n",
       "      <th>successfull</th>\n",
       "      <td>2</td>\n",
       "    </tr>\n",
       "    <tr>\n",
       "      <th>greenbra</th>\n",
       "      <td>1</td>\n",
       "    </tr>\n",
       "  </tbody>\n",
       "</table>\n",
       "</div>"
      ],
      "text/plain": [
       "               count\n",
       "videoparadise      1\n",
       "lowering           1\n",
       "pst                2\n",
       "successfull        2\n",
       "greenbra           1"
      ]
     },
     "execution_count": 314,
     "metadata": {},
     "output_type": "execute_result"
    }
   ],
   "source": [
    "# Get sets of all words in each dataframe\n",
    "ham_set = set([ line for line in email_ham_df.index])\n",
    "spam_set = set([ line for line in email_spam_df.index])\n",
    "\n",
    "# Do set difference to get the words found in spam and not in ham\n",
    "only_email_spam_set = spam_set.difference(ham_set)\n",
    "\n",
    "# Filter the DataFrame\n",
    "#This only contains the words used by spammers\n",
    "only_email_spam_df = email_spam_df.ix[only_email_spam_set]\n",
    "only_email_spam_df.head()"
   ]
  },
  {
   "cell_type": "markdown",
   "metadata": {},
   "source": [
    "##### Top 15 words "
   ]
  },
  {
   "cell_type": "code",
   "execution_count": 315,
   "metadata": {
    "collapsed": false
   },
   "outputs": [
    {
     "data": {
      "text/plain": [
       "nbsp          196\n",
       "capitalfm     196\n",
       "ffa           183\n",
       "floodgate     150\n",
       "aol           133\n",
       "bonus         119\n",
       "mailing       118\n",
       "investment    118\n",
       "profit        111\n",
       "hundred        95\n",
       "reports        93\n",
       "links          82\n",
       "stealth        82\n",
       "millions       75\n",
       "always         75\n",
       "Name: count, dtype: int64"
      ]
     },
     "execution_count": 315,
     "metadata": {},
     "output_type": "execute_result"
    }
   ],
   "source": [
    "email_largest = only_email_spam_df['count'].nlargest(15)\n",
    "email_largest"
   ]
  },
  {
   "cell_type": "markdown",
   "metadata": {},
   "source": [
    "##### Visualize The Data"
   ]
  },
  {
   "cell_type": "code",
   "execution_count": 316,
   "metadata": {
    "collapsed": false
   },
   "outputs": [
    {
     "data": {
      "image/png": "[encoded data removed]",
      "text/plain": [
       "<matplotlib.figure.Figure at 0x21a08a71358>"
      ]
     },
     "metadata": {},
     "output_type": "display_data"
    }
   ],
   "source": [
    "graph_x = list(email_largest.index)\n",
    "graph_y = list(email_largest.get_values())\n",
    "ind = np.arange(len(graph_x))\n",
    "plt.figure(figsize=(16,5))\n",
    "plt.bar(ind,graph_y,width=0.5,align='center',color = 'orange',alpha=1.0)\n",
    "plt.xticks(ind,graph_x)\n",
    "plt.xlabel('Word')\n",
    "plt.ylabel('Frequency')\n",
    "plt.title('Frequency of top 15 words in Spam Emails')\n",
    "plt.show()"
   ]
  },
  {
   "cell_type": "markdown",
   "metadata": {},
   "source": [
    "Through the transformations on email data, we can determine that there are fewer references to money—though 'investment' and 'millions' still made the list—and fewer shorthand acronyms."
   ]
  },
  {
   "cell_type": "markdown",
   "metadata": {},
   "source": [
    "## Finding the Most Common Words Across Spam Email and Spam SMS"
   ]
  },
  {
   "cell_type": "markdown",
   "metadata": {},
   "source": [
    "So far, we've found the common words on SMS and email, respectively. Now, we are going to determine which words are most commonly used in both spam messages and spam emails. "
   ]
  },
  {
   "cell_type": "code",
   "execution_count": 317,
   "metadata": {
    "collapsed": false
   },
   "outputs": [],
   "source": [
    "# Create sets of the data and do set intersection to get common words\n",
    "email_spam = set([ line for line in only_email_spam_df.index])\n",
    "SMS_spam = set([ line for line in only_SMS_spam_df.index])\n",
    "common_words_set = email_spam.intersection(SMS_spam)"
   ]
  },
  {
   "cell_type": "code",
   "execution_count": 318,
   "metadata": {
    "collapsed": false
   },
   "outputs": [
    {
     "data": {
      "text/html": [
       "<div>\n",
       "<table border=\"1\" class=\"dataframe\">\n",
       "  <thead>\n",
       "    <tr style=\"text-align: right;\">\n",
       "      <th></th>\n",
       "      <th>count</th>\n",
       "    </tr>\n",
       "  </thead>\n",
       "  <tbody>\n",
       "    <tr>\n",
       "      <th>sexiest</th>\n",
       "      <td>9</td>\n",
       "    </tr>\n",
       "    <tr>\n",
       "      <th>skills</th>\n",
       "      <td>2</td>\n",
       "    </tr>\n",
       "    <tr>\n",
       "      <th>won</th>\n",
       "      <td>52</td>\n",
       "    </tr>\n",
       "    <tr>\n",
       "      <th>unsubscribe</th>\n",
       "      <td>43</td>\n",
       "    </tr>\n",
       "    <tr>\n",
       "      <th>celeb</th>\n",
       "      <td>2</td>\n",
       "    </tr>\n",
       "  </tbody>\n",
       "</table>\n",
       "</div>"
      ],
      "text/plain": [
       "             count\n",
       "sexiest          9\n",
       "skills           2\n",
       "won             52\n",
       "unsubscribe     43\n",
       "celeb            2"
      ]
     },
     "execution_count": 318,
     "metadata": {},
     "output_type": "execute_result"
    }
   ],
   "source": [
    "common = {}\n",
    "# Create a dict of the frequencies\n",
    "for word in common_words_set:\n",
    "    count = 0\n",
    "    count = only_email_spam_df.ix[word]['count'] + only_SMS_spam_df.ix[word]['count']\n",
    "    common[word] = count\n",
    "\n",
    "# Use the dict to make a dataframe so it's easier to view\n",
    "common_words_df = pd.DataFrame.from_dict(common,orient='index')\n",
    "common_words_df.columns = ['count']\n",
    "common_words_df.head()"
   ]
  },
  {
   "cell_type": "markdown",
   "metadata": {},
   "source": [
    "#### Top 15 Words In Both Email and SMS Spam"
   ]
  },
  {
   "cell_type": "code",
   "execution_count": 319,
   "metadata": {
    "collapsed": false
   },
   "outputs": [
    {
     "data": {
      "text/plain": [
       "bonus          121\n",
       "guaranteed      66\n",
       "won             52\n",
       "marketing       48\n",
       "unsubscribe     43\n",
       "amazing         31\n",
       "largest         30\n",
       "upgrade         28\n",
       "rental          21\n",
       "stamped         21\n",
       "premium         19\n",
       "tips            19\n",
       "fraction        18\n",
       "newest          18\n",
       "dating          17\n",
       "Name: count, dtype: int64"
      ]
     },
     "execution_count": 319,
     "metadata": {},
     "output_type": "execute_result"
    }
   ],
   "source": [
    "common_largest = common_words_df['count'].nlargest(15)\n",
    "common_largest"
   ]
  },
  {
   "cell_type": "markdown",
   "metadata": {},
   "source": [
    "##### Visualize The Data"
   ]
  },
  {
   "cell_type": "code",
   "execution_count": 320,
   "metadata": {
    "collapsed": false
   },
   "outputs": [
    {
     "data": {
      "image/png": "[encoded data removed]",
      "text/plain": [
       "<matplotlib.figure.Figure at 0x21a04f52b70>"
      ]
     },
     "metadata": {},
     "output_type": "display_data"
    }
   ],
   "source": [
    "graph_x = list(common_largest.index)\n",
    "graph_y = list(common_largest.get_values())\n",
    "ind = np.arange(len(graph_x))\n",
    "plt.figure(figsize=(20,5))\n",
    "plt.bar(ind,graph_y,width=0.5,align='center',color = 'green',alpha=1.0)\n",
    "plt.xticks(ind,graph_x)\n",
    "plt.xlabel('Word')\n",
    "plt.ylabel('Occurrences')\n",
    "plt.title('Frequency of top 15 words In Both SMS and Email Spam')\n",
    "plt.show()"
   ]
  },
  {
   "cell_type": "code",
   "execution_count": 321,
   "metadata": {
    "collapsed": false
   },
   "outputs": [
    {
     "data": {
      "text/plain": [
       "'MOAN yer thesmszonecom 6days Slow records 08448350055 yours deck 08718727868 YES440 todayFrom Phony Del choice LKPOBOX177HP51FL Dates shag MIX To 750 wwwshortbreaksorguk fone wwwtextcompcom MMSto delTOMORROW Gay 100 spree networks 08701752560 Burns Price renewing 2optoutD3WV bootydelious kick polytruePixRingtonesGames å£150 09058094597 ANS Jst Callså£1minmoremobsEMSPOBox45PO139WA ou 09065174042 subject 09065989180 07808 09066364589 SPAM 09058094583 December immediately margin theirs 09050001808 08715203649 largest BluetoothHdset LISTEN four skills connect 6986618 Matthew 7250i logosmusicnews StewartSize MSG efreefone proze tddnewsletteremc1couk TCs Tsunami å£150pmmorefrommobile2BremovedMobyPOBox734LS27YF wwwmovietriviatv busty Uptown arrange NOWREPLY ofå£2000 MESSAGEThanks LA3 Msg150p FILTH 0808 Messages 08701213186 Colour guys wow wwwLdewcom1win150ppmx3age16subscription mobsicom w1t1jy AM sale 07xxxxxxxxx 09050000301 in DIRTY experiencehttpwwwvouch4mecometlpdiningasp if 86688 5K claims points concert SW73SS outgoing Spanish 09099726429 å£150perWKsub Movie beg 08000930705 9AE å£79 deepest textand 9153 0800 2WU SPORT Are 08450542832 2nite Ts inclusive IG11 could PREMIER capital VCo won advise Download BILL 08714712394 premium POBox84 Poly200p 2PX Q takes 3lp wwwldewcom1win150ppmx3age16 await Canary laidwant TCLLC miss 87066 09050000878 responding CHAT Make ABTA REPLYS150 wither 84 Wins Ta 290305 thanks 10000 81618 KNOWS chatter pls subsequent PORN or Algarve LOVE 8Ball WeBeBurnin ecstacy 09058094507 two BCM1896WC1N3XX survey FREEFONE mates heart minutes 15541 28 Fancy balance flag into Plyr pound DAYS MUSIC masked Wet 2nd Any MINS RingtoneåÁ President 97N7QP banned Adrian 08718726270150gbpmtmsg18 show deals 80155 08706091795 trip 81010 wwwSMSacubootydelious 150P 20pmin CREDIT Super highest house å£s Macedonia Ab Over CW25WX just 7 free HMV1 youre MFL 09066362231 guess 08712404000 GOING PRIVATE CSH11 super eg23G Children \\x89ÛÏHarry SUBPOLY wamma DeliveredTomorrow PASS End of nokias Enjoy Upd8 matches forå£38 polypH 1stchoicecouk Mystery notxtcouk this RTKIng S89 STAR wrote 08081263000 using enjoyed CHARITY died åÒHarry BT 08718730666 4712 Alfie wwwgambtv 32000 Tone have SING see mono shortly book paying Now enjoy Sex install WON visit was lets 008704050406 A FML Txting 09061744553 MP3 erotic randomly DPS career alone 08719899217 key costå£375max announcement THERES ave 09099726481 Theres sounds Street xafter 500 come saucy M227XY future 08715203652 Stream on representative passes warranty 09058094455 NOKIA Paris No 25p ON deluxe OPT important 09058094454 Drinks Marvel not to TEXTPOD reach BangBabes CocaCola 9th stop 09058097189 cops wap httptms MORE Yours us Rock include FROM expired POBOX 85555 chances SPOOK sexiest message turn Linerental Buffy pass Box434SK38WP150PPM18 girl Information Network 84128 chat SonyEricsson 08001950382 stay Help08718728876 IThis CustCare08718720201 09050003091 AlertFrom Chance ones colour Admirer 3UZ widelivecomindex Games latests orno 0871277810710pmin 6669 VAT dialling profit mob resent items Sub names 01223585236 minded tickets 09095350301 REALITY 85 Arcade 13404 Digital Claim 3Lions land garden By Future Duchess mgs animation tells package used fantasy TxtNO Close 85222 lapdancer AccommodationVouchers havin 08714712379 Refused cc100pmin Bad 20000 08715203028 å£2000 recorder 07808726822 tkts CC Jeri 89693 marketing getstop thing speed five M6 yourself Fri winner Box39822 TMobile Expires Pic HL mytonecomenjoy Order R836 SK3 5WQ Twinks Sir Calling PARK best nowSend B4U maximize save disaster Plus 82242 020603 help08700469649 CHOSEN CR01327BT Hardcore female Randy 08715203685 146tf150p night 373 8007 Youre shortcode 09065171142stopsms08718727870150ppm 08712402972 Nokias 08708800282 web2mobile center sue contact how wkly bx420ip45we opinions ADAM for 1month SavaMob warm chatIm goal'"
      ]
     },
     "execution_count": 321,
     "metadata": {},
     "output_type": "execute_result"
    }
   ],
   "source": [
    "ind = list(SMS_spam_df.head(500).index)\n",
    "\" \".join(ind)"
   ]
  },
  {
   "cell_type": "markdown",
   "metadata": {},
   "source": [
    "## Machine Learning"
   ]
  },
  {
   "cell_type": "code",
   "execution_count": 322,
   "metadata": {
    "collapsed": false
   },
   "outputs": [],
   "source": [
    "SMS_spamham_data['sorh'] = np.where(SMS_spamham_data['Spam or Ham'] == 'spam', \n",
    "                                '1', '0')\n",
    "\n",
    "spam_train_data = list(SMS_spamham_data['SMS Message'])\n",
    "spam_train_target = list(SMS_spamham_data['Spam or Ham'])\n",
    "\n",
    "lb = preprocessing.LabelBinarizer()\n",
    "spam_train_target = np.array([number[0] for number in lb.fit_transform(spam_train_target)])\n",
    "\n",
    "#transforming data\n",
    "count_vect = CountVectorizer(decode_error = 'replace')\n",
    "X_train_counts = count_vect.fit_transform(spam_train_data)\n",
    "tfidf_transformer = TfidfTransformer()\n",
    "X_train_tfidf = tfidf_transformer.fit_transform(X_train_counts)\n"
   ]
  },
  {
   "cell_type": "markdown",
   "metadata": {},
   "source": [
    "### Calculating Metrics"
   ]
  },
  {
   "cell_type": "code",
   "execution_count": 323,
   "metadata": {
    "collapsed": true
   },
   "outputs": [],
   "source": [
    "def calculate_metrics(classifier,name_of_classifier):\n",
    "    \n",
    "    classifier_score_list = []\n",
    "    classifier_score_list.append(name_of_classifier)\n",
    "\n",
    "    scores0 = cross_validation.cross_val_score(classifier, X_train_tfidf, spam_train_target, cv= 10, scoring = 'accuracy')\n",
    "    data0 = \"Accuracy: %0.4f\" % (scores0.mean())\n",
    "    classifier_score_list.append(data0)\n",
    "        \n",
    "    scores1 = cross_validation.cross_val_score(classifier, X_train_tfidf, spam_train_target, cv=10, scoring = 'f1')\n",
    "    data1 = \"f1: %0.4f \" % (scores1.mean())\n",
    "    classifier_score_list.append(data1)\n",
    "\n",
    "    scores2 = cross_validation.cross_val_score(classifier, X_train_tfidf, spam_train_target, cv=10,scoring = 'precision')\n",
    "    data2 = \"Precision: %0.4f\" % (scores2.mean())\n",
    "    classifier_score_list.append(data2)\n",
    "\n",
    "    scores3 = cross_validation.cross_val_score(classifier, X_train_tfidf, spam_train_target, cv=10, scoring = 'recall')\n",
    "    data3 = \"Recall: %0.4f\" % (scores3.mean())\n",
    "    classifier_score_list.append(data3)\n",
    "    \n",
    "    return classifier_score_list\n"
   ]
  },
  {
   "cell_type": "markdown",
   "metadata": {},
   "source": [
    "### Evaluating Classifiers"
   ]
  },
  {
   "cell_type": "code",
   "execution_count": 324,
   "metadata": {
    "collapsed": true
   },
   "outputs": [],
   "source": [
    "def evaluate_classifier(classifier):\n",
    "        \n",
    "    if classifier == \"SVM\":\n",
    "        svm_clf = svm.SVC(kernel='linear', C=1).fit(X_train_tfidf,spam_train_target)\n",
    "        classifier_metrics = calculate_metrics(svm_clf,classifier)\n",
    "\n",
    "    elif classifier == \"MultinomialNB\":\n",
    "        mnb_clf = MultinomialNB().fit(X_train_tfidf, spam_train_target)\n",
    "        classifier_metrics = calculate_metrics(mnb_clf,classifier)\n",
    "\n",
    "    elif classifier == \"LinearSVC\":\n",
    "        lsvc_clf = svm.LinearSVC().fit(X_train_tfidf, spam_train_target)\n",
    "        classifier_metrics = calculate_metrics(lsvc_clf,classifier)\n",
    "\n",
    "    elif classifier == \"SGD\":\n",
    "        sgd_clf = linear_model.SGDClassifier().fit(X_train_tfidf,spam_train_target)\n",
    "        classifier_metrics = calculate_metrics(sgd_clf,classifier)\n",
    "\n",
    "    elif classifier == \"NearestCentroid\":\n",
    "        nc_clf = NearestCentroid().fit(X_train_tfidf,spam_train_target)\n",
    "        classifier_metrics = calculate_metrics(nc_clf,classifier)\n",
    "\n",
    "    elif classifier == \"DecisionTree\":\n",
    "        dt_clf = tree.DecisionTreeClassifier(random_state = 0).fit(X_train_tfidf,spam_train_target)\n",
    "        classifier_metrics = calculate_metrics(dt_clf,classifier)\n",
    "\n",
    "    elif classifier == \"AdaBoost\":\n",
    "        ab_clf = ensemble.AdaBoostClassifier().fit(X_train_tfidf,spam_train_target)\n",
    "        classifier_metrics = calculate_metrics(ab_clf,classifier)\n",
    "\n",
    "    elif classifier == \"RandomForest\":\n",
    "        rf_clf = ensemble.RandomForestClassifier().fit(X_train_tfidf,spam_train_target)\n",
    "        classifier_metrics = calculate_metrics(rf_clf,classifier)\n",
    "\n",
    "    elif classifier == \"KNeighbors\":\n",
    "        kn_clf = KNeighborsClassifier(n_neighbors = 3).fit(X_train_tfidf,spam_train_target)\n",
    "        classifier_metrics = calculate_metrics(kn_clf,classifier)\n",
    "\n",
    "    return classifier_metrics"
   ]
  },
  {
   "cell_type": "code",
   "execution_count": 325,
   "metadata": {
    "collapsed": false
   },
   "outputs": [
    {
     "name": "stdout",
     "output_type": "stream",
     "text": [
      "['SVM', 'Accuracy: 0.9842', 'f1: 0.9380 ', 'Precision: 0.9868', 'Recall: 0.8943']\n",
      "['MultinomialNB', 'Accuracy: 0.9629', 'f1: 0.8385 ', 'Precision: 1.0000', 'Recall: 0.7230']\n",
      "['LinearSVC', 'Accuracy: 0.9833', 'f1: 0.9341 ', 'Precision: 0.9869', 'Recall: 0.8875']\n",
      "['SGD', 'Accuracy: 0.9846', 'f1: 0.9394 ', 'Precision: 0.9855', 'Recall: 0.9009']\n",
      "['NearestCentroid', 'Accuracy: 0.9688', 'f1: 0.8826 ', 'Precision: 0.8897', 'Recall: 0.8768']\n",
      "['DecisionTree', 'Accuracy: 0.9715', 'f1: 0.8913 ', 'Precision: 0.9082', 'Recall: 0.8767']\n",
      "['AdaBoost', 'Accuracy: 0.9745', 'f1: 0.9004 ', 'Precision: 0.9432', 'Recall: 0.8634']\n",
      "['RandomForest', 'Accuracy: 0.9734', 'f1: 0.8862 ', 'Precision: 0.9936', 'Recall: 0.8044']\n",
      "['KNeighbors', 'Accuracy: 0.9244', 'f1: 0.6062 ', 'Precision: 1.0000', 'Recall: 0.4365']\n"
     ]
    }
   ],
   "source": [
    "print (evaluate_classifier(\"SVM\"))\n",
    "print (evaluate_classifier(\"MultinomialNB\"))\n",
    "print (evaluate_classifier(\"LinearSVC\"))\n",
    "print (evaluate_classifier(\"SGD\"))\n",
    "print (evaluate_classifier(\"NearestCentroid\"))\n",
    "print (evaluate_classifier(\"DecisionTree\"))\n",
    "print (evaluate_classifier(\"AdaBoost\"))\n",
    "print (evaluate_classifier(\"RandomForest\"))\n",
    "print (evaluate_classifier(\"KNeighbors\"))"
   ]
  },
  {
   "cell_type": "code",
   "execution_count": 326,
   "metadata": {
    "collapsed": true
   },
   "outputs": [],
   "source": [
    "## Add bar graph showing classifier accuracy"
   ]
  },
  {
   "cell_type": "code",
   "execution_count": 327,
   "metadata": {
    "collapsed": true
   },
   "outputs": [],
   "source": [
    "## Next step: Training and testing classifier"
   ]
  },
  {
   "cell_type": "code",
   "execution_count": 328,
   "metadata": {
    "collapsed": true
   },
   "outputs": [],
   "source": [
    "def label(message):\n",
    "        \n",
    "    svm_clf = svm.SVC(kernel='linear', C=1).fit(X_train_tfidf,spam_train_target)\n",
    "        \n",
    "    docs_new = []\n",
    "    docs_new.append(message)\n",
    "        \n",
    "    X_new_counts = count_vect.transform(docs_new)\n",
    "    X_new_tfidf = tfidf_transformer.transform(X_new_counts)\n",
    "    predicted = svm_clf.predict(X_new_tfidf)\n",
    "        \n",
    "    return predicted"
   ]
  },
  {
   "cell_type": "code",
   "execution_count": 329,
   "metadata": {
    "collapsed": false
   },
   "outputs": [
    {
     "data": {
      "text/plain": [
       "array([1])"
      ]
     },
     "execution_count": 329,
     "metadata": {},
     "output_type": "execute_result"
    }
   ],
   "source": [
    "label(\"claim your prize. You've won millions!!\")"
   ]
  },
  {
   "cell_type": "code",
   "execution_count": 330,
   "metadata": {
    "collapsed": false
   },
   "outputs": [
    {
     "data": {
      "text/plain": [
       "array([0])"
      ]
     },
     "execution_count": 330,
     "metadata": {},
     "output_type": "execute_result"
    }
   ],
   "source": [
    "label(\"Hi mom, how are you?\")"
   ]
  },
  {
   "cell_type": "markdown",
   "metadata": {},
   "source": [
    "## Insight"
   ]
  },
  {
   "cell_type": "code",
   "execution_count": null,
   "metadata": {
    "collapsed": true
   },
   "outputs": [],
   "source": []
  },
  {
   "cell_type": "markdown",
   "metadata": {},
   "source": [
    "## Summary and References\n",
    "\n",
    "1. Kaggle: [https://www.kaggle.com/](https://www.kaggle.com/)\n",
    "2. Scikit-Learn: [http://scikit-learn.org/stable/](http://scikit-learn.org/stable/)"
   ]
  }
 ],
 "metadata": {
  "anaconda-cloud": {},
  "kernelspec": {
   "display_name": "Python [conda root]",
   "language": "python",
   "name": "conda-root-py"
  },
  "language_info": {
   "codemirror_mode": {
    "name": "ipython",
    "version": 3
   },
   "file_extension": ".py",
   "mimetype": "text/x-python",
   "name": "python",
   "nbconvert_exporter": "python",
   "pygments_lexer": "ipython3",
   "version": "3.5.2"
  }
 },
 "nbformat": 4,
 "nbformat_minor": 1
}
