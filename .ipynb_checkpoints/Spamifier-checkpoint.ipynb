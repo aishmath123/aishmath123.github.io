{
 "cells": [
  {
   "cell_type": "markdown",
   "metadata": {},
   "source": [
    "## Authors: Aishwarya Mathew, Vikram Yabannavar"
   ]
  },
  {
   "cell_type": "markdown",
   "metadata": {},
   "source": [
    "# SPAMIFIER - A Spam Text Classifier"
   ]
  },
  {
   "cell_type": "markdown",
   "metadata": {},
   "source": [
    "## Introduction"
   ]
  },
  {
   "cell_type": "markdown",
   "metadata": {},
   "source": [
    "Data science is all around us. It is an interdisciplinary field of study that strives to discover meaning behind data. Finding a good first data science project to work on is a hard task. You may know a lot of data science concepts but you get stuck when you want to apply your skills to real world tasks. However, you've come to the right place! Have you ever wanted to make an application that could distinguish between some bad thing and a good thing? This tutorial will do just that. It's actually a basic introduction to the world of data science. This project will teach you how to perform text classification by creating a spam classifier/filter that will distinguish between spam and not spam (we call this ham) SMS messages and emails. We always get spam messages through text and email. Clicking on these and opening them could harm our computers. Therefore, creating a tool to determine which messages we receive are spam and which are not spam without opening those messages is a great way to combat cyber attacks. In this tutorial, we will take you through the entire data science lifecycle (of a spam filter project) which includes data collection, data processing, exploratory data analysis and visualization, machine learning and insight/policy decision."
   ]
  },
  {
   "cell_type": "markdown",
   "metadata": {},
   "source": [
    "### Tutorial Content\n",
    "\n",
    "In this tutorial, you will learn how to build a simple text classifier using Scikit-Learn. Scikit-Learn is a popular open source Python library used for machine learning purposes.\n",
    "\n",
    "The SMS spam and ham data for our tutorial will come from a website called Kaggle which is a huge repository for different kinds of data. The email spam and ham data will be collected from Andrew Ng's Machine Learning course at Stanford.\n",
    "\n",
    "This tutorial will go over the following topics:\n",
    "\n",
    "* [Importing Libraries](#libraries)\n",
    "<br>\n",
    "* [Loading Data](#load data)\n",
    "<br>\n",
    " - [SMS Data](#sms1)\n",
    "<br>\n",
    " - [Email Data](#email1)\n",
    "<br>\n",
    "* [Processing Data](#process data)\n",
    "<br>\n",
    " - [SMS Data](#sms2)\n",
    "<br>\n",
    " - [Email Data](#email2)\n",
    "<br>\n",
    "* [Exploratory Analysis and Data Visualization](#eda)\n",
    "<br>\n",
    " - [SMS Messages](#spam1)\n",
    "<br>\n",
    " - [Finding Words Used Only in Spam SMS Messages](#1)\n",
    "<br>\n",
    " - [Email Messages](#spam2)\n",
    "<br>\n",
    " - [Finding Words Used Only in Spam Emails](#2)\n",
    "<br>\n",
    " - [Finding the Most Common Words Used Across Spam Email and Spam SMS](#3)\n",
    "<br>\n",
    "* [Building a Basic Text Classifier Using Machine Learning](#4)\n",
    "<br>\n",
    " - [Transforming SMS Data](#5)\n",
    "<br>\n",
    " - [Transforming Email Data](#6)\n",
    "<br>\n",
    " - [Calculating Classifier Metrics](#7)\n",
    "<br>\n",
    " - [Evaluating Classifiers](#8)\n",
    "<br>\n",
    " - [Analyzing Classifier Performance](#9)\n",
    "<br>\n",
    " - [Example Application of Chosen Best Classifier on SMS and Email Messages](#10)\n",
    "<br>\n",
    "* [Insight](#11)"
   ]
  },
  {
   "cell_type": "markdown",
   "metadata": {},
   "source": [
    "<a id='libraries'></a>\n",
    "## Importing Libraries"
   ]
  },
  {
   "cell_type": "markdown",
   "metadata": {},
   "source": [
    "Before getting started, you will need to import these libraries which we will use throughout the tutorial."
   ]
  },
  {
   "cell_type": "code",
   "execution_count": 1,
   "metadata": {
    "collapsed": false
   },
   "outputs": [
    {
     "name": "stderr",
     "output_type": "stream",
     "text": [
      "C:\\Users\\Vik\\Anaconda3\\lib\\site-packages\\sklearn\\cross_validation.py:44: DeprecationWarning: This module was deprecated in version 0.18 in favor of the model_selection module into which all the refactored classes and functions are moved. Also note that the interface of the new CV iterators are different from that of this module. This module will be removed in 0.20.\n",
      "  \"This module will be removed in 0.20.\", DeprecationWarning)\n"
     ]
    }
   ],
   "source": [
    "# Import data manipulation and plotting libraries\n",
    "import pandas as pd\n",
    "import csv\n",
    "import string\n",
    "import matplotlib.pyplot as plt\n",
    "import numpy as np\n",
    "# Import Scikit-Learn library functions\n",
    "from sklearn import cross_validation\n",
    "from sklearn import preprocessing\n",
    "from sklearn.feature_extraction.text import CountVectorizer\n",
    "from sklearn.feature_extraction.text import TfidfTransformer\n",
    "from sklearn import metrics\n",
    "from sklearn import linear_model\n",
    "# Import Scikit-Learn classifiers\n",
    "from sklearn import svm\n",
    "from sklearn import tree\n",
    "from sklearn import ensemble\n",
    "from sklearn.neighbors import KNeighborsClassifier"
   ]
  },
  {
   "cell_type": "markdown",
   "metadata": {},
   "source": [
    "<a id='load data'></a>\n",
    "## Loading Data "
   ]
  },
  {
   "cell_type": "markdown",
   "metadata": {},
   "source": [
    "The first step of any data science project is data collection. Kaggle is a dataset website that has a lot of real world data. To get started, you need to click on this link, https://www.kaggle.com/uciml/sms-spam-collection-dataset , to download the SMS spam vs. ham dataset from Kaggle to your local disk. You will have to create a user account on Kaggle to download any of their datasets. Once you have downloaded the 'spam.csv' file, you need to place that file in the same folder as this notebook. Please also change the 'spam.csv' file's name to 'sms.csv' for later use. For email data, we will use the dataset provided by Andrew Ng's Machine Learning course at Stanford. That data can be found [here](http://openclassroom.stanford.edu/MainFolder/courses/MachineLearning/exercises/ex6materials/ex6DataEmails.zip). After you've downloaded the zipped file, unzip the file and place the four resulting folders in the same folder as this notebook. Once placed, you can run 'txt_to_csv.py' to generate a CSV file of all the files in those folders, or you can download the 'email.csv' file from the GitHub repository. "
   ]
  },
  {
   "cell_type": "markdown",
   "metadata": {},
   "source": [
    "Next, we will load both datasets into two different pandas dataframes."
   ]
  },
  {
   "cell_type": "markdown",
   "metadata": {},
   "source": [
    "<a id='sms1'></a>\n",
    "### SMS Data"
   ]
  },
  {
   "cell_type": "code",
   "execution_count": 2,
   "metadata": {
    "collapsed": false
   },
   "outputs": [
    {
     "data": {
      "text/html": [
       "<div>\n",
       "<table border=\"1\" class=\"dataframe\">\n",
       "  <thead>\n",
       "    <tr style=\"text-align: right;\">\n",
       "      <th></th>\n",
       "      <th>v1</th>\n",
       "      <th>v2</th>\n",
       "      <th>Unnamed: 2</th>\n",
       "      <th>Unnamed: 3</th>\n",
       "      <th>Unnamed: 4</th>\n",
       "    </tr>\n",
       "  </thead>\n",
       "  <tbody>\n",
       "    <tr>\n",
       "      <th>0</th>\n",
       "      <td>ham</td>\n",
       "      <td>Go until jurong point, crazy.. Available only ...</td>\n",
       "      <td>NaN</td>\n",
       "      <td>NaN</td>\n",
       "      <td>NaN</td>\n",
       "    </tr>\n",
       "    <tr>\n",
       "      <th>1</th>\n",
       "      <td>ham</td>\n",
       "      <td>Ok lar... Joking wif u oni...</td>\n",
       "      <td>NaN</td>\n",
       "      <td>NaN</td>\n",
       "      <td>NaN</td>\n",
       "    </tr>\n",
       "    <tr>\n",
       "      <th>2</th>\n",
       "      <td>spam</td>\n",
       "      <td>Free entry in 2 a wkly comp to win FA Cup fina...</td>\n",
       "      <td>NaN</td>\n",
       "      <td>NaN</td>\n",
       "      <td>NaN</td>\n",
       "    </tr>\n",
       "    <tr>\n",
       "      <th>3</th>\n",
       "      <td>ham</td>\n",
       "      <td>U dun say so early hor... U c already then say...</td>\n",
       "      <td>NaN</td>\n",
       "      <td>NaN</td>\n",
       "      <td>NaN</td>\n",
       "    </tr>\n",
       "    <tr>\n",
       "      <th>4</th>\n",
       "      <td>ham</td>\n",
       "      <td>Nah I don't think he goes to usf, he lives aro...</td>\n",
       "      <td>NaN</td>\n",
       "      <td>NaN</td>\n",
       "      <td>NaN</td>\n",
       "    </tr>\n",
       "  </tbody>\n",
       "</table>\n",
       "</div>"
      ],
      "text/plain": [
       "     v1                                                 v2 Unnamed: 2  \\\n",
       "0   ham  Go until jurong point, crazy.. Available only ...        NaN   \n",
       "1   ham                      Ok lar... Joking wif u oni...        NaN   \n",
       "2  spam  Free entry in 2 a wkly comp to win FA Cup fina...        NaN   \n",
       "3   ham  U dun say so early hor... U c already then say...        NaN   \n",
       "4   ham  Nah I don't think he goes to usf, he lives aro...        NaN   \n",
       "\n",
       "  Unnamed: 3 Unnamed: 4  \n",
       "0        NaN        NaN  \n",
       "1        NaN        NaN  \n",
       "2        NaN        NaN  \n",
       "3        NaN        NaN  \n",
       "4        NaN        NaN  "
      ]
     },
     "execution_count": 2,
     "metadata": {},
     "output_type": "execute_result"
    }
   ],
   "source": [
    "# Read the SMS data into a pandas dataframe\n",
    "SMS_spamham_data = pd.read_csv(\"sms.csv\", encoding='latin-1')\n",
    "SMS_spamham_data.head()"
   ]
  },
  {
   "cell_type": "markdown",
   "metadata": {},
   "source": [
    "<a id='email1'></a>\n",
    "### Email Data"
   ]
  },
  {
   "cell_type": "code",
   "execution_count": 3,
   "metadata": {
    "collapsed": false
   },
   "outputs": [
    {
     "data": {
      "text/html": [
       "<div>\n",
       "<table border=\"1\" class=\"dataframe\">\n",
       "  <thead>\n",
       "    <tr style=\"text-align: right;\">\n",
       "      <th></th>\n",
       "      <th>class</th>\n",
       "      <th>message</th>\n",
       "    </tr>\n",
       "  </thead>\n",
       "  <tbody>\n",
       "    <tr>\n",
       "      <th>0</th>\n",
       "      <td>spam</td>\n",
       "      <td>great parttime summer job display box credit a...</td>\n",
       "    </tr>\n",
       "    <tr>\n",
       "      <th>1</th>\n",
       "      <td>spam</td>\n",
       "      <td>auto insurance rate too high dear nlpeople m s...</td>\n",
       "    </tr>\n",
       "    <tr>\n",
       "      <th>2</th>\n",
       "      <td>spam</td>\n",
       "      <td>want best economical hunt vacation life want b...</td>\n",
       "    </tr>\n",
       "    <tr>\n",
       "      <th>3</th>\n",
       "      <td>spam</td>\n",
       "      <td>email million million email addresses want mon...</td>\n",
       "    </tr>\n",
       "    <tr>\n",
       "      <th>4</th>\n",
       "      <td>spam</td>\n",
       "      <td>amaze world record sex attention warn adult wa...</td>\n",
       "    </tr>\n",
       "  </tbody>\n",
       "</table>\n",
       "</div>"
      ],
      "text/plain": [
       "  class                                            message\n",
       "0  spam  great parttime summer job display box credit a...\n",
       "1  spam  auto insurance rate too high dear nlpeople m s...\n",
       "2  spam  want best economical hunt vacation life want b...\n",
       "3  spam  email million million email addresses want mon...\n",
       "4  spam  amaze world record sex attention warn adult wa..."
      ]
     },
     "execution_count": 3,
     "metadata": {},
     "output_type": "execute_result"
    }
   ],
   "source": [
    "# Read the email data into a pandas dataframe\n",
    "email_spamham_data = pd.read_csv(\"email.csv\", encoding='latin-1')\n",
    "email_spamham_data.head()"
   ]
  },
  {
   "cell_type": "markdown",
   "metadata": {},
   "source": [
    "<a id='process data'></a>\n",
    "## Processing Data"
   ]
  },
  {
   "cell_type": "markdown",
   "metadata": {},
   "source": [
    "As you can see above, our data is not tidy. The SMS dataframe has unknown values and unnecessary columns. So our next step is to prepare the data. In the code below, we will process the data to make it clean and easy to use."
   ]
  },
  {
   "cell_type": "markdown",
   "metadata": {},
   "source": [
    "<a id='sms2'></a>\n",
    "### SMS Data"
   ]
  },
  {
   "cell_type": "code",
   "execution_count": 4,
   "metadata": {
    "collapsed": false
   },
   "outputs": [
    {
     "data": {
      "text/html": [
       "<div>\n",
       "<table border=\"1\" class=\"dataframe\">\n",
       "  <thead>\n",
       "    <tr style=\"text-align: right;\">\n",
       "      <th></th>\n",
       "      <th>Spam or Ham</th>\n",
       "      <th>SMS Message</th>\n",
       "    </tr>\n",
       "  </thead>\n",
       "  <tbody>\n",
       "    <tr>\n",
       "      <th>0</th>\n",
       "      <td>ham</td>\n",
       "      <td>Go until jurong point, crazy.. Available only ...</td>\n",
       "    </tr>\n",
       "    <tr>\n",
       "      <th>1</th>\n",
       "      <td>ham</td>\n",
       "      <td>Ok lar... Joking wif u oni...</td>\n",
       "    </tr>\n",
       "    <tr>\n",
       "      <th>2</th>\n",
       "      <td>spam</td>\n",
       "      <td>Free entry in 2 a wkly comp to win FA Cup fina...</td>\n",
       "    </tr>\n",
       "    <tr>\n",
       "      <th>3</th>\n",
       "      <td>ham</td>\n",
       "      <td>U dun say so early hor... U c already then say...</td>\n",
       "    </tr>\n",
       "    <tr>\n",
       "      <th>4</th>\n",
       "      <td>ham</td>\n",
       "      <td>Nah I don't think he goes to usf, he lives aro...</td>\n",
       "    </tr>\n",
       "  </tbody>\n",
       "</table>\n",
       "</div>"
      ],
      "text/plain": [
       "  Spam or Ham                                        SMS Message\n",
       "0         ham  Go until jurong point, crazy.. Available only ...\n",
       "1         ham                      Ok lar... Joking wif u oni...\n",
       "2        spam  Free entry in 2 a wkly comp to win FA Cup fina...\n",
       "3         ham  U dun say so early hor... U c already then say...\n",
       "4         ham  Nah I don't think he goes to usf, he lives aro..."
      ]
     },
     "execution_count": 4,
     "metadata": {},
     "output_type": "execute_result"
    }
   ],
   "source": [
    "# Remove unnecessary columns and values\n",
    "del SMS_spamham_data['Unnamed: 2']\n",
    "del SMS_spamham_data['Unnamed: 3']\n",
    "del SMS_spamham_data['Unnamed: 4']\n",
    "# Rename the remaining two columns\n",
    "SMS_spamham_data.columns = ['Spam or Ham','SMS Message']\n",
    "\n",
    "# The resulting clean dataframe with SMS data\n",
    "SMS_spamham_data.head()"
   ]
  },
  {
   "cell_type": "markdown",
   "metadata": {},
   "source": [
    "<a id='email2'></a>\n",
    "### Email Data"
   ]
  },
  {
   "cell_type": "code",
   "execution_count": 5,
   "metadata": {
    "collapsed": false
   },
   "outputs": [
    {
     "data": {
      "text/html": [
       "<div>\n",
       "<table border=\"1\" class=\"dataframe\">\n",
       "  <thead>\n",
       "    <tr style=\"text-align: right;\">\n",
       "      <th></th>\n",
       "      <th>Spam or Ham</th>\n",
       "      <th>Email Message</th>\n",
       "    </tr>\n",
       "  </thead>\n",
       "  <tbody>\n",
       "    <tr>\n",
       "      <th>0</th>\n",
       "      <td>spam</td>\n",
       "      <td>great parttime summer job display box credit a...</td>\n",
       "    </tr>\n",
       "    <tr>\n",
       "      <th>1</th>\n",
       "      <td>spam</td>\n",
       "      <td>auto insurance rate too high dear nlpeople m s...</td>\n",
       "    </tr>\n",
       "    <tr>\n",
       "      <th>2</th>\n",
       "      <td>spam</td>\n",
       "      <td>want best economical hunt vacation life want b...</td>\n",
       "    </tr>\n",
       "    <tr>\n",
       "      <th>3</th>\n",
       "      <td>spam</td>\n",
       "      <td>email million million email addresses want mon...</td>\n",
       "    </tr>\n",
       "    <tr>\n",
       "      <th>4</th>\n",
       "      <td>spam</td>\n",
       "      <td>amaze world record sex attention warn adult wa...</td>\n",
       "    </tr>\n",
       "  </tbody>\n",
       "</table>\n",
       "</div>"
      ],
      "text/plain": [
       "  Spam or Ham                                      Email Message\n",
       "0        spam  great parttime summer job display box credit a...\n",
       "1        spam  auto insurance rate too high dear nlpeople m s...\n",
       "2        spam  want best economical hunt vacation life want b...\n",
       "3        spam  email million million email addresses want mon...\n",
       "4        spam  amaze world record sex attention warn adult wa..."
      ]
     },
     "execution_count": 5,
     "metadata": {},
     "output_type": "execute_result"
    }
   ],
   "source": [
    "# Rename the two columns in the email dataframe for consistency\n",
    "email_spamham_data.columns = ['Spam or Ham','Email Message']\n",
    "email_spamham_data.head()"
   ]
  },
  {
   "cell_type": "markdown",
   "metadata": {
    "collapsed": false
   },
   "source": [
    "<a id='eda'></a>\n",
    "## Exploratory Analysis and Data Visualization"
   ]
  },
  {
   "cell_type": "markdown",
   "metadata": {},
   "source": [
    "In this section we are going to analyze our processed data. We will look at the words that are most frequently used in SMS and email spam messages. We will do the same for ham messages. This will help us understand what distinguishes spam messages from ham messages. While we are doing this, we will also plot a few graphs that will help us visualize this data."
   ]
  },
  {
   "cell_type": "markdown",
   "metadata": {},
   "source": [
    "<a id='spam1'></a>\n",
    "### SMS Messages"
   ]
  },
  {
   "cell_type": "markdown",
   "metadata": {},
   "source": [
    "We start by analyzing SMS data."
   ]
  },
  {
   "cell_type": "markdown",
   "metadata": {},
   "source": [
    "#### Finding The Top 50 Frequently Used Words in Spam SMS Messages"
   ]
  },
  {
   "cell_type": "markdown",
   "metadata": {},
   "source": [
    "##### Get frequency of words\n",
    "First, we are going to get the frequency of all the different words used in spam SMS messages."
   ]
  },
  {
   "cell_type": "code",
   "execution_count": 6,
   "metadata": {
    "collapsed": false
   },
   "outputs": [
    {
     "data": {
      "text/html": [
       "<div>\n",
       "<table border=\"1\" class=\"dataframe\">\n",
       "  <thead>\n",
       "    <tr style=\"text-align: right;\">\n",
       "      <th></th>\n",
       "      <th>count</th>\n",
       "    </tr>\n",
       "  </thead>\n",
       "  <tbody>\n",
       "    <tr>\n",
       "      <th>Club</th>\n",
       "      <td>9</td>\n",
       "    </tr>\n",
       "    <tr>\n",
       "      <th>Sara</th>\n",
       "      <td>1</td>\n",
       "    </tr>\n",
       "    <tr>\n",
       "      <th>83039</th>\n",
       "      <td>1</td>\n",
       "    </tr>\n",
       "    <tr>\n",
       "      <th>So</th>\n",
       "      <td>2</td>\n",
       "    </tr>\n",
       "    <tr>\n",
       "      <th>ansr</th>\n",
       "      <td>4</td>\n",
       "    </tr>\n",
       "  </tbody>\n",
       "</table>\n",
       "</div>"
      ],
      "text/plain": [
       "       count\n",
       "Club       9\n",
       "Sara       1\n",
       "83039      1\n",
       "So         2\n",
       "ansr       4"
      ]
     },
     "execution_count": 6,
     "metadata": {},
     "output_type": "execute_result"
    }
   ],
   "source": [
    "# Dictionaries of word -> num occurrences\n",
    "spam_words = {} \n",
    "ham_words = {}\n",
    "\n",
    "# Strip punctuation\n",
    "translator= str.maketrans('','',string.punctuation)\n",
    "\n",
    "# First, we tokenize the words.\n",
    "# To do this, we strip punctuation and split lines by spaces.\n",
    "# Note that we do not convert to lowercase, so Free, free, and FREE \n",
    "# are all going to be different for our purposes.\n",
    "# If a word isn't in its respective dictionary (spam_words or ham_words),\n",
    "# we add it with default value 1, otherwise we increment \n",
    "# the word's number of occurrences by 1. \n",
    "\n",
    "for item,row in SMS_spamham_data.iterrows():\n",
    "    # Remove punctuation\n",
    "    line = row['SMS Message'].translate(translator)\n",
    "    # Split by space\n",
    "    line = line.split()\n",
    "    \n",
    "    for word in line:\n",
    "        # If a spam message, add it or increment count\n",
    "        # in spam_words\n",
    "        if row['Spam or Ham'] == 'spam':\n",
    "            if word in spam_words:\n",
    "                spam_words[word] = spam_words[word] + 1\n",
    "            else:\n",
    "                spam_words[word] = 1\n",
    "        # If ham, add or increment in ham_words\n",
    "        else: \n",
    "            if word in ham_words:\n",
    "                ham_words[word] = ham_words[word] + 1\n",
    "            else:\n",
    "                ham_words[word] = 1\n",
    "\n",
    "# Create a dataframe for spam SMS messages\n",
    "SMS_spam_df = pd.DataFrame.from_dict(spam_words,orient='index')\n",
    "# Rename columns\n",
    "SMS_spam_df.columns = ['count']\n",
    "# Display dataframe\n",
    "SMS_spam_df.head()"
   ]
  },
  {
   "cell_type": "markdown",
   "metadata": {},
   "source": [
    "##### Top 50 frequently used words in spam SMS messages"
   ]
  },
  {
   "cell_type": "code",
   "execution_count": 7,
   "metadata": {
    "collapsed": false
   },
   "outputs": [
    {
     "data": {
      "text/plain": [
       "to         608\n",
       "a          358\n",
       "call       189\n",
       "your       187\n",
       "or         185\n",
       "you        185\n",
       "the        178\n",
       "2          173\n",
       "for        170\n",
       "is         149\n",
       "on         138\n",
       "Call       137\n",
       "now        131\n",
       "have       128\n",
       "4          119\n",
       "and        119\n",
       "from       116\n",
       "FREE       112\n",
       "ur         107\n",
       "with       102\n",
       "mobile      95\n",
       "of          93\n",
       "U           85\n",
       "claim       78\n",
       "are         77\n",
       "You         77\n",
       "our         76\n",
       "prize       73\n",
       "To          73\n",
       "text        72\n",
       "Your        71\n",
       "Txt         70\n",
       "txt         70\n",
       "in          68\n",
       "u           62\n",
       "STOP        62\n",
       "free        62\n",
       "only        58\n",
       "reply       58\n",
       "contact     56\n",
       "be          50\n",
       "16          49\n",
       "won         49\n",
       "service     49\n",
       "who         48\n",
       "week        48\n",
       "just        47\n",
       "send        47\n",
       "out         47\n",
       "Nokia       46\n",
       "Name: count, dtype: int64"
      ]
     },
     "execution_count": 7,
     "metadata": {},
     "output_type": "execute_result"
    }
   ],
   "source": [
    "SMS_spam_df['count'].nlargest(50)"
   ]
  },
  {
   "cell_type": "markdown",
   "metadata": {},
   "source": [
    "#### Finding The Top 50 Frequently Used Words in Ham SMS Messages"
   ]
  },
  {
   "cell_type": "markdown",
   "metadata": {},
   "source": [
    "##### Get frequency of words\n",
    "We will now get the frequency of all the different words used in ham SMS messages."
   ]
  },
  {
   "cell_type": "code",
   "execution_count": 8,
   "metadata": {
    "collapsed": false,
    "scrolled": true
   },
   "outputs": [
    {
     "data": {
      "text/html": [
       "<div>\n",
       "<table border=\"1\" class=\"dataframe\">\n",
       "  <thead>\n",
       "    <tr style=\"text-align: right;\">\n",
       "      <th></th>\n",
       "      <th>count</th>\n",
       "    </tr>\n",
       "  </thead>\n",
       "  <tbody>\n",
       "    <tr>\n",
       "      <th>mattermsg</th>\n",
       "      <td>1</td>\n",
       "    </tr>\n",
       "    <tr>\n",
       "      <th>bird</th>\n",
       "      <td>1</td>\n",
       "    </tr>\n",
       "    <tr>\n",
       "      <th>Designation</th>\n",
       "      <td>1</td>\n",
       "    </tr>\n",
       "    <tr>\n",
       "      <th>Mittelschmertz</th>\n",
       "      <td>1</td>\n",
       "    </tr>\n",
       "    <tr>\n",
       "      <th>So</th>\n",
       "      <td>117</td>\n",
       "    </tr>\n",
       "  </tbody>\n",
       "</table>\n",
       "</div>"
      ],
      "text/plain": [
       "                count\n",
       "mattermsg           1\n",
       "bird                1\n",
       "Designation         1\n",
       "Mittelschmertz      1\n",
       "So                117"
      ]
     },
     "execution_count": 8,
     "metadata": {},
     "output_type": "execute_result"
    }
   ],
   "source": [
    "# Create dataframe for non-spam SMS messages\n",
    "SMS_ham_df = pd.DataFrame.from_dict(ham_words,orient='index')\n",
    "# Rename columns\n",
    "SMS_ham_df.columns = ['count']\n",
    "# Display dataframe\n",
    "SMS_ham_df.head()"
   ]
  },
  {
   "cell_type": "markdown",
   "metadata": {},
   "source": [
    "##### Top 50 frequently used words in ham SMS messages"
   ]
  },
  {
   "cell_type": "code",
   "execution_count": 9,
   "metadata": {
    "collapsed": false,
    "scrolled": true
   },
   "outputs": [
    {
     "data": {
      "text/plain": [
       "you     1624\n",
       "to      1540\n",
       "I       1448\n",
       "the     1021\n",
       "a        971\n",
       "in       759\n",
       "and      740\n",
       "i        737\n",
       "u        716\n",
       "me       701\n",
       "is       656\n",
       "my       620\n",
       "it       518\n",
       "of       504\n",
       "for      480\n",
       "that     440\n",
       "your     374\n",
       "on       364\n",
       "have     349\n",
       "not      344\n",
       "at       338\n",
       "are      322\n",
       "be       318\n",
       "2        305\n",
       "Im       301\n",
       "can      293\n",
       "will     293\n",
       "get      290\n",
       "so       284\n",
       "but      278\n",
       "ltgt     276\n",
       "do       268\n",
       "up       260\n",
       "U        256\n",
       "now      256\n",
       "with     250\n",
       "go       231\n",
       "when     226\n",
       "know     226\n",
       "if       218\n",
       "like     217\n",
       "we       209\n",
       "come     206\n",
       "out      205\n",
       "call     203\n",
       "got      202\n",
       "dont     202\n",
       "all      199\n",
       "this     192\n",
       "just     192\n",
       "Name: count, dtype: int64"
      ]
     },
     "execution_count": 9,
     "metadata": {},
     "output_type": "execute_result"
    }
   ],
   "source": [
    "SMS_ham_df['count'].nlargest(50)"
   ]
  },
  {
   "cell_type": "markdown",
   "metadata": {},
   "source": [
    "Now that we've found the most commonly used words in spam and ham SMS messages, notice that many of the words are similar since words such as 'u','and', and 'the' are common between both. Therefore, we will next find the words most commonly used only in spam SMS messages."
   ]
  },
  {
   "cell_type": "markdown",
   "metadata": {},
   "source": [
    "<a id='1'></a>\n",
    "### Finding Words Used Only in Spam SMS Messages"
   ]
  },
  {
   "cell_type": "markdown",
   "metadata": {},
   "source": [
    "##### Get frequency of words"
   ]
  },
  {
   "cell_type": "code",
   "execution_count": 10,
   "metadata": {
    "collapsed": false
   },
   "outputs": [
    {
     "data": {
      "text/html": [
       "<div>\n",
       "<table border=\"1\" class=\"dataframe\">\n",
       "  <thead>\n",
       "    <tr style=\"text-align: right;\">\n",
       "      <th></th>\n",
       "      <th>count</th>\n",
       "    </tr>\n",
       "  </thead>\n",
       "  <tbody>\n",
       "    <tr>\n",
       "      <th>Club</th>\n",
       "      <td>9</td>\n",
       "    </tr>\n",
       "    <tr>\n",
       "      <th>Sara</th>\n",
       "      <td>1</td>\n",
       "    </tr>\n",
       "    <tr>\n",
       "      <th>83039</th>\n",
       "      <td>1</td>\n",
       "    </tr>\n",
       "    <tr>\n",
       "      <th>ansr</th>\n",
       "      <td>4</td>\n",
       "    </tr>\n",
       "    <tr>\n",
       "      <th>Filthy</th>\n",
       "      <td>1</td>\n",
       "    </tr>\n",
       "  </tbody>\n",
       "</table>\n",
       "</div>"
      ],
      "text/plain": [
       "        count\n",
       "Club        9\n",
       "Sara        1\n",
       "83039       1\n",
       "ansr        4\n",
       "Filthy      1"
      ]
     },
     "execution_count": 10,
     "metadata": {},
     "output_type": "execute_result"
    }
   ],
   "source": [
    "# Get sets of all words in each dataframe\n",
    "ham_set = set([ line for line in SMS_ham_df.index])\n",
    "spam_set = set([ line for line in SMS_spam_df.index])\n",
    "\n",
    "# Do set difference to get the words found in spam and not in ham\n",
    "only_SMS_spam_set = spam_set.difference(ham_set)\n",
    "\n",
    "# Filter the dataframe\n",
    "# Note: This only contains the words used by spammers\n",
    "only_SMS_spam_df = SMS_spam_df.ix[only_SMS_spam_set]\n",
    "only_SMS_spam_df.head()"
   ]
  },
  {
   "cell_type": "markdown",
   "metadata": {},
   "source": [
    "##### 50 most commonly used words only in spam SMS messages"
   ]
  },
  {
   "cell_type": "code",
   "execution_count": 11,
   "metadata": {
    "collapsed": false
   },
   "outputs": [
    {
     "data": {
      "text/plain": [
       "claim          78\n",
       "prize          73\n",
       "won            49\n",
       "18             43\n",
       "URGENT         41\n",
       "awarded        37\n",
       "å£1000         35\n",
       "Claim          32\n",
       "150ppm         32\n",
       "å£2000         31\n",
       "TCs            29\n",
       "PO             28\n",
       "å£150          27\n",
       "guaranteed     26\n",
       "collection     26\n",
       "tone           26\n",
       "500            25\n",
       "entry          25\n",
       "GUARANTEED     23\n",
       "WON            23\n",
       "Orange         23\n",
       "å£100          22\n",
       "150p           22\n",
       "weekly         22\n",
       "Holiday        21\n",
       "8007           21\n",
       "SAE            21\n",
       "Valid          20\n",
       "TC             20\n",
       "Box            20\n",
       "å£5000         20\n",
       "86688          19\n",
       "Todays         19\n",
       "WIN            19\n",
       "Prize          19\n",
       "å£500          19\n",
       "land           18\n",
       "750            18\n",
       "mob            18\n",
       "ringtone       18\n",
       "Urgent         17\n",
       "vouchers       17\n",
       "Code           17\n",
       "12hrs          17\n",
       "Expires        17\n",
       "tones          17\n",
       "TsCs           17\n",
       "å£250          16\n",
       "08000930705    16\n",
       "Identifier     16\n",
       "Name: count, dtype: int64"
      ]
     },
     "execution_count": 11,
     "metadata": {},
     "output_type": "execute_result"
    }
   ],
   "source": [
    "# Get top 50 SMS words\n",
    "sms_largest = only_SMS_spam_df['count'].nlargest(50)\n",
    "# Get top 15 SMS words (used for graphing)\n",
    "sms_fifteen_largest = only_SMS_spam_df['count'].nlargest(15)\n",
    "# Display top 50\n",
    "sms_largest"
   ]
  },
  {
   "cell_type": "markdown",
   "metadata": {},
   "source": [
    "##### Visualize The Data"
   ]
  },
  {
   "cell_type": "markdown",
   "metadata": {},
   "source": [
    "Since the words we need to graph must be displayed on the X-axis, we will only graph the top 15 words most used by spammers. You can see that they correspond to the top 15 words in the sms_largest dataframe."
   ]
  },
  {
   "cell_type": "code",
   "execution_count": 12,
   "metadata": {
    "collapsed": false
   },
   "outputs": [
    {
     "data": {
      "image/png": "[encoded data removed]",
      "text/plain": [
       "<matplotlib.figure.Figure at 0x1a2d3823470>"
      ]
     },
     "metadata": {},
     "output_type": "display_data"
    }
   ],
   "source": [
    "graph_x = list(sms_fifteen_largest.index)\n",
    "graph_y = list(sms_fifteen_largest.get_values())\n",
    "# Add spacing between bars\n",
    "spacing = np.arange(len(graph_x))\n",
    "plt.figure(figsize=(16,5))\n",
    "# Create the bar graph showing word frequency\n",
    "plt.bar(spacing,graph_y,width=0.5,align='center',alpha=1.0)\n",
    "plt.xticks(spacing,graph_x)\n",
    "# Set axes and title\n",
    "plt.xlabel('Word')\n",
    "plt.ylabel('Frequency')\n",
    "plt.title('Frequency of Top 15 Words Used in Spam SMS Messages')\n",
    "plt.show()"
   ]
  },
  {
   "cell_type": "markdown",
   "metadata": {},
   "source": [
    "Through these transformations, we can conclude that text messages containing words related to winning prizes or monetary values/symbols have a high likelihood of being a spam text message. The words 'claim', 'prize', and 'won' are the most frequently occurring words in spam text messages. The rest of the words in the list above are also related to 'winning' or 'prizes'. There also seems to be a trend of spam messages to contain words with poor spacing or not pronounceable combinations of letters and numbers, which are common signs of spam messaging."
   ]
  },
  {
   "cell_type": "markdown",
   "metadata": {},
   "source": [
    "<a id='spam2'></a>\n",
    "### Email Messages"
   ]
  },
  {
   "cell_type": "markdown",
   "metadata": {},
   "source": [
    "Next, we do the same analysis as above with email data."
   ]
  },
  {
   "cell_type": "markdown",
   "metadata": {},
   "source": [
    "#### Finding The Top 50 Frequently Used Words in Spam Emails"
   ]
  },
  {
   "cell_type": "markdown",
   "metadata": {},
   "source": [
    "##### Get frequency of words"
   ]
  },
  {
   "cell_type": "code",
   "execution_count": 13,
   "metadata": {
    "collapsed": false,
    "scrolled": false
   },
   "outputs": [
    {
     "data": {
      "text/html": [
       "<div>\n",
       "<table border=\"1\" class=\"dataframe\">\n",
       "  <thead>\n",
       "    <tr style=\"text-align: right;\">\n",
       "      <th></th>\n",
       "      <th>count</th>\n",
       "    </tr>\n",
       "  </thead>\n",
       "  <tbody>\n",
       "    <tr>\n",
       "      <th>bird</th>\n",
       "      <td>1</td>\n",
       "    </tr>\n",
       "    <tr>\n",
       "      <th>dfw</th>\n",
       "      <td>1</td>\n",
       "    </tr>\n",
       "    <tr>\n",
       "      <th>pretender</th>\n",
       "      <td>1</td>\n",
       "    </tr>\n",
       "    <tr>\n",
       "      <th>earnings</th>\n",
       "      <td>19</td>\n",
       "    </tr>\n",
       "    <tr>\n",
       "      <th>formulation</th>\n",
       "      <td>1</td>\n",
       "    </tr>\n",
       "  </tbody>\n",
       "</table>\n",
       "</div>"
      ],
      "text/plain": [
       "             count\n",
       "bird             1\n",
       "dfw              1\n",
       "pretender        1\n",
       "earnings        19\n",
       "formulation      1"
      ]
     },
     "execution_count": 13,
     "metadata": {},
     "output_type": "execute_result"
    }
   ],
   "source": [
    "# Dictionaries of word -> num occurrences\n",
    "spam_words = {} \n",
    "ham_words = {}\n",
    "\n",
    "# Used for stripping punctuation\n",
    "translator= str.maketrans('','',string.punctuation) #for stripping punctuation\n",
    "\n",
    "# First, we tokenize the words.\n",
    "# To do this, we strip punctuation and split lines by spaces.\n",
    "# Note that we do not convert to lowercase, so Free, free, and FREE \n",
    "# are all going to be different for our purposes.\n",
    "# If a word isn't in its respective dictionary (spam_words or ham_words),\n",
    "# we add it with default value 1, otherwise we increment \n",
    "# the word's number of occurrences by 1. \n",
    "\n",
    "for item,row in email_spamham_data.iterrows():\n",
    "    # Remove punctuation\n",
    "    line = row['Email Message'].translate(translator)\n",
    "    # Split by space\n",
    "    line = line.split()\n",
    "    \n",
    "    for word in line:\n",
    "        # If spam email, add it to spam_words dictionary\n",
    "        if row['Spam or Ham'] == 'spam':\n",
    "            if word in spam_words:\n",
    "                spam_words[word] = spam_words[word] + 1\n",
    "            else:\n",
    "                spam_words[word] = 1\n",
    "        # If ham email, add it to ham_words dictionary\n",
    "        else: \n",
    "            if word in ham_words:\n",
    "                ham_words[word] = ham_words[word] + 1\n",
    "            else:\n",
    "                ham_words[word] = 1\n",
    "\n",
    "# Create dataframe for spam emails\n",
    "email_spam_df = pd.DataFrame.from_dict(spam_words,orient='index')\n",
    "# Rename columns\n",
    "email_spam_df.columns = ['count']\n",
    "# Display dataframe\n",
    "email_spam_df.head()"
   ]
  },
  {
   "cell_type": "markdown",
   "metadata": {},
   "source": [
    "##### Top 50 frequently used words in spam emails"
   ]
  },
  {
   "cell_type": "code",
   "execution_count": 14,
   "metadata": {
    "collapsed": false
   },
   "outputs": [
    {
     "data": {
      "text/plain": [
       "email          1754\n",
       "s              1572\n",
       "order          1502\n",
       "report         1315\n",
       "address        1300\n",
       "our            1183\n",
       "mail           1173\n",
       "program        1046\n",
       "send           1032\n",
       "free            953\n",
       "list            942\n",
       "receive         887\n",
       "money           873\n",
       "name            871\n",
       "d               841\n",
       "business        753\n",
       "one             732\n",
       "work            675\n",
       "com             670\n",
       "nt              662\n",
       "internet        643\n",
       "http            610\n",
       "please          603\n",
       "day             593\n",
       "information     589\n",
       "over            577\n",
       "check           531\n",
       "us              502\n",
       "market          476\n",
       "each            476\n",
       "web             476\n",
       "want            466\n",
       "call            452\n",
       "site            450\n",
       "follow          437\n",
       "remove          437\n",
       "product         427\n",
       "start           423\n",
       "need            408\n",
       "letter          403\n",
       "week            401\n",
       "here            393\n",
       "service         390\n",
       "every           381\n",
       "software        380\n",
       "include         376\n",
       "credit          375\n",
       "offer           373\n",
       "many            350\n",
       "best            349\n",
       "Name: count, dtype: int64"
      ]
     },
     "execution_count": 14,
     "metadata": {},
     "output_type": "execute_result"
    }
   ],
   "source": [
    "email_spam_df['count'].nlargest(50)"
   ]
  },
  {
   "cell_type": "markdown",
   "metadata": {},
   "source": [
    "#### Finding The Top 50 Frequently Used Words in Ham Emails"
   ]
  },
  {
   "cell_type": "markdown",
   "metadata": {},
   "source": [
    "##### Get frequency of words"
   ]
  },
  {
   "cell_type": "code",
   "execution_count": 15,
   "metadata": {
    "collapsed": false,
    "scrolled": false
   },
   "outputs": [
    {
     "data": {
      "text/html": [
       "<div>\n",
       "<table border=\"1\" class=\"dataframe\">\n",
       "  <thead>\n",
       "    <tr style=\"text-align: right;\">\n",
       "      <th></th>\n",
       "      <th>count</th>\n",
       "    </tr>\n",
       "  </thead>\n",
       "  <tbody>\n",
       "    <tr>\n",
       "      <th>dkibbee</th>\n",
       "      <td>1</td>\n",
       "    </tr>\n",
       "    <tr>\n",
       "      <th>inhouse</th>\n",
       "      <td>2</td>\n",
       "    </tr>\n",
       "    <tr>\n",
       "      <th>nword</th>\n",
       "      <td>2</td>\n",
       "    </tr>\n",
       "    <tr>\n",
       "      <th>violet</th>\n",
       "      <td>1</td>\n",
       "    </tr>\n",
       "    <tr>\n",
       "      <th>tocharisch</th>\n",
       "      <td>1</td>\n",
       "    </tr>\n",
       "  </tbody>\n",
       "</table>\n",
       "</div>"
      ],
      "text/plain": [
       "            count\n",
       "dkibbee         1\n",
       "inhouse         2\n",
       "nword           2\n",
       "violet          1\n",
       "tocharisch      1"
      ]
     },
     "execution_count": 15,
     "metadata": {},
     "output_type": "execute_result"
    }
   ],
   "source": [
    "# Create dataframe for non-spam emails\n",
    "email_ham_df = pd.DataFrame.from_dict(ham_words,orient='index')\n",
    "# Rename columns\n",
    "email_ham_df.columns = ['count']\n",
    "# Display dataframe\n",
    "email_ham_df.head()"
   ]
  },
  {
   "cell_type": "markdown",
   "metadata": {},
   "source": [
    "##### Top 50 frequently used words in ham emails"
   ]
  },
  {
   "cell_type": "code",
   "execution_count": 16,
   "metadata": {
    "collapsed": false,
    "scrolled": true
   },
   "outputs": [
    {
     "data": {
      "text/plain": [
       "language       1525\n",
       "university     1268\n",
       "s               878\n",
       "linguistic      660\n",
       "de              569\n",
       "information     540\n",
       "conference      495\n",
       "workshop        479\n",
       "english         477\n",
       "e               420\n",
       "email           418\n",
       "one             398\n",
       "paper           395\n",
       "please          371\n",
       "include         368\n",
       "edu             364\n",
       "research        351\n",
       "address         350\n",
       "abstract        340\n",
       "http            335\n",
       "fax             328\n",
       "word            317\n",
       "h               315\n",
       "papers          315\n",
       "d               302\n",
       "speech          301\n",
       "submission      283\n",
       "theory          281\n",
       "www             277\n",
       "m               276\n",
       "linguistics     269\n",
       "system          268\n",
       "follow          266\n",
       "send            261\n",
       "call            254\n",
       "work            250\n",
       "interest        246\n",
       "l               240\n",
       "c               238\n",
       "book            235\n",
       "study           235\n",
       "case            234\n",
       "session         234\n",
       "form            233\n",
       "uk              230\n",
       "usa             230\n",
       "o               219\n",
       "page            219\n",
       "first           217\n",
       "g               216\n",
       "Name: count, dtype: int64"
      ]
     },
     "execution_count": 16,
     "metadata": {},
     "output_type": "execute_result"
    }
   ],
   "source": [
    "email_ham_df['count'].nlargest(50)"
   ]
  },
  {
   "cell_type": "markdown",
   "metadata": {},
   "source": [
    "<a id='2'></a>\n",
    "### Finding Words Used Only In Spam Emails"
   ]
  },
  {
   "cell_type": "markdown",
   "metadata": {},
   "source": [
    "##### Get frequency of words"
   ]
  },
  {
   "cell_type": "code",
   "execution_count": 17,
   "metadata": {
    "collapsed": false
   },
   "outputs": [
    {
     "data": {
      "text/html": [
       "<div>\n",
       "<table border=\"1\" class=\"dataframe\">\n",
       "  <thead>\n",
       "    <tr style=\"text-align: right;\">\n",
       "      <th></th>\n",
       "      <th>count</th>\n",
       "    </tr>\n",
       "  </thead>\n",
       "  <tbody>\n",
       "    <tr>\n",
       "      <th>dfw</th>\n",
       "      <td>1</td>\n",
       "    </tr>\n",
       "    <tr>\n",
       "      <th>continual</th>\n",
       "      <td>11</td>\n",
       "    </tr>\n",
       "    <tr>\n",
       "      <th>buyer</th>\n",
       "      <td>20</td>\n",
       "    </tr>\n",
       "    <tr>\n",
       "      <th>htmor</th>\n",
       "      <td>1</td>\n",
       "    </tr>\n",
       "    <tr>\n",
       "      <th>innaccuracy</th>\n",
       "      <td>1</td>\n",
       "    </tr>\n",
       "  </tbody>\n",
       "</table>\n",
       "</div>"
      ],
      "text/plain": [
       "             count\n",
       "dfw              1\n",
       "continual       11\n",
       "buyer           20\n",
       "htmor            1\n",
       "innaccuracy      1"
      ]
     },
     "execution_count": 17,
     "metadata": {},
     "output_type": "execute_result"
    }
   ],
   "source": [
    "# Get sets of all words in each dataframe\n",
    "ham_set = set([ line for line in email_ham_df.index])\n",
    "spam_set = set([ line for line in email_spam_df.index])\n",
    "\n",
    "# Do set difference to get the words found in spam and not in ham\n",
    "only_email_spam_set = spam_set.difference(ham_set)\n",
    "\n",
    "# Filter the DataFrame\n",
    "# This only contains words used by spammers\n",
    "only_email_spam_df = email_spam_df.ix[only_email_spam_set]\n",
    "only_email_spam_df.head()"
   ]
  },
  {
   "cell_type": "markdown",
   "metadata": {},
   "source": [
    "##### Top 50 words "
   ]
  },
  {
   "cell_type": "code",
   "execution_count": 18,
   "metadata": {
    "collapsed": false
   },
   "outputs": [
    {
     "data": {
      "text/plain": [
       "nbsp             196\n",
       "capitalfm        196\n",
       "ffa              183\n",
       "floodgate        150\n",
       "aol              133\n",
       "bonus            119\n",
       "mailing          118\n",
       "investment       118\n",
       "profit           111\n",
       "hundred           95\n",
       "reports           93\n",
       "links             82\n",
       "stealth           82\n",
       "millions          75\n",
       "always            75\n",
       "offshore          73\n",
       "sales             67\n",
       "invest            62\n",
       "tm                60\n",
       "mlm               60\n",
       "toll              56\n",
       "recruit           55\n",
       "amaze             55\n",
       "album             54\n",
       "mailer            52\n",
       "xxx               51\n",
       "spam              49\n",
       "goldrush          48\n",
       "isp               48\n",
       "cable             48\n",
       "cent              48\n",
       "hottest           47\n",
       "marketing         47\n",
       "ems               46\n",
       "campaign          45\n",
       "boyfriend         45\n",
       "tvsr              45\n",
       "postage           44\n",
       "undeliverable     43\n",
       "sameday           43\n",
       "chat              43\n",
       "celebrity         43\n",
       "fortune           42\n",
       "addresses         41\n",
       "unlimit           41\n",
       "programs          40\n",
       "guaranteed        40\n",
       "resell            39\n",
       "judicial          39\n",
       "fantastic         38\n",
       "Name: count, dtype: int64"
      ]
     },
     "execution_count": 18,
     "metadata": {},
     "output_type": "execute_result"
    }
   ],
   "source": [
    "# Get top 50 words in spam email\n",
    "email_largest = only_email_spam_df['count'].nlargest(50)\n",
    "# Top 15 words in spam email (for graphing)\n",
    "email_fifteen_largest = only_email_spam_df['count'].nlargest(15)\n",
    "# Display top 50\n",
    "email_largest"
   ]
  },
  {
   "cell_type": "markdown",
   "metadata": {},
   "source": [
    "##### Visualize The Data"
   ]
  },
  {
   "cell_type": "markdown",
   "metadata": {},
   "source": [
    "Since the words we need to graph must be displayed on the X-axis, we will only graph the information about the top 15 words used by spammers. You can see that they correspond to the top 15 words in the email_largest dataframe. "
   ]
  },
  {
   "cell_type": "code",
   "execution_count": 19,
   "metadata": {
    "collapsed": false
   },
   "outputs": [
    {
     "data": {
      "image/png": "[encoded data removed]",
      "text/plain": [
       "<matplotlib.figure.Figure at 0x1a2d3dd5ba8>"
      ]
     },
     "metadata": {},
     "output_type": "display_data"
    }
   ],
   "source": [
    "graph_x = list(email_fifteen_largest.index)\n",
    "graph_y = list(email_fifteen_largest.get_values())\n",
    "# Add spacing between bars\n",
    "spacing = np.arange(len(graph_x))\n",
    "plt.figure(figsize=(16,5))\n",
    "# Create bar graph\n",
    "plt.bar(spacing,graph_y,width=0.5,align='center',color = 'orange',alpha=1.0)\n",
    "plt.xticks(spacing,graph_x)\n",
    "# Add axes and title\n",
    "plt.xlabel('Word')\n",
    "plt.ylabel('Frequency')\n",
    "plt.title('Frequency of Top 15 Words Used in Spam Emails')\n",
    "plt.show()"
   ]
  },
  {
   "cell_type": "markdown",
   "metadata": {},
   "source": [
    "Through the transformations on email data, we can determine that there are fewer references to money, fewer spacing mistakes, and fewer acronyms which is why email spam may be tougher to detect than SMS spam. Since there is more variety in the topics within the top fifteen spam words for email, it opens up the opportunity for future research into whether spammers change tactics because recipients are more likely to read long emails rather than long SMS messages. Interestingly, 'capitalfm' seemed to be the most common phrase in all spam, but that may be because of where the email dataset sourced its data. Since there are still references to money, such as 'millions' and 'profit', we can see some similarity between SMS spam and email spam. In the next section, we will do transformations to determine the most common topics and words in both email spam and SMS spam. "
   ]
  },
  {
   "cell_type": "markdown",
   "metadata": {},
   "source": [
    "<a id='3'></a>\n",
    "### Finding the Most Common Words Used Across Spam Email and Spam SMS"
   ]
  },
  {
   "cell_type": "markdown",
   "metadata": {},
   "source": [
    "Now that we've found the most frequently used words in spam/ham SMS and email, we are going to determine which words are most commonly used in both spam SMS messages and spam emails. This will help us figure out the similarity between spam SMS messages and spam emails."
   ]
  },
  {
   "cell_type": "code",
   "execution_count": 20,
   "metadata": {
    "collapsed": false
   },
   "outputs": [],
   "source": [
    "# Create sets of the data and do set intersection to get common words\n",
    "email_spam = set([ line for line in only_email_spam_df.index])\n",
    "SMS_spam = set([ line for line in only_SMS_spam_df.index])\n",
    "common_words_set = email_spam.intersection(SMS_spam)"
   ]
  },
  {
   "cell_type": "code",
   "execution_count": 21,
   "metadata": {
    "collapsed": false
   },
   "outputs": [
    {
     "data": {
      "text/html": [
       "<div>\n",
       "<table border=\"1\" class=\"dataframe\">\n",
       "  <thead>\n",
       "    <tr style=\"text-align: right;\">\n",
       "      <th></th>\n",
       "      <th>count</th>\n",
       "    </tr>\n",
       "  </thead>\n",
       "  <tbody>\n",
       "    <tr>\n",
       "      <th>skills</th>\n",
       "      <td>2</td>\n",
       "    </tr>\n",
       "    <tr>\n",
       "      <th>blonde</th>\n",
       "      <td>3</td>\n",
       "    </tr>\n",
       "    <tr>\n",
       "      <th>fastest</th>\n",
       "      <td>16</td>\n",
       "    </tr>\n",
       "    <tr>\n",
       "      <th>amazing</th>\n",
       "      <td>31</td>\n",
       "    </tr>\n",
       "    <tr>\n",
       "      <th>charged</th>\n",
       "      <td>12</td>\n",
       "    </tr>\n",
       "  </tbody>\n",
       "</table>\n",
       "</div>"
      ],
      "text/plain": [
       "         count\n",
       "skills       2\n",
       "blonde       3\n",
       "fastest     16\n",
       "amazing     31\n",
       "charged     12"
      ]
     },
     "execution_count": 21,
     "metadata": {},
     "output_type": "execute_result"
    }
   ],
   "source": [
    "common = {}\n",
    "\n",
    "# Create a dict of the frequencies. \n",
    "# For each word, we add the count from \n",
    "# only_email_spam and only_SMS_spam\n",
    "for word in common_words_set:\n",
    "    common[word] = only_email_spam_df.ix[word]['count'] + only_SMS_spam_df.ix[word]['count']\n",
    "\n",
    "# Make a dataframe of common words\n",
    "common_words_df = pd.DataFrame.from_dict(common,orient='index')\n",
    "# Rename columns\n",
    "common_words_df.columns = ['count']\n",
    "# Display dataframe\n",
    "common_words_df.head()"
   ]
  },
  {
   "cell_type": "markdown",
   "metadata": {},
   "source": [
    "##### Top 50 frequently used words in both email and SMS spam"
   ]
  },
  {
   "cell_type": "code",
   "execution_count": 22,
   "metadata": {
    "collapsed": false
   },
   "outputs": [
    {
     "data": {
      "text/plain": [
       "bonus           121\n",
       "guaranteed       66\n",
       "won              52\n",
       "marketing        48\n",
       "unsubscribe      43\n",
       "amazing          31\n",
       "largest          30\n",
       "upgrade          28\n",
       "rental           21\n",
       "stamped          21\n",
       "tips             19\n",
       "premium          19\n",
       "fraction         18\n",
       "newest           18\n",
       "warranty         17\n",
       "dating           17\n",
       "singles          17\n",
       "fastest          16\n",
       "porn             16\n",
       "recieve          15\n",
       "fantasy          14\n",
       "abuse            14\n",
       "tune             14\n",
       "charged          12\n",
       "chart            12\n",
       "bundle           11\n",
       "passion          11\n",
       "erotic           10\n",
       "clip             10\n",
       "entitled          9\n",
       "spree             9\n",
       "quiz              9\n",
       "sexiest           9\n",
       "horny             9\n",
       "optin             8\n",
       "arsenal           7\n",
       "customers         7\n",
       "discreet          7\n",
       "deals             6\n",
       "revealed          6\n",
       "records           6\n",
       "delivered         6\n",
       "improved          6\n",
       "companies         5\n",
       "optout            5\n",
       "flag              5\n",
       "compensation      4\n",
       "growing           4\n",
       "soundtrack        4\n",
       "refused           4\n",
       "Name: count, dtype: int64"
      ]
     },
     "execution_count": 22,
     "metadata": {},
     "output_type": "execute_result"
    }
   ],
   "source": [
    "# Get the top 50\n",
    "common_largest = common_words_df['count'].nlargest(50)\n",
    "# Get the top 15 (for graphing)\n",
    "common_15_largest = common_words_df['count'].nlargest(15)\n",
    "# Display top 50\n",
    "common_largest"
   ]
  },
  {
   "cell_type": "markdown",
   "metadata": {},
   "source": [
    "##### Visualize The Data"
   ]
  },
  {
   "cell_type": "code",
   "execution_count": 23,
   "metadata": {
    "collapsed": false
   },
   "outputs": [
    {
     "data": {
      "image/png": "[encoded data removed]",
      "text/plain": [
       "<matplotlib.figure.Figure at 0x1a2d3f96cc0>"
      ]
     },
     "metadata": {},
     "output_type": "display_data"
    }
   ],
   "source": [
    "graph_x = list(common_15_largest.index)\n",
    "graph_y = list(common_15_largest.get_values())\n",
    "# Add spacing between bars\n",
    "spacing = np.arange(len(graph_x))\n",
    "plt.figure(figsize=(20,5))\n",
    "# Create bar graph\n",
    "plt.bar(spacing,graph_y,width=0.5,align='center',color = 'green',alpha=1.0)\n",
    "plt.xticks(spacing,graph_x)\n",
    "# Add axes and title\n",
    "plt.xlabel('Word')\n",
    "plt.ylabel('Frequency')\n",
    "plt.title('Frequency of Top 15 Words Used in Both SMS and Email Spam')\n",
    "plt.show()"
   ]
  },
  {
   "cell_type": "markdown",
   "metadata": {},
   "source": [
    "As shown by the above dataframe and graph, words such as 'bonus', 'guaranteed', and 'won' are commonly used in both SMS and email spam messages. Their prevalence in spam messages indicates that scammers rely on ploys that involve telling the recipient that they have won something, regardless of the platform the messages are sent through. "
   ]
  },
  {
   "cell_type": "markdown",
   "metadata": {},
   "source": [
    "<a id='4'></a>\n",
    "## Building a Basic Text Classifier Using Machine Learning"
   ]
  },
  {
   "cell_type": "markdown",
   "metadata": {},
   "source": [
    "After we have analyzed our data, the next step is to build a classifier that distinguishes between spam and ham SMS and email messages. The code below will do just that. We start off by transforming our SMS and email data to a form that can be used by different classifiers. Then, we will evaluate classifier accuracy for different classifiers. Once we find a classifier that performs well on our data, we will use that classifier to predict whether a given SMS or email message is spam or not."
   ]
  },
  {
   "cell_type": "markdown",
   "metadata": {},
   "source": [
    "<a id='5'></a>\n",
    "### Transforming SMS Data"
   ]
  },
  {
   "cell_type": "markdown",
   "metadata": {},
   "source": [
    "First, we generate two lists of SMS data. The first list, SMS_train_data will contain the SMS messages in our dataframe that will be used to train our classifiers. The second list, SMS_train_target will contain the list of spam or ham classification labels. Note that the number of items in this list will correspond to the number of items in the first list. "
   ]
  },
  {
   "cell_type": "code",
   "execution_count": 24,
   "metadata": {
    "collapsed": true
   },
   "outputs": [],
   "source": [
    "# Create a list of SMS messages and a corresponding list\n",
    "# of whether that message is spam or ham\n",
    "SMS_train_data = list(SMS_spamham_data['SMS Message'])\n",
    "SMS_train_target = list(SMS_spamham_data['Spam or Ham'])"
   ]
  },
  {
   "cell_type": "markdown",
   "metadata": {},
   "source": [
    "In the code below, we perform the transformations on our data. First, we convert our target labels to binary. Then, we do feature extraction on our data. The 'CountVectorizer' function from Scikit-Learn converts a collection of text documents (SMS messages) to a matrix of token counts. The 'TfidfTransformer' method then transforms the count matrix to a normalized tf or tf-idf representation. 'Tf' stands for term-frequency while 'tf-idf' means term-frequency times inverse document-frequency. In document/text classification, this is the most commonly used term weighting scheme in information retrieval. We use the tf-idf instead of raw frequencies of occurrence of a token in a given document because we need to scale down the impact of tokens that occur very frequently in a given corpus and that are hence empirically less informative than features that occur in a small fraction of the training corpus."
   ]
  },
  {
   "cell_type": "code",
   "execution_count": 25,
   "metadata": {
    "collapsed": true
   },
   "outputs": [],
   "source": [
    "# Binarize target labels\n",
    "lb = preprocessing.LabelBinarizer()\n",
    "SMS_train_target = np.array([number[0] for number in lb.fit_transform(SMS_train_target)])\n",
    "\n",
    "# Transform data\n",
    "sms_count_vect = CountVectorizer(decode_error = 'replace')\n",
    "sms_train_counts = sms_count_vect.fit_transform(SMS_train_data)\n",
    "sms_tfidf_transformer = TfidfTransformer()\n",
    "sms_train_tfidf = sms_tfidf_transformer.fit_transform(sms_train_counts)"
   ]
  },
  {
   "cell_type": "markdown",
   "metadata": {},
   "source": [
    "<a id='6'></a>\n",
    "### Transforming Email Data"
   ]
  },
  {
   "cell_type": "markdown",
   "metadata": {},
   "source": [
    "We do the same procedure as above on email data."
   ]
  },
  {
   "cell_type": "code",
   "execution_count": 26,
   "metadata": {
    "collapsed": false
   },
   "outputs": [],
   "source": [
    "# Create a list of email messages and a corresponding list\n",
    "# of whether that message is spam or ham\n",
    "email_train_data = list(email_spamham_data['Email Message'])\n",
    "email_train_target = list(email_spamham_data['Spam or Ham'])\n",
    "\n",
    "# Binarize data\n",
    "lb = preprocessing.LabelBinarizer()\n",
    "email_train_target = np.array([number[0] for number in lb.fit_transform(email_train_target)])\n",
    "\n",
    "# Transform data\n",
    "email_count_vect = CountVectorizer(decode_error = 'replace')\n",
    "email_train_counts = email_count_vect.fit_transform(email_train_data)\n",
    "email_tfidf_transformer = TfidfTransformer()\n",
    "email_train_tfidf = email_tfidf_transformer.fit_transform(email_train_counts)"
   ]
  },
  {
   "cell_type": "markdown",
   "metadata": {},
   "source": [
    "<a id='7'></a>\n",
    "### Calculating Classifier Metrics"
   ]
  },
  {
   "cell_type": "markdown",
   "metadata": {},
   "source": [
    "Our next step is to calculate classifier metrics for different classifiers. In the code below, we create a method that takes in a classifier, data to be trained (SMS or email messages), and target labels as its parameters and performs evaluation on that classifier with the provided data. We are going to measure a classifier's accuracy, precision, recall, and f1 scores. We will also use 10-fold cross-validation to evaluate predictive models by partitioning the original sample into a training set (to train the model), and a test set (to evaluate it). Accuracy refers to how close the measurements are to the known value, so higher accuracy means the classifier was able to predict better. Precision refers to how close measurements are to one another, so it represents how consistently the classifier predicted values. Recall is the ratio of correctly predicted values/values predicted. The f1 score is the average of precision and recall and is used for identifying which model best fits the data sampled. "
   ]
  },
  {
   "cell_type": "code",
   "execution_count": 27,
   "metadata": {
    "collapsed": true
   },
   "outputs": [],
   "source": [
    "# Method that calculates accuracy, f1 statistic,\n",
    "# precision, and recall for a provided classifier. \n",
    "def calculate_metrics(classifier,name_of_classifier,training_tfidf,target):\n",
    "    \n",
    "    classifier_score_list = []\n",
    "    classifier_score_list.append(name_of_classifier)\n",
    "\n",
    "    # Calculate accuracy score (Round to 4 decimal places)\n",
    "    scores0 = cross_validation.cross_val_score(classifier, training_tfidf, target, cv= 10, scoring = 'accuracy')\n",
    "    data0 = \"Accuracy: %0.4f\" % (scores0.mean())\n",
    "    classifier_score_list.append(data0)\n",
    "        \n",
    "    # Calculate f1 score\n",
    "    scores1 = cross_validation.cross_val_score(classifier, training_tfidf, target, cv=10, scoring = 'f1')\n",
    "    data1 = \"f1: %0.4f \" % (scores1.mean())\n",
    "    classifier_score_list.append(data1)\n",
    "\n",
    "    # Calculate precision score\n",
    "    scores2 = cross_validation.cross_val_score(classifier, training_tfidf, target, cv=10,scoring = 'precision')\n",
    "    data2 = \"Precision: %0.4f\" % (scores2.mean())\n",
    "    classifier_score_list.append(data2)\n",
    "\n",
    "    # Calculate recall score\n",
    "    scores3 = cross_validation.cross_val_score(classifier, training_tfidf, target, cv=10, scoring = 'recall')\n",
    "    data3 = \"Recall: %0.4f\" % (scores3.mean())\n",
    "    classifier_score_list.append(data3)\n",
    "    \n",
    "    # Returns all the scores for a specific classifier\n",
    "    return classifier_score_list"
   ]
  },
  {
   "cell_type": "markdown",
   "metadata": {},
   "source": [
    "<a id='8'></a>\n",
    "### Evaluating Classifiers"
   ]
  },
  {
   "cell_type": "markdown",
   "metadata": {},
   "source": [
    "Using Scikit-Learn, we will fit various classifiers on our data to determine which classifier would be better for training a spam filter. The list of classifiers used in the function below is not exhaustive. Please feel free to test a variety of other classifiers to see their performance on our SMS and email data."
   ]
  },
  {
   "cell_type": "markdown",
   "metadata": {},
   "source": [
    "Here is a brief description of each of the classifiers used in this section:\n",
    "<br>\n",
    "\n",
    "SVM - Also known as Support Vector Machine. When given labeled training data (supervised learning), this algorithm outputs an    optimal hyperplane which categorizes new examples.\n",
    "<br>\n",
    "\n",
    "LinearSVC - Known as Linear Support Vector Classification. This classifer scales better to large numbers of samples.\n",
    "<br>\n",
    "\n",
    "SGD - Stochastic Gradient Descent uses gradient descent for classification.\n",
    "<br>\n",
    "\n",
    "Decision Tree - Utilizes a tree-like graph or model of decisions to predict a label.\n",
    "<br>\n",
    "\n",
    "AdaBoost - Fits a classifier on the original dataset and then fits additional copies of the classifier on the same dataset but fits it where the weights of incorrectly classified instances are adjusted such that subsequent classifiers focus more on difficult cases.\n",
    "<br>\n",
    "\n",
    "Random Forests - Ensemble learning method for classification.\n",
    "<br>\n",
    "\n",
    "KNeighbors - Implements k-nearest neighbors.\n",
    "<br>\n",
    "\n",
    "Source reference: Scikit-Learn"
   ]
  },
  {
   "cell_type": "code",
   "execution_count": 28,
   "metadata": {
    "collapsed": true
   },
   "outputs": [],
   "source": [
    "# Method that will evaluate different classifiers\n",
    "def evaluate_classifier(classifier,training_tfidf,target):\n",
    "        \n",
    "    if classifier == \"SVM\":\n",
    "        svm_clf = svm.SVC(kernel='linear', C=1).fit(training_tfidf,target)\n",
    "        # Calculate metrics\n",
    "        classifier_metrics = calculate_metrics(svm_clf,classifier,training_tfidf,target)\n",
    "\n",
    "    elif classifier == \"LinearSVC\":\n",
    "        lsvc_clf = svm.LinearSVC().fit(training_tfidf,target)\n",
    "        classifier_metrics = calculate_metrics(lsvc_clf,classifier,training_tfidf,target)\n",
    "\n",
    "    elif classifier == \"SGD\":\n",
    "        sgd_clf = linear_model.SGDClassifier().fit(training_tfidf,target)\n",
    "        classifier_metrics = calculate_metrics(sgd_clf,classifier,training_tfidf,target)\n",
    "\n",
    "    elif classifier == \"DecisionTree\":\n",
    "        dt_clf = tree.DecisionTreeClassifier(random_state = 0).fit(training_tfidf,target)\n",
    "        classifier_metrics = calculate_metrics(dt_clf,classifier,training_tfidf,target)\n",
    "\n",
    "    elif classifier == \"AdaBoost\":\n",
    "        ab_clf = ensemble.AdaBoostClassifier().fit(training_tfidf,target)\n",
    "        classifier_metrics = calculate_metrics(ab_clf,classifier,training_tfidf,target)\n",
    "\n",
    "    elif classifier == \"RandomForest\":\n",
    "        rf_clf = ensemble.RandomForestClassifier().fit(training_tfidf,target)\n",
    "        classifier_metrics = calculate_metrics(rf_clf,classifier,training_tfidf,target)\n",
    "\n",
    "    elif classifier == \"KNeighbors\":\n",
    "        kn_clf = KNeighborsClassifier(n_neighbors = 3).fit(training_tfidf,target)\n",
    "        classifier_metrics = calculate_metrics(kn_clf,classifier,training_tfidf,target)\n",
    "\n",
    "    return classifier_metrics"
   ]
  },
  {
   "cell_type": "markdown",
   "metadata": {},
   "source": [
    "#### SMS Data"
   ]
  },
  {
   "cell_type": "markdown",
   "metadata": {},
   "source": [
    "First, we evaluate all the classifiers listed above with SMS Data to see their performance."
   ]
  },
  {
   "cell_type": "code",
   "execution_count": 29,
   "metadata": {
    "collapsed": false,
    "scrolled": true
   },
   "outputs": [
    {
     "name": "stdout",
     "output_type": "stream",
     "text": [
      "['SVM', 'Accuracy: 0.9842', 'f1: 0.9380 ', 'Precision: 0.9868', 'Recall: 0.8943']\n",
      "['LinearSVC', 'Accuracy: 0.9833', 'f1: 0.9341 ', 'Precision: 0.9869', 'Recall: 0.8875']\n",
      "['SGD', 'Accuracy: 0.9846', 'f1: 0.9408 ', 'Precision: 0.9855', 'Recall: 0.9036']\n",
      "['DecisionTree', 'Accuracy: 0.9715', 'f1: 0.8913 ', 'Precision: 0.9082', 'Recall: 0.8767']\n",
      "['AdaBoost', 'Accuracy: 0.9745', 'f1: 0.9004 ', 'Precision: 0.9432', 'Recall: 0.8634']\n",
      "['RandomForest', 'Accuracy: 0.9738', 'f1: 0.8903 ', 'Precision: 0.9982', 'Recall: 0.7898']\n",
      "['KNeighbors', 'Accuracy: 0.9244', 'f1: 0.6062 ', 'Precision: 1.0000', 'Recall: 0.4365']\n"
     ]
    }
   ],
   "source": [
    "# Run the classifiers, get their statistics, and print them for SMS data\n",
    "SVM = evaluate_classifier(\"SVM\", sms_train_tfidf, SMS_train_target)\n",
    "LinearSVC = evaluate_classifier(\"LinearSVC\", sms_train_tfidf, SMS_train_target)\n",
    "SGD = evaluate_classifier(\"SGD\", sms_train_tfidf, SMS_train_target)\n",
    "DecisionTree = evaluate_classifier(\"DecisionTree\", sms_train_tfidf, SMS_train_target)\n",
    "AdaBoost = evaluate_classifier(\"AdaBoost\", sms_train_tfidf, SMS_train_target)\n",
    "RandomForest = evaluate_classifier(\"RandomForest\", sms_train_tfidf, SMS_train_target)\n",
    "KNeighbors = evaluate_classifier(\"KNeighbors\", sms_train_tfidf, SMS_train_target)\n",
    "\n",
    "print(SVM)\n",
    "print(LinearSVC)\n",
    "print(SGD)\n",
    "print(DecisionTree)\n",
    "print(AdaBoost)\n",
    "print(RandomForest)\n",
    "print(KNeighbors)"
   ]
  },
  {
   "cell_type": "markdown",
   "metadata": {},
   "source": [
    "#### Email Data"
   ]
  },
  {
   "cell_type": "markdown",
   "metadata": {},
   "source": [
    "Next, we evaluate classifiers with email data"
   ]
  },
  {
   "cell_type": "code",
   "execution_count": 30,
   "metadata": {
    "collapsed": false,
    "scrolled": true
   },
   "outputs": [
    {
     "name": "stdout",
     "output_type": "stream",
     "text": [
      "['SVM', 'Accuracy: 0.9927', 'f1: 0.9926 ', 'Precision: 0.9959', 'Recall: 0.9896']\n",
      "['LinearSVC', 'Accuracy: 0.9927', 'f1: 0.9926 ', 'Precision: 0.9959', 'Recall: 0.9896']\n",
      "['SGD', 'Accuracy: 0.9896', 'f1: 0.9905 ', 'Precision: 0.9959', 'Recall: 0.9917']\n",
      "['DecisionTree', 'Accuracy: 0.9469', 'f1: 0.9479 ', 'Precision: 0.9324', 'Recall: 0.9646']\n",
      "['AdaBoost', 'Accuracy: 0.9792', 'f1: 0.9791 ', 'Precision: 0.9813', 'Recall: 0.9771']\n",
      "['RandomForest', 'Accuracy: 0.9667', 'f1: 0.9692 ', 'Precision: 0.9852', 'Recall: 0.9708']\n",
      "['KNeighbors', 'Accuracy: 0.9708', 'f1: 0.9717 ', 'Precision: 0.9578', 'Recall: 0.9875']\n"
     ]
    }
   ],
   "source": [
    "# Run the classifiers, get their statistics, and print them for Email data\n",
    "SVM = evaluate_classifier(\"SVM\", email_train_tfidf, email_train_target)\n",
    "LinearSVC = evaluate_classifier(\"LinearSVC\", email_train_tfidf, email_train_target)\n",
    "SGD = evaluate_classifier(\"SGD\", email_train_tfidf, email_train_target)\n",
    "DecisionTree = evaluate_classifier(\"DecisionTree\", email_train_tfidf, email_train_target)\n",
    "AdaBoost = evaluate_classifier(\"AdaBoost\", email_train_tfidf, email_train_target)\n",
    "RandomForest = evaluate_classifier(\"RandomForest\", email_train_tfidf, email_train_target)\n",
    "KNeighbors = evaluate_classifier(\"KNeighbors\", email_train_tfidf, email_train_target)\n",
    "\n",
    "print(SVM)\n",
    "print(LinearSVC)\n",
    "print(SGD)\n",
    "print(DecisionTree)\n",
    "print(AdaBoost)\n",
    "print(RandomForest)\n",
    "print(KNeighbors)"
   ]
  },
  {
   "cell_type": "markdown",
   "metadata": {},
   "source": [
    "<a id='9'></a>\n",
    "### Analyzing Classifier Performance"
   ]
  },
  {
   "cell_type": "markdown",
   "metadata": {},
   "source": [
    "Interestingly, when the code above is run, the statistics change per run, but through our testing, we can see that SVM, LinearSVC, and SGD, perform best on SMS data followed by DecisionTree and RandomForest. For emails, SVM, LinearSVC, and SGD come out on top while AdaBoost and RandomForest closely follow behind. In this tutorial, we base the ranking of classifiers on their accuracy and f1 scores. "
   ]
  },
  {
   "cell_type": "markdown",
   "metadata": {
    "collapsed": true
   },
   "source": [
    "<a id='10'></a>\n",
    "### Example Application of Chosen Best Classifier on SMS and Email Messages"
   ]
  },
  {
   "cell_type": "markdown",
   "metadata": {},
   "source": [
    "The classifier that we choose here for prediction is the SVM classifier. The two functions below will use the SVM classifier to predict SMS and email spam/ham messages respectively."
   ]
  },
  {
   "cell_type": "markdown",
   "metadata": {},
   "source": [
    "#### SMS Labeler"
   ]
  },
  {
   "cell_type": "code",
   "execution_count": 31,
   "metadata": {
    "collapsed": true
   },
   "outputs": [],
   "source": [
    "# Method that uses SVM classifier to classify SMS text as spam or ham\n",
    "def label_SMS(message):\n",
    "        \n",
    "    # Fit classifier to our data\n",
    "    svm_clf = svm.SVC(kernel='linear', C=1).fit(sms_train_tfidf, SMS_train_target)\n",
    "        \n",
    "    docs_new = []\n",
    "    docs_new.append(message)\n",
    "        \n",
    "    # Transform data\n",
    "    X_new_counts = sms_count_vect.transform(docs_new)\n",
    "    X_new_tfidf = sms_tfidf_transformer.transform(X_new_counts)\n",
    "    predicted = svm_clf.predict(X_new_tfidf)\n",
    "        \n",
    "    # Return the predicted value for the given message\n",
    "    return predicted"
   ]
  },
  {
   "cell_type": "markdown",
   "metadata": {},
   "source": [
    "Next, we use the SVM classifier in the function above to predict the labels of 5 different spam/ham SMS messages."
   ]
  },
  {
   "cell_type": "code",
   "execution_count": 32,
   "metadata": {
    "collapsed": false
   },
   "outputs": [
    {
     "data": {
      "text/plain": [
       "0"
      ]
     },
     "execution_count": 32,
     "metadata": {},
     "output_type": "execute_result"
    }
   ],
   "source": [
    "label_SMS(\"oh...k. i'm watchin here\")[0]"
   ]
  },
  {
   "cell_type": "code",
   "execution_count": 33,
   "metadata": {
    "collapsed": false
   },
   "outputs": [
    {
     "data": {
      "text/plain": [
       "1"
      ]
     },
     "execution_count": 33,
     "metadata": {},
     "output_type": "execute_result"
    }
   ],
   "source": [
    "label_SMS(\"Dear voucher holder, to claim this week's offer, click on this button\")[0]"
   ]
  },
  {
   "cell_type": "code",
   "execution_count": 34,
   "metadata": {
    "collapsed": false
   },
   "outputs": [
    {
     "data": {
      "text/plain": [
       "0"
      ]
     },
     "execution_count": 34,
     "metadata": {},
     "output_type": "execute_result"
    }
   ],
   "source": [
    "label_SMS(\"You've won millions!\")[0]"
   ]
  },
  {
   "cell_type": "code",
   "execution_count": 35,
   "metadata": {
    "collapsed": false
   },
   "outputs": [
    {
     "data": {
      "text/plain": [
       "0"
      ]
     },
     "execution_count": 35,
     "metadata": {},
     "output_type": "execute_result"
    }
   ],
   "source": [
    "label_SMS(\"sick..how've you been??\")[0]"
   ]
  },
  {
   "cell_type": "code",
   "execution_count": 36,
   "metadata": {
    "collapsed": false
   },
   "outputs": [
    {
     "data": {
      "text/plain": [
       "1"
      ]
     },
     "execution_count": 36,
     "metadata": {},
     "output_type": "execute_result"
    }
   ],
   "source": [
    "label_SMS(\"Call for rude chat..private line\")[0]"
   ]
  },
  {
   "cell_type": "markdown",
   "metadata": {},
   "source": [
    "#### Email Labeler"
   ]
  },
  {
   "cell_type": "code",
   "execution_count": 37,
   "metadata": {
    "collapsed": true
   },
   "outputs": [],
   "source": [
    "# Method that uses SVM classifier to classify email text as spam or ham\n",
    "def label_Email(message):\n",
    "        \n",
    "    # Fit classifier to our data\n",
    "    svm_clf = svm.SVC(kernel='linear', C=1).fit(email_train_tfidf, email_train_target)\n",
    "        \n",
    "    docs_new = []\n",
    "    docs_new.append(message)\n",
    "        \n",
    "    # Transform data\n",
    "    X_new_counts = email_count_vect.transform(docs_new)\n",
    "    X_new_tfidf = email_tfidf_transformer.transform(X_new_counts)\n",
    "    predicted = svm_clf.predict(X_new_tfidf)\n",
    "        \n",
    "    # Return the predicted value for the given message\n",
    "    return predicted"
   ]
  },
  {
   "cell_type": "markdown",
   "metadata": {},
   "source": [
    "Now, we use the SVM classifier in the function above to predict the labels of 5 different spam/ham email messages."
   ]
  },
  {
   "cell_type": "code",
   "execution_count": 38,
   "metadata": {
    "collapsed": false
   },
   "outputs": [
    {
     "data": {
      "text/plain": [
       "0"
      ]
     },
     "execution_count": 38,
     "metadata": {},
     "output_type": "execute_result"
    }
   ],
   "source": [
    "label_Email(\"Claim your prize. You've won millions!!\")[0]"
   ]
  },
  {
   "cell_type": "code",
   "execution_count": 39,
   "metadata": {
    "collapsed": false
   },
   "outputs": [
    {
     "data": {
      "text/plain": [
       "1"
      ]
     },
     "execution_count": 39,
     "metadata": {},
     "output_type": "execute_result"
    }
   ],
   "source": [
    "label_Email(\"Hi mom, how are you?\")[0]"
   ]
  },
  {
   "cell_type": "code",
   "execution_count": 40,
   "metadata": {
    "collapsed": false
   },
   "outputs": [
    {
     "data": {
      "text/plain": [
       "0"
      ]
     },
     "execution_count": 40,
     "metadata": {},
     "output_type": "execute_result"
    }
   ],
   "source": [
    "label_Email(\"You're bank statement is available\")[0]"
   ]
  },
  {
   "cell_type": "code",
   "execution_count": 41,
   "metadata": {
    "collapsed": false
   },
   "outputs": [
    {
     "data": {
      "text/plain": [
       "0"
      ]
     },
     "execution_count": 41,
     "metadata": {},
     "output_type": "execute_result"
    }
   ],
   "source": [
    "label_Email(\"You have just purchased an item worth $560, Please Responde\")[0]"
   ]
  },
  {
   "cell_type": "code",
   "execution_count": 42,
   "metadata": {
    "collapsed": false
   },
   "outputs": [
    {
     "data": {
      "text/plain": [
       "0"
      ]
     },
     "execution_count": 42,
     "metadata": {},
     "output_type": "execute_result"
    }
   ],
   "source": [
    "label_Email(\"Congratulations! We are pleased to offer you an internship for this summer!\")[0]"
   ]
  },
  {
   "cell_type": "markdown",
   "metadata": {},
   "source": [
    "<a id='11'></a>\n",
    "## Insight"
   ]
  },
  {
   "cell_type": "markdown",
   "metadata": {
    "collapsed": true
   },
   "source": [
    "Based on the results above, we can see that the SVM model correctly predicts whether a message is spam or ham most of the time. However, do note that the text classifier that we created is just a basic model. Therefore, the classifier doesn't accurately predict labels for all provided messages. Another weakness of this simple classifier is that it doesn't predict labels of messages in languages other than english. This is because we have trained our classifier only on english messages. Having a more diverse and bigger dataset will increase classifier performance as there is more data to train and test on. We have only used the SVM model for predicting labels here. You can also test to see how each one of the other classifiers such as LinearSVC, and SGD perform on the same data."
   ]
  },
  {
   "cell_type": "markdown",
   "metadata": {},
   "source": [
    "## Summary and References\n",
    "\n",
    "This tutorial showed you how to create a very basic spam text classifier using Scikit-Learn. If you are interested in learning more about text classification, Scikit-Learn or machine learning in general, please feel free to visit the following websites.\n",
    "\n",
    "1. Kaggle: [https://www.kaggle.com/](https://www.kaggle.com/)\n",
    "2. Scikit-Learn: [http://scikit-learn.org/stable/](http://scikit-learn.org/stable/)\n",
    "3. Andrew Ng's Machine Learning course at Stanford: [https://www.coursera.org/learn/machine-learning](https://www.coursera.org/learn/machine-learning)\n",
    "4. UCI Machine Learning Repository: [https://archive.ics.uci.edu/ml/datasets/sms+spam+collection](https://archive.ics.uci.edu/ml/datasets/sms+spam+collection)\n",
    "5. Paper on Advanced Spam Filtering: [http://bid.berkeley.edu/cs294-1-spring12/images/archive/6/6a/20120515031244!Spam-lupher-engle-xin.pdf](http://bid.berkeley.edu/cs294-1-spring12/images/archive/6/6a/20120515031244!Spam-lupher-engle-xin.pdf)\n",
    "6. Our GitHub Repository - Spamifier: [https://github.com/aishmath123/aishmath123.github.io](https://github.com/aishmath123/aishmath123.github.io)"
   ]
  }
 ],
 "metadata": {
  "anaconda-cloud": {},
  "kernelspec": {
   "display_name": "Python [conda root]",
   "language": "python",
   "name": "conda-root-py"
  },
  "language_info": {
   "codemirror_mode": {
    "name": "ipython",
    "version": 3
   },
   "file_extension": ".py",
   "mimetype": "text/x-python",
   "name": "python",
   "nbconvert_exporter": "python",
   "pygments_lexer": "ipython3",
   "version": "3.5.2"
  }
 },
 "nbformat": 4,
 "nbformat_minor": 1
}
